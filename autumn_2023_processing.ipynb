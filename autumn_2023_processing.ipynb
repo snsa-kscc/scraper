{
 "cells": [
  {
   "cell_type": "code",
   "execution_count": 1,
   "metadata": {},
   "outputs": [],
   "source": [
    "import os\n",
    "from woocommerce import API\n",
    "from dotenv import load_dotenv\n",
    "\n",
    "load_dotenv()\n",
    "\n",
    "woocommerce_url = os.getenv(\"URL\")\n",
    "woocommerce_key = os.getenv(\"KEY\")\n",
    "woocommerce_secret = os.getenv(\"SECRET\")\n",
    "\n",
    "wc_api = API(\n",
    "    url=woocommerce_url,\n",
    "    consumer_key=woocommerce_key,\n",
    "    consumer_secret=woocommerce_secret,\n",
    "    version=\"wc/v3\",\n",
    ")"
   ]
  },
  {
   "cell_type": "code",
   "execution_count": 67,
   "metadata": {},
   "outputs": [],
   "source": [
    "params = {\n",
    "    # \"search\": \"\",\n",
    "    \"status\": \"publish\",\n",
    "    \"password_protected\": False,\n",
    "    \"stock_status\": \"instock\",\n",
    "    # \"public\": True,\n",
    "    \"per_page\": 95,\n",
    "}"
   ]
  },
  {
   "cell_type": "code",
   "execution_count": null,
   "metadata": {},
   "outputs": [],
   "source": [
    "products = wc_api.get(\"products\", params=params).json()"
   ]
  },
  {
   "cell_type": "code",
   "execution_count": 68,
   "metadata": {},
   "outputs": [],
   "source": [
    "all_products = []\n",
    "\n",
    "page = 1\n",
    "while True:\n",
    "    params[\"page\"] = page\n",
    "    products = wc_api.get(\"products\", params=params).json()\n",
    "    if not products:\n",
    "        break\n",
    "    all_products.extend(products)\n",
    "    page += 1"
   ]
  },
  {
   "cell_type": "code",
   "execution_count": 69,
   "metadata": {},
   "outputs": [
    {
     "data": {
      "text/plain": [
       "765"
      ]
     },
     "execution_count": 69,
     "metadata": {},
     "output_type": "execute_result"
    }
   ],
   "source": [
    "len(all_products)"
   ]
  },
  {
   "cell_type": "code",
   "execution_count": 70,
   "metadata": {},
   "outputs": [],
   "source": [
    "filtered_products = []\n",
    "\n",
    "for product in all_products:\n",
    "    attributes = product.get(\"attributes\", [])\n",
    "    for attribute in attributes:\n",
    "        if attribute.get(\"name\") == \"Brend\" and \"Saucony\" in attribute.get(\n",
    "            \"options\", []\n",
    "        ):\n",
    "            filtered_products.append(product)"
   ]
  },
  {
   "cell_type": "code",
   "execution_count": 71,
   "metadata": {},
   "outputs": [
    {
     "data": {
      "text/plain": [
       "362"
      ]
     },
     "execution_count": 71,
     "metadata": {},
     "output_type": "execute_result"
    }
   ],
   "source": [
    "len(filtered_products)"
   ]
  },
  {
   "cell_type": "markdown",
   "metadata": {},
   "source": [
    "for i in originals_id_list:\n",
    "product = wc_api.get(f'products/{i}').json()\n",
    "print(product['date_created'])\n"
   ]
  },
  {
   "cell_type": "markdown",
   "metadata": {},
   "source": [
    "wc_api.get(\"products\", params={\"per_page\": 20}).json()\n"
   ]
  },
  {
   "cell_type": "markdown",
   "metadata": {},
   "source": [
    "product_sku = '006272-108'\n",
    "product = wc_api.get('products', params={\"sku\":product_sku}).json()\n"
   ]
  },
  {
   "cell_type": "code",
   "execution_count": null,
   "metadata": {},
   "outputs": [],
   "source": [
    "low_products = []\n",
    "\n",
    "for product_id in filtered_products:\n",
    "    total_stock = 0\n",
    "    variations = wc_api.get(f\"products/{product_id}/variations\").json()\n",
    "\n",
    "    for variation in variations:\n",
    "        stock_quantity = variation[\"stock_quantity\"]\n",
    "        total_stock += stock_quantity if stock_quantity is not None else 0\n",
    "\n",
    "    if total_stock <= 3:\n",
    "        low_products.append(product_id)"
   ]
  },
  {
   "cell_type": "code",
   "execution_count": 7,
   "metadata": {},
   "outputs": [],
   "source": [
    "arena_with_stock = []\n",
    "\n",
    "for product in filtered_products:\n",
    "    total_stock = 0\n",
    "    product_id = product[\"id\"]\n",
    "    variations = wc_api.get(f\"products/{product_id}/variations\").json()\n",
    "\n",
    "    for variation in variations:\n",
    "        stock_quantity = variation[\"stock_quantity\"]\n",
    "        total_stock += stock_quantity if stock_quantity is not None else 0\n",
    "\n",
    "    if total_stock != 0:\n",
    "        arena_with_stock.append(product)"
   ]
  },
  {
   "cell_type": "code",
   "execution_count": 8,
   "metadata": {},
   "outputs": [
    {
     "data": {
      "text/plain": [
       "123"
      ]
     },
     "execution_count": 8,
     "metadata": {},
     "output_type": "execute_result"
    }
   ],
   "source": [
    "len(arena_with_stock)"
   ]
  },
  {
   "cell_type": "code",
   "execution_count": 10,
   "metadata": {},
   "outputs": [
    {
     "data": {
      "text/plain": [
       "[4769,\n",
       " 1495,\n",
       " 4144,\n",
       " 4142,\n",
       " 4140,\n",
       " 4138,\n",
       " 4785,\n",
       " 4136,\n",
       " 4130,\n",
       " 4128,\n",
       " 4126,\n",
       " 4124,\n",
       " 4122,\n",
       " 1693,\n",
       " 7870,\n",
       " 7867,\n",
       " 18115,\n",
       " 18110,\n",
       " 1479,\n",
       " 1478,\n",
       " 18104,\n",
       " 18102,\n",
       " 18100,\n",
       " 9968,\n",
       " 7851,\n",
       " 7849,\n",
       " 9963,\n",
       " 9956,\n",
       " 9933,\n",
       " 18108,\n",
       " 18106,\n",
       " 9976,\n",
       " 9973,\n",
       " 1476,\n",
       " 9980,\n",
       " 7884,\n",
       " 1480,\n",
       " 1482,\n",
       " 1481,\n",
       " 1475,\n",
       " 1474,\n",
       " 1468,\n",
       " 1467,\n",
       " 7875,\n",
       " 7841,\n",
       " 7880,\n",
       " 18098,\n",
       " 18096,\n",
       " 4781,\n",
       " 9984,\n",
       " 1472,\n",
       " 1471,\n",
       " 1470,\n",
       " 1469,\n",
       " 9939,\n",
       " 1483,\n",
       " 4809,\n",
       " 7889,\n",
       " 4803,\n",
       " 9989,\n",
       " 1684,\n",
       " 4777,\n",
       " 4775,\n",
       " 9950,\n",
       " 9943,\n",
       " 1490,\n",
       " 1489,\n",
       " 1488,\n",
       " 1487,\n",
       " 1486,\n",
       " 4773,\n",
       " 1691,\n",
       " 9931,\n",
       " 1492,\n",
       " 1491,\n",
       " 7861,\n",
       " 7855,\n",
       " 4789,\n",
       " 4779,\n",
       " 4771,\n",
       " 7853,\n",
       " 1695,\n",
       " 1694,\n",
       " 1498,\n",
       " 1499,\n",
       " 1697,\n",
       " 1696,\n",
       " 1698,\n",
       " 1700,\n",
       " 1699,\n",
       " 1514,\n",
       " 4801,\n",
       " 1503,\n",
       " 1502,\n",
       " 1500,\n",
       " 1504,\n",
       " 1690,\n",
       " 4793,\n",
       " 1505,\n",
       " 1506,\n",
       " 4795,\n",
       " 1701,\n",
       " 1507,\n",
       " 1508,\n",
       " 4817,\n",
       " 1513,\n",
       " 1511,\n",
       " 1510,\n",
       " 1509,\n",
       " 1484,\n",
       " 1485,\n",
       " 1516,\n",
       " 1517,\n",
       " 1520,\n",
       " 1519,\n",
       " 1518,\n",
       " 1692,\n",
       " 1494,\n",
       " 1493,\n",
       " 1496,\n",
       " 4799,\n",
       " 1473,\n",
       " 1497]"
      ]
     },
     "execution_count": 10,
     "metadata": {},
     "output_type": "execute_result"
    }
   ],
   "source": [
    "selected_ids = [product[\"id\"] for product in arena_with_stock]\n",
    "selected_ids"
   ]
  },
  {
   "cell_type": "code",
   "execution_count": null,
   "metadata": {},
   "outputs": [],
   "source": []
  },
  {
   "cell_type": "code",
   "execution_count": null,
   "metadata": {},
   "outputs": [],
   "source": []
  },
  {
   "cell_type": "code",
   "execution_count": null,
   "metadata": {},
   "outputs": [],
   "source": [
    "len(low_products)"
   ]
  },
  {
   "cell_type": "code",
   "execution_count": null,
   "metadata": {},
   "outputs": [],
   "source": [
    "print(low_products)"
   ]
  },
  {
   "cell_type": "code",
   "execution_count": null,
   "metadata": {},
   "outputs": [],
   "source": [
    "def add_categories_to_product(product_id, new_category_ids):\n",
    "    product = wc_api.get(f\"products/{product_id}\").json()\n",
    "    existing_category_ids = [category[\"id\"] for category in product[\"categories\"]]\n",
    "\n",
    "    categories_to_update = list(set(existing_category_ids + new_category_ids))\n",
    "\n",
    "    updated_categories = [{\"id\": cat_id} for cat_id in categories_to_update]\n",
    "\n",
    "    updated_product = {\"categories\": updated_categories}\n",
    "    print(wc_api.put(f\"products/{product_id}\", data=updated_product))"
   ]
  },
  {
   "cell_type": "code",
   "execution_count": null,
   "metadata": {},
   "outputs": [],
   "source": [
    "category_ids_to_add = [151, 132, 152]"
   ]
  },
  {
   "cell_type": "code",
   "execution_count": null,
   "metadata": {},
   "outputs": [],
   "source": [
    "for single_product in low_products:\n",
    "    add_categories_to_product(single_product, category_ids_to_add)"
   ]
  },
  {
   "cell_type": "markdown",
   "metadata": {},
   "source": [
    "product_id = 14689\n",
    "\n",
    "product = wc_api.get(f\"products/{product_id}\").json()\n",
    "\n",
    "if 'variations' in product and len(product['variations']) > 0:\n",
    "variation_id = product['variations'][0]\n",
    "variation = wc_api.get(f\"products/{variation_id}\").json()\n",
    "\n",
    "    regular_price = float(\n",
    "        variation['regular_price']) if 'regular_price' in variation else 0.0\n",
    "    sale_price = float(variation['sale_price']\n",
    "                       ) if 'sale_price' in variation else 0.0\n",
    "\n",
    "    if regular_price != 0:\n",
    "        percentage_difference = (\n",
    "            (regular_price - sale_price) / regular_price) * 100\n",
    "        print(\n",
    "            f\"The percentage difference between regular price and sale price is: {percentage_difference:.2f}%\")\n",
    "    else:\n",
    "        print(\"Regular price is not available.\")\n",
    "\n",
    "else:\n",
    "print(\"Product has no variations.\")\n"
   ]
  },
  {
   "cell_type": "code",
   "execution_count": null,
   "metadata": {},
   "outputs": [],
   "source": [
    "percentage_ranges = {\n",
    "    \"0-0\": [],\n",
    "    \"20-20\": [],\n",
    "    \"30-30\": [],\n",
    "    \"40-40\": [],\n",
    "    \"45-45\": [],\n",
    "    \"48-48\": [],\n",
    "    \"50-50\": [],\n",
    "    \"56-56\": [],\n",
    "    \"60-60\": [],\n",
    "    \"65-65\": [],\n",
    "    \"75-75\": [],\n",
    "    \"76-76\": [],\n",
    "    \"77-77\": [],\n",
    "}\n",
    "\n",
    "\n",
    "def calculate_percentage_difference(regular_price, sale_price, id):\n",
    "    if regular_price != 0:\n",
    "        percentage_diff = ((regular_price - sale_price) / regular_price) * 100\n",
    "        rounded_percentage = round(percentage_diff, 1)\n",
    "        return rounded_percentage\n",
    "    print(id)\n",
    "    return 0.0\n",
    "\n",
    "\n",
    "for product_id in filtered_products:\n",
    "    product = wc_api.get(f\"products/{product_id}\").json()\n",
    "    if \"variations\" in product and len(product[\"variations\"]) > 0:\n",
    "        variation_id = product[\"variations\"][0]\n",
    "        variation = wc_api.get(f\"products/{variation_id}\").json()\n",
    "\n",
    "        regular_price = (\n",
    "            float(variation[\"regular_price\"]) if \"regular_price\" != \"\" else 0.0\n",
    "        )\n",
    "        sale_price = (\n",
    "            float(variation[\"sale_price\"])\n",
    "            if variation[\"sale_price\"] != \"\"\n",
    "            else regular_price\n",
    "        )\n",
    "\n",
    "        percentage_difference = calculate_percentage_difference(\n",
    "            regular_price, sale_price, product_id\n",
    "        )\n",
    "\n",
    "        for range_name, range_values in percentage_ranges.items():\n",
    "            start, end = map(int, range_name.split(\"-\"))\n",
    "            if start <= percentage_difference <= end:\n",
    "                range_values.append(product_id)\n",
    "                break"
   ]
  },
  {
   "cell_type": "code",
   "execution_count": null,
   "metadata": {},
   "outputs": [],
   "source": [
    "percentage_ranges = {\n",
    "    \"0-0\": [],\n",
    "    \"20-20\": [],\n",
    "    \"30-30\": [],\n",
    "    \"40-40\": [],\n",
    "    \"45-45\": [],\n",
    "    \"48-48\": [],\n",
    "    \"50-50\": [],\n",
    "    \"56-56\": [],\n",
    "    \"60-60\": [],\n",
    "    \"65-65\": [],\n",
    "    \"75-75\": [],\n",
    "    \"76-76\": [],\n",
    "    \"77-77\": [],\n",
    "}\n",
    "\n",
    "\n",
    "def calculate_percentage_difference(regular_price, sale_price, id):\n",
    "    if regular_price != 0:\n",
    "        percentage_diff = ((regular_price - sale_price) / regular_price) * 100\n",
    "        rounded_percentage = round(percentage_diff, 1)\n",
    "        return rounded_percentage\n",
    "    print(id)\n",
    "    return 0.0\n",
    "\n",
    "\n",
    "for product in filtered_products:\n",
    "    print(product[\"id\"])\n",
    "    if \"variations\" in product and len(product[\"variations\"]) > 0:\n",
    "        variation_id = product[\"variations\"][0]\n",
    "        variation = wc_api.get(f\"products/{variation_id}\").json()\n",
    "\n",
    "        regular_price = (\n",
    "            float(variation[\"regular_price\"]) if \"regular_price\" != \"\" else 0.0\n",
    "        )\n",
    "        sale_price = (\n",
    "            float(variation[\"sale_price\"])\n",
    "            if variation[\"sale_price\"] != \"\"\n",
    "            else regular_price\n",
    "        )\n",
    "\n",
    "        percentage_difference = calculate_percentage_difference(\n",
    "            regular_price, sale_price, product[\"id\"]\n",
    "        )\n",
    "\n",
    "        for range_name, range_values in percentage_ranges.items():\n",
    "            start, end = map(int, range_name.split(\"-\"))\n",
    "            if start <= percentage_difference <= end:\n",
    "                range_values.append(product[\"id\"])\n",
    "                break"
   ]
  },
  {
   "cell_type": "code",
   "execution_count": null,
   "metadata": {},
   "outputs": [],
   "source": [
    "total_products = sum(len(product_ids) for product_ids in percentage_ranges.values())\n",
    "total_products"
   ]
  },
  {
   "cell_type": "code",
   "execution_count": null,
   "metadata": {},
   "outputs": [],
   "source": [
    "total_products == len(filtered_products)"
   ]
  },
  {
   "cell_type": "code",
   "execution_count": null,
   "metadata": {},
   "outputs": [],
   "source": [
    "print(percentage_ranges)"
   ]
  },
  {
   "cell_type": "code",
   "execution_count": 11,
   "metadata": {},
   "outputs": [],
   "source": [
    "def get_product_price(product_id):\n",
    "    product = wc_api.get(f\"products/{product_id}\").json()\n",
    "    if \"variations\" in product and len(product[\"variations\"]) > 0:\n",
    "        variation_id = product[\"variations\"][0]\n",
    "        variation = wc_api.get(f\"products/{variation_id}\").json()\n",
    "    if variation[\"price\"] == \"\":\n",
    "        print(product_id)\n",
    "    return float(variation[\"price\"]) if variation[\"price\"] != \"\" else 0.0"
   ]
  },
  {
   "cell_type": "code",
   "execution_count": null,
   "metadata": {},
   "outputs": [],
   "source": [
    "def get_product_price(product_id):\n",
    "    for product in filtered_products:\n",
    "        if product.get(\"id\") == product_id:\n",
    "            if \"variations\" in product and len(product[\"variations\"]) > 0:\n",
    "                variation_id = product[\"variations\"][0]\n",
    "                variation = wc_api.get(f\"products/{variation_id}\").json()\n",
    "            if variation[\"price\"] == \"\":\n",
    "                print(product_id)\n",
    "            return float(variation[\"price\"]) if variation[\"price\"] != \"\" else 0.0"
   ]
  },
  {
   "cell_type": "code",
   "execution_count": null,
   "metadata": {},
   "outputs": [],
   "source": [
    "for range_name, product_ids in percentage_ranges.items():\n",
    "    sorted_product_ids = sorted(product_ids, key=get_product_price, reverse=True)\n",
    "    percentage_ranges[range_name] = sorted_product_ids"
   ]
  },
  {
   "cell_type": "code",
   "execution_count": null,
   "metadata": {},
   "outputs": [],
   "source": [
    "sum(len(product_ids) for product_ids in percentage_ranges.values())"
   ]
  },
  {
   "cell_type": "code",
   "execution_count": null,
   "metadata": {},
   "outputs": [],
   "source": [
    "print(percentage_ranges)"
   ]
  },
  {
   "cell_type": "code",
   "execution_count": 12,
   "metadata": {},
   "outputs": [],
   "source": [
    "sorted_selected_ids = sorted(selected_ids, key=get_product_price, reverse=True)"
   ]
  },
  {
   "cell_type": "code",
   "execution_count": 2,
   "metadata": {},
   "outputs": [],
   "source": [
    "from datetime import datetime, timedelta"
   ]
  },
  {
   "cell_type": "code",
   "execution_count": 3,
   "metadata": {},
   "outputs": [],
   "source": [
    "product_ids = [\n",
    "    19959,\n",
    "    19320,\n",
    "    19313,\n",
    "    19274,\n",
    "    19282,\n",
    "    19948,\n",
    "    19342,\n",
    "    19331,\n",
    "    19303,\n",
    "    19267,\n",
    "    19236,\n",
    "    19228,\n",
    "    19218,\n",
    "    19293,\n",
    "    19256,\n",
    "    19246,\n",
    "]\n",
    "starting_time = datetime(2023, 9, 13, 4, 26, 2)"
   ]
  },
  {
   "cell_type": "code",
   "execution_count": 4,
   "metadata": {},
   "outputs": [
    {
     "name": "stdout",
     "output_type": "stream",
     "text": [
      "Updated date_created for product 19246\n",
      "Updated date_created for product 19256\n",
      "Updated date_created for product 19293\n",
      "Updated date_created for product 19218\n",
      "Updated date_created for product 19228\n",
      "Updated date_created for product 19236\n",
      "Updated date_created for product 19267\n",
      "Updated date_created for product 19303\n",
      "Updated date_created for product 19331\n",
      "Updated date_created for product 19342\n",
      "Updated date_created for product 19948\n",
      "Updated date_created for product 19282\n",
      "Updated date_created for product 19274\n",
      "Updated date_created for product 19313\n",
      "Updated date_created for product 19320\n",
      "Updated date_created for product 19959\n"
     ]
    }
   ],
   "source": [
    "for product_id in reversed(product_ids):\n",
    "    new_time_str = starting_time.strftime(\"%Y-%m-%dT%H:%M:%S\")\n",
    "\n",
    "    updated_product = {\"date_created\": new_time_str}\n",
    "    response = wc_api.put(f\"products/{product_id}\", data=updated_product)\n",
    "\n",
    "    if response.status_code == 200:\n",
    "        print(f\"Updated date_created for product {product_id}\")\n",
    "    else:\n",
    "        print(f\"Failed to update date_created for product {product_id}\")\n",
    "\n",
    "    starting_time += timedelta(minutes=10)"
   ]
  },
  {
   "cell_type": "code",
   "execution_count": null,
   "metadata": {},
   "outputs": [],
   "source": [
    "filtered_product_ids = [product[\"id\"] for product in filtered_products]"
   ]
  },
  {
   "cell_type": "code",
   "execution_count": null,
   "metadata": {},
   "outputs": [],
   "source": [
    "temp = [id for sublist in percentage_ranges.values() for id in sublist]"
   ]
  },
  {
   "cell_type": "code",
   "execution_count": null,
   "metadata": {},
   "outputs": [],
   "source": [
    "len(filtered_product_ids)"
   ]
  },
  {
   "cell_type": "code",
   "execution_count": null,
   "metadata": {},
   "outputs": [],
   "source": [
    "len(temp)"
   ]
  },
  {
   "cell_type": "code",
   "execution_count": null,
   "metadata": {},
   "outputs": [],
   "source": [
    "set(filtered_product_ids) - set(temp)"
   ]
  },
  {
   "cell_type": "code",
   "execution_count": null,
   "metadata": {},
   "outputs": [],
   "source": [
    "arr = [\n",
    "    7809,\n",
    "    7788,\n",
    "    14154,\n",
    "    14661,\n",
    "    7760,\n",
    "    18418,\n",
    "    7751,\n",
    "    14197,\n",
    "    14677,\n",
    "    14122,\n",
    "    14117,\n",
    "    14689,\n",
    "    14666,\n",
    "    14207,\n",
    "    14205,\n",
    "    14201,\n",
    "    14042,\n",
    "    14051,\n",
    "    14669,\n",
    "    14614,\n",
    "    14570,\n",
    "    14099,\n",
    "    14673,\n",
    "    14644,\n",
    "    14618,\n",
    "    14616,\n",
    "    14573,\n",
    "    14049,\n",
    "    14028,\n",
    "    14022,\n",
    "    14020,\n",
    "    14016,\n",
    "    14013,\n",
    "    14627,\n",
    "    14646,\n",
    "    14026,\n",
    "]\n",
    "\n",
    "for i in arr[:2]:\n",
    "    product = wc_api.get(f\"products/{i}\").json()\n",
    "    print(type(product[\"price\"]))"
   ]
  },
  {
   "cell_type": "code",
   "execution_count": 33,
   "metadata": {},
   "outputs": [
    {
     "data": {
      "text/plain": [
       "{'id': 1652,\n",
       " 'name': '2XU Propel:1 Wetsuit',\n",
       " 'slug': '2xu-propel1-wetsuit',\n",
       " 'permalink': 'https://www.jump2sport.hr/p/2xu-propel1-wetsuit/',\n",
       " 'date_created': '2023-01-10T11:56:02',\n",
       " 'date_created_gmt': '2023-01-10T10:56:02',\n",
       " 'date_modified': '2024-03-06T16:18:59',\n",
       " 'date_modified_gmt': '2024-03-06T15:18:59',\n",
       " 'type': 'variable',\n",
       " 'status': 'publish',\n",
       " 'featured': False,\n",
       " 'catalog_visibility': 'visible',\n",
       " 'description': '<div>\\n<p>Muško neoprensko odijelo za triatlon, Propel P:1 svestrani je izvođač opremljen mnogim tehničkim značajkama kako bi nadobudnim plivačima osiguralo prednost prilikom natjecanja.</p>\\n<h4><strong>Karakteristike</strong></h4>\\n<ul>\\n<li>Neoprensko odijelo pune dužine</li>\\n<li>SCS hidrodinamički premaz</li>\\n<li>Vrhunski japanski Yamamoto 39 Cell fleksibilni neopren na prednjem dijelu trupa</li>\\n<li>Stražnji panel iz vrhunskog japanskog Yamamoto 39 Cell, najlonom laminiranog izdržljivog neoprena</li>\\n<li>Plutajući patentni zatvarač</li>\\n<li>Rollbar tehnologija valjaka</li>\\n<li>Pogonska ploča potkoljenice</li>\\n<li>Tranzicijska ploča sa zglobom za brzo otvaranje</li>\\n<li>520% unutarnja rastezljiva podstava</li>\\n<li>Dvogodišnje jamstvo</li>\\n</ul>\\n<h4><strong>Debljina neoprena</strong></h4>\\n<ul>\\n<li>Prsni koš - 5 mm</li>\\n<li>Leđa - 3 mm</li>\\n<li>Ruke - 2 mm</li>\\n<li>Gornji dio nogu - 5 mm</li>\\n<li>Potkoljenice - 4 mm</li>\\n</ul>\\n<h4><strong>Koristi odjeće</strong></h4>\\n<p><strong>PLOVNOST I FLEKSIBILNOST</strong><br />\\nVrhunski japanski neopren Yamamoto 39 Cell, plovan no i dalje fleksibilan, varira debljinom po čitavoj površini odijela, pomičući vaše središte plutanja niže, sprječavajući spuštanje nogu te postavljajući vas u savršen vodoravni položaj za plivanje.</p>\\n<p><strong>SMANJEN OTPOR VODE</strong><br />\\nHidrodinamički premaz Super Composite Skin (SCS) smanjuje površinski otpor za veću brzinu.</p>\\n<p><strong>POVEĆANA UČINKOVITOST</strong><br />\\nReljefno udubljena zona hvatanja vode na rukavu, pojačava snagu i osjećaj vode, dok plutajući panel s patentnim zatvaračem povećava kretanje za poboljšanu udaljenost po zaveslaju.</p>\\n<p><strong>POBOLJŠANA ROTACIJA</strong><br />\\nRollbar tehnologija osigurava manje plutanja na obodu odijela, omogućujući bržu bočnu rotaciju i time uklanjajući pad tehnike u vašem slobodnom stilu.</p>\\n<p><strong>UNUTARNJA UDOBNOST I PODRŠKA</strong><br />\\nNaš panel za vrat uklanja šavove kako bi poboljšao udobnost i smanjio trljanje, dok je često zanemarena unutarnja obloga, projektirana za rastezanje od 520% kako bi se osigurala udobnost i niska apsorpcija.</p>\\n</div>\\n',\n",
       " 'short_description': '<p>Muško neopren odijelo za triatlon</p>\\n',\n",
       " 'sku': 'MW4991c',\n",
       " 'price': '',\n",
       " 'regular_price': '',\n",
       " 'sale_price': '',\n",
       " 'date_on_sale_from': None,\n",
       " 'date_on_sale_from_gmt': None,\n",
       " 'date_on_sale_to': None,\n",
       " 'date_on_sale_to_gmt': None,\n",
       " 'on_sale': False,\n",
       " 'purchasable': False,\n",
       " 'total_sales': 3,\n",
       " 'virtual': False,\n",
       " 'downloadable': False,\n",
       " 'downloads': [],\n",
       " 'download_limit': 0,\n",
       " 'download_expiry': 0,\n",
       " 'external_url': '',\n",
       " 'button_text': '',\n",
       " 'tax_status': 'none',\n",
       " 'tax_class': '',\n",
       " 'manage_stock': False,\n",
       " 'stock_quantity': None,\n",
       " 'backorders': 'no',\n",
       " 'backorders_allowed': False,\n",
       " 'backordered': False,\n",
       " 'low_stock_amount': None,\n",
       " 'sold_individually': False,\n",
       " 'weight': '',\n",
       " 'dimensions': {'length': '', 'width': '', 'height': ''},\n",
       " 'shipping_required': True,\n",
       " 'shipping_taxable': False,\n",
       " 'shipping_class': '',\n",
       " 'shipping_class_id': 0,\n",
       " 'reviews_allowed': False,\n",
       " 'average_rating': '0.00',\n",
       " 'rating_count': 0,\n",
       " 'upsell_ids': [],\n",
       " 'cross_sell_ids': [],\n",
       " 'parent_id': 0,\n",
       " 'purchase_note': '',\n",
       " 'categories': [{'id': 151, 'name': 'Outlet', 'slug': 'outlet-outlet'},\n",
       "  {'id': 152, 'name': 'Zadnje veličine', 'slug': 'zadnje-velicine'},\n",
       "  {'id': 132, 'name': 'OUTLET', 'slug': 'outlet'},\n",
       "  {'id': 21, 'name': 'Triatlon', 'slug': 'triatlon'},\n",
       "  {'id': 22, 'name': 'Odijela', 'slug': 'odijela-triatlon'}],\n",
       " 'tags': [],\n",
       " 'images': [{'id': 3944,\n",
       "   'date_created': '2022-09-18T15:09:53',\n",
       "   'date_created_gmt': '2022-09-18T11:09:53',\n",
       "   'date_modified': '2022-09-18T15:09:53',\n",
       "   'date_modified_gmt': '2022-09-18T11:09:53',\n",
       "   'src': 'https://www.jump2sport.hr/wp-content/uploads/2022/09/2XU-Propel_1-Wetsuit-Musko-neopren-odijelo-za-triatlon-1.png',\n",
       "   'name': '2XU-Propel_1-Wetsuit-Musko-neopren-odijelo-za-triatlon',\n",
       "   'alt': ''},\n",
       "  {'id': 3945,\n",
       "   'date_created': '2022-09-18T15:09:55',\n",
       "   'date_created_gmt': '2022-09-18T11:09:55',\n",
       "   'date_modified': '2022-09-18T15:09:55',\n",
       "   'date_modified_gmt': '2022-09-18T11:09:55',\n",
       "   'src': 'https://www.jump2sport.hr/wp-content/uploads/2022/09/2XU-Propel_1-Wetsuit-Musko-neopren-odijelo-za-triatlon-4-1.png',\n",
       "   'name': '2XU-Propel_1-Wetsuit-Musko-neopren-odijelo-za-triatlon-4',\n",
       "   'alt': ''}],\n",
       " 'attributes': [{'id': 1,\n",
       "   'name': 'Spol',\n",
       "   'position': 0,\n",
       "   'visible': True,\n",
       "   'variation': False,\n",
       "   'options': ['Muškarci']},\n",
       "  {'id': 2,\n",
       "   'name': 'Brend',\n",
       "   'position': 1,\n",
       "   'visible': True,\n",
       "   'variation': False,\n",
       "   'options': ['2XU']},\n",
       "  {'id': 4,\n",
       "   'name': 'Veličina',\n",
       "   'position': 2,\n",
       "   'visible': True,\n",
       "   'variation': True,\n",
       "   'options': ['M', 'L', 'LT']}],\n",
       " 'default_attributes': [],\n",
       " 'variations': [2316, 2317, 2318],\n",
       " 'grouped_products': [],\n",
       " 'menu_order': 0,\n",
       " 'price_html': '',\n",
       " 'related_ids': [1655, 1479, 1502, 1503, 1650],\n",
       " 'meta_data': [{'id': 67578,\n",
       "   'key': '_lowest_price_30_days',\n",
       "   'value': '1799.00'},\n",
       "  {'id': 71571, 'key': 'rank_math_internal_links_processed', 'value': '1'},\n",
       "  {'id': 71573, 'key': '__is_newly_created_product', 'value': ''},\n",
       "  {'id': 73113, 'key': '__first_variation_id', 'value': '2318'},\n",
       "  {'id': 74900, 'key': '_wp_old_date', 'value': '2022-09-18'},\n",
       "  {'id': 140659,\n",
       "   'key': '_rightpress_prices',\n",
       "   'value': '{\"88d1b7f5\":{\"s\":{\"2316\":{\"107e25a2\":{\"p\":\"191.01466587033\",\"t\":1710336189}},\"2317\":{\"107e25a2\":{\"p\":\"191.01466587033\",\"t\":1710336189}},\"2318\":{\"107e25a2\":{\"p\":\"191.01466587033\",\"t\":1710336189}}},\"r\":{\"2316\":{\"b12dd28e\":{\"p\":\"238.768332337912\",\"t\":1710336189}},\"2317\":{\"b12dd28e\":{\"p\":\"238.768332337912\",\"t\":1710336189}},\"2318\":{\"b12dd28e\":{\"p\":\"238.768332337912\",\"t\":1710336189}}}}}'},\n",
       "  {'id': 436971, 'key': 'rank_math_analytic_object_id', 'value': '5436'},\n",
       "  {'id': 511772, 'key': '_wp_old_date', 'value': '2022-08-17'},\n",
       "  {'id': 511773, 'key': '_sell_as_a_giftcard', 'value': 'no'}],\n",
       " 'stock_status': 'outofstock',\n",
       " 'has_options': True,\n",
       " '_links': {'self': [{'href': 'https://www.jump2sport.hr/wp-json/wc/v3/products/1652'}],\n",
       "  'collection': [{'href': 'https://www.jump2sport.hr/wp-json/wc/v3/products'}]}}"
      ]
     },
     "execution_count": 33,
     "metadata": {},
     "output_type": "execute_result"
    }
   ],
   "source": [
    "product = wc_api.get(\"products/1652\").json()\n",
    "product"
   ]
  },
  {
   "cell_type": "code",
   "execution_count": null,
   "metadata": {},
   "outputs": [],
   "source": []
  }
 ],
 "metadata": {
  "kernelspec": {
   "display_name": "Python 3",
   "language": "python",
   "name": "python3"
  },
  "language_info": {
   "codemirror_mode": {
    "name": "ipython",
    "version": 3
   },
   "file_extension": ".py",
   "mimetype": "text/x-python",
   "name": "python",
   "nbconvert_exporter": "python",
   "pygments_lexer": "ipython3",
   "version": "3.9.6"
  },
  "orig_nbformat": 4
 },
 "nbformat": 4,
 "nbformat_minor": 2
}
