{
 "cells": [
  {
   "cell_type": "code",
   "execution_count": 1,
   "metadata": {},
   "outputs": [],
   "source": [
    "import os\n",
    "from woocommerce import API\n",
    "from dotenv import load_dotenv\n",
    "\n",
    "load_dotenv()\n",
    "\n",
    "woocommerce_url = os.getenv('URL')\n",
    "woocommerce_key = os.getenv('KEY')\n",
    "woocommerce_secret = os.getenv('SECRET')\n",
    "\n",
    "wc_api = API(\n",
    "    url=woocommerce_url,\n",
    "    consumer_key=woocommerce_key,\n",
    "    consumer_secret=woocommerce_secret,\n",
    "    version='wc/v3'\n",
    ")\n"
   ]
  },
  {
   "cell_type": "code",
   "execution_count": 3,
   "metadata": {},
   "outputs": [],
   "source": [
    "params = {\n",
    "    'search': \"ARENA\",\n",
    "    'status': 'publish',\n",
    "    'password_protected': False,\n",
    "    'per_page': 55\n",
    "}\n"
   ]
  },
  {
   "cell_type": "code",
   "execution_count": null,
   "metadata": {},
   "outputs": [],
   "source": [
    "products = wc_api.get(\"products\", params=params).json()"
   ]
  },
  {
   "cell_type": "code",
   "execution_count": 4,
   "metadata": {},
   "outputs": [],
   "source": [
    "all_products = []\n",
    "\n",
    "page = 1\n",
    "while True:\n",
    "    params['page'] = page\n",
    "    products = wc_api.get(\"products\", params=params).json()\n",
    "    if not products:\n",
    "        break\n",
    "    all_products.extend(products)\n",
    "    page += 1\n"
   ]
  },
  {
   "cell_type": "code",
   "execution_count": 5,
   "metadata": {},
   "outputs": [],
   "source": [
    "filtered_products = []\n",
    "\n",
    "for product in all_products:\n",
    "    attributes = product.get('attributes', [])\n",
    "    for attribute in attributes:\n",
    "        if attribute.get('name') == 'Brend' and 'Arena' in attribute.get('options', []):\n",
    "            filtered_products.append(product)"
   ]
  },
  {
   "cell_type": "code",
   "execution_count": 6,
   "metadata": {},
   "outputs": [
    {
     "data": {
      "text/plain": [
       "150"
      ]
     },
     "execution_count": 6,
     "metadata": {},
     "output_type": "execute_result"
    }
   ],
   "source": [
    "len(filtered_products)"
   ]
  },
  {
   "cell_type": "markdown",
   "metadata": {},
   "source": [
    "for i in originals_id_list:\n",
    "    product = wc_api.get(f'products/{i}').json()\n",
    "    print(product['date_created'])"
   ]
  },
  {
   "cell_type": "markdown",
   "metadata": {},
   "source": [
    "wc_api.get(\"products\", params={\"per_page\": 20}).json()"
   ]
  },
  {
   "cell_type": "markdown",
   "metadata": {},
   "source": [
    "product_sku = '006272-108'\n",
    "product = wc_api.get('products', params={\"sku\":product_sku}).json()"
   ]
  },
  {
   "cell_type": "code",
   "execution_count": null,
   "metadata": {},
   "outputs": [],
   "source": [
    "low_products = []\n",
    "\n",
    "for product_id in filtered_products:\n",
    "    total_stock = 0 \n",
    "    variations = wc_api.get(f\"products/{product_id}/variations\").json()\n",
    "\n",
    "    for variation in variations:\n",
    "        stock_quantity = variation['stock_quantity']\n",
    "        total_stock += stock_quantity if stock_quantity is not None else 0\n",
    "    \n",
    "    if total_stock <= 3:\n",
    "        low_products.append(product_id)\n"
   ]
  },
  {
   "cell_type": "code",
   "execution_count": 7,
   "metadata": {},
   "outputs": [],
   "source": [
    "arena_with_stock = []\n",
    "\n",
    "for product in filtered_products:\n",
    "    total_stock = 0\n",
    "    product_id = product['id']\n",
    "    variations = wc_api.get(f\"products/{product_id}/variations\").json()\n",
    "\n",
    "    for variation in variations:\n",
    "        stock_quantity = variation['stock_quantity']\n",
    "        total_stock += stock_quantity if stock_quantity is not None else 0\n",
    "\n",
    "    if total_stock != 0:\n",
    "        arena_with_stock.append(product)\n"
   ]
  },
  {
   "cell_type": "code",
   "execution_count": 8,
   "metadata": {},
   "outputs": [
    {
     "data": {
      "text/plain": [
       "123"
      ]
     },
     "execution_count": 8,
     "metadata": {},
     "output_type": "execute_result"
    }
   ],
   "source": [
    "len(arena_with_stock)"
   ]
  },
  {
   "cell_type": "code",
   "execution_count": 10,
   "metadata": {},
   "outputs": [
    {
     "data": {
      "text/plain": [
       "[4769,\n",
       " 1495,\n",
       " 4144,\n",
       " 4142,\n",
       " 4140,\n",
       " 4138,\n",
       " 4785,\n",
       " 4136,\n",
       " 4130,\n",
       " 4128,\n",
       " 4126,\n",
       " 4124,\n",
       " 4122,\n",
       " 1693,\n",
       " 7870,\n",
       " 7867,\n",
       " 18115,\n",
       " 18110,\n",
       " 1479,\n",
       " 1478,\n",
       " 18104,\n",
       " 18102,\n",
       " 18100,\n",
       " 9968,\n",
       " 7851,\n",
       " 7849,\n",
       " 9963,\n",
       " 9956,\n",
       " 9933,\n",
       " 18108,\n",
       " 18106,\n",
       " 9976,\n",
       " 9973,\n",
       " 1476,\n",
       " 9980,\n",
       " 7884,\n",
       " 1480,\n",
       " 1482,\n",
       " 1481,\n",
       " 1475,\n",
       " 1474,\n",
       " 1468,\n",
       " 1467,\n",
       " 7875,\n",
       " 7841,\n",
       " 7880,\n",
       " 18098,\n",
       " 18096,\n",
       " 4781,\n",
       " 9984,\n",
       " 1472,\n",
       " 1471,\n",
       " 1470,\n",
       " 1469,\n",
       " 9939,\n",
       " 1483,\n",
       " 4809,\n",
       " 7889,\n",
       " 4803,\n",
       " 9989,\n",
       " 1684,\n",
       " 4777,\n",
       " 4775,\n",
       " 9950,\n",
       " 9943,\n",
       " 1490,\n",
       " 1489,\n",
       " 1488,\n",
       " 1487,\n",
       " 1486,\n",
       " 4773,\n",
       " 1691,\n",
       " 9931,\n",
       " 1492,\n",
       " 1491,\n",
       " 7861,\n",
       " 7855,\n",
       " 4789,\n",
       " 4779,\n",
       " 4771,\n",
       " 7853,\n",
       " 1695,\n",
       " 1694,\n",
       " 1498,\n",
       " 1499,\n",
       " 1697,\n",
       " 1696,\n",
       " 1698,\n",
       " 1700,\n",
       " 1699,\n",
       " 1514,\n",
       " 4801,\n",
       " 1503,\n",
       " 1502,\n",
       " 1500,\n",
       " 1504,\n",
       " 1690,\n",
       " 4793,\n",
       " 1505,\n",
       " 1506,\n",
       " 4795,\n",
       " 1701,\n",
       " 1507,\n",
       " 1508,\n",
       " 4817,\n",
       " 1513,\n",
       " 1511,\n",
       " 1510,\n",
       " 1509,\n",
       " 1484,\n",
       " 1485,\n",
       " 1516,\n",
       " 1517,\n",
       " 1520,\n",
       " 1519,\n",
       " 1518,\n",
       " 1692,\n",
       " 1494,\n",
       " 1493,\n",
       " 1496,\n",
       " 4799,\n",
       " 1473,\n",
       " 1497]"
      ]
     },
     "execution_count": 10,
     "metadata": {},
     "output_type": "execute_result"
    }
   ],
   "source": [
    "selected_ids = [product['id'] for product in arena_with_stock]\n",
    "selected_ids"
   ]
  },
  {
   "cell_type": "code",
   "execution_count": null,
   "metadata": {},
   "outputs": [],
   "source": []
  },
  {
   "cell_type": "code",
   "execution_count": null,
   "metadata": {},
   "outputs": [],
   "source": []
  },
  {
   "cell_type": "code",
   "execution_count": null,
   "metadata": {},
   "outputs": [],
   "source": [
    "len(low_products)"
   ]
  },
  {
   "cell_type": "code",
   "execution_count": null,
   "metadata": {},
   "outputs": [],
   "source": [
    "print(low_products)"
   ]
  },
  {
   "cell_type": "code",
   "execution_count": null,
   "metadata": {},
   "outputs": [],
   "source": [
    "def add_categories_to_product(product_id, new_category_ids):\n",
    "    product = wc_api.get(f\"products/{product_id}\").json()\n",
    "    existing_category_ids = [category['id'] for category in product['categories']]\n",
    "    \n",
    "    categories_to_update = list(set(existing_category_ids + new_category_ids))\n",
    "    \n",
    "    updated_categories = [{'id': cat_id} for cat_id in categories_to_update]\n",
    "\n",
    "    updated_product = {'categories': updated_categories}\n",
    "    print(wc_api.put(f\"products/{product_id}\", data=updated_product))"
   ]
  },
  {
   "cell_type": "code",
   "execution_count": null,
   "metadata": {},
   "outputs": [],
   "source": [
    "category_ids_to_add = [151, 132, 152]"
   ]
  },
  {
   "cell_type": "code",
   "execution_count": null,
   "metadata": {},
   "outputs": [],
   "source": [
    "for single_product in low_products:\n",
    "  add_categories_to_product(single_product, category_ids_to_add)"
   ]
  },
  {
   "cell_type": "markdown",
   "metadata": {},
   "source": [
    "product_id = 14689\n",
    "\n",
    "product = wc_api.get(f\"products/{product_id}\").json()\n",
    "\n",
    "if 'variations' in product and len(product['variations']) > 0:\n",
    "    variation_id = product['variations'][0]\n",
    "    variation = wc_api.get(f\"products/{variation_id}\").json()\n",
    "\n",
    "    regular_price = float(\n",
    "        variation['regular_price']) if 'regular_price' in variation else 0.0\n",
    "    sale_price = float(variation['sale_price']\n",
    "                       ) if 'sale_price' in variation else 0.0\n",
    "\n",
    "    if regular_price != 0:\n",
    "        percentage_difference = (\n",
    "            (regular_price - sale_price) / regular_price) * 100\n",
    "        print(\n",
    "            f\"The percentage difference between regular price and sale price is: {percentage_difference:.2f}%\")\n",
    "    else:\n",
    "        print(\"Regular price is not available.\")\n",
    "else:\n",
    "    print(\"Product has no variations.\")\n"
   ]
  },
  {
   "cell_type": "code",
   "execution_count": null,
   "metadata": {},
   "outputs": [],
   "source": [
    "percentage_ranges = {\n",
    "    '0-0': [],\n",
    "    '20-20': [],\n",
    "    '30-30': [],\n",
    "    '40-40': [],\n",
    "    '45-45': [],\n",
    "    '48-48': [],\n",
    "    '50-50': [],\n",
    "    '56-56': [],\n",
    "    '60-60': [],\n",
    "    '65-65': [],\n",
    "    '75-75': [],\n",
    "    '76-76': [],\n",
    "    '77-77': [],\n",
    "}\n",
    "\n",
    "\n",
    "def calculate_percentage_difference(regular_price, sale_price, id):\n",
    "    if regular_price != 0:\n",
    "        percentage_diff = ((regular_price - sale_price) / regular_price) * 100\n",
    "        rounded_percentage = round(percentage_diff, 1)\n",
    "        return rounded_percentage\n",
    "    print(id)\n",
    "    return 0.0\n",
    "\n",
    "\n",
    "for product_id in filtered_products:\n",
    "    product = wc_api.get(f\"products/{product_id}\").json()\n",
    "    if 'variations' in product and len(product['variations']) > 0:\n",
    "        variation_id = product['variations'][0]\n",
    "        variation = wc_api.get(f\"products/{variation_id}\").json()\n",
    "\n",
    "        regular_price = float(\n",
    "            variation['regular_price']) if 'regular_price' != '' else 0.0\n",
    "        sale_price = float(variation['sale_price']\n",
    "                           ) if variation['sale_price'] != '' else regular_price\n",
    "        \n",
    "        percentage_difference = calculate_percentage_difference(\n",
    "            regular_price, sale_price, product_id)\n",
    "\n",
    "        for range_name, range_values in percentage_ranges.items():\n",
    "            start, end = map(int, range_name.split('-'))\n",
    "            if start <= percentage_difference <= end:\n",
    "                range_values.append(product_id)\n",
    "                break"
   ]
  },
  {
   "cell_type": "code",
   "execution_count": null,
   "metadata": {},
   "outputs": [],
   "source": [
    "percentage_ranges = {\n",
    "    '0-0': [],\n",
    "    '20-20': [],\n",
    "    '30-30': [],\n",
    "    '40-40': [],\n",
    "    '45-45': [],\n",
    "    '48-48': [],\n",
    "    '50-50': [],\n",
    "    '56-56': [],\n",
    "    '60-60': [],\n",
    "    '65-65': [],\n",
    "    '75-75': [],\n",
    "    '76-76': [],\n",
    "    '77-77': [],\n",
    "}\n",
    "\n",
    "\n",
    "def calculate_percentage_difference(regular_price, sale_price, id):\n",
    "    if regular_price != 0:\n",
    "        percentage_diff = ((regular_price - sale_price) / regular_price) * 100\n",
    "        rounded_percentage = round(percentage_diff, 1)\n",
    "        return rounded_percentage\n",
    "    print(id)\n",
    "    return 0.0\n",
    "\n",
    "\n",
    "for product in filtered_products:\n",
    "    print(product['id'])\n",
    "    if 'variations' in product and len(product['variations']) > 0:\n",
    "        variation_id = product['variations'][0]\n",
    "        variation = wc_api.get(f\"products/{variation_id}\").json()\n",
    "\n",
    "        regular_price = float(\n",
    "            variation['regular_price']) if 'regular_price' != '' else 0.0\n",
    "        sale_price = float(variation['sale_price']\n",
    "                           ) if variation['sale_price'] != '' else regular_price\n",
    "\n",
    "        percentage_difference = calculate_percentage_difference(\n",
    "            regular_price, sale_price, product['id'])\n",
    "\n",
    "        for range_name, range_values in percentage_ranges.items():\n",
    "            start, end = map(int, range_name.split('-'))\n",
    "            if start <= percentage_difference <= end:\n",
    "                range_values.append(product['id'])\n",
    "                break\n"
   ]
  },
  {
   "cell_type": "code",
   "execution_count": null,
   "metadata": {},
   "outputs": [],
   "source": [
    "total_products = sum(len(product_ids)for product_ids in percentage_ranges.values())\n",
    "total_products"
   ]
  },
  {
   "cell_type": "code",
   "execution_count": null,
   "metadata": {},
   "outputs": [],
   "source": [
    "total_products == len(filtered_products)"
   ]
  },
  {
   "cell_type": "code",
   "execution_count": null,
   "metadata": {},
   "outputs": [],
   "source": [
    "print(percentage_ranges)"
   ]
  },
  {
   "cell_type": "code",
   "execution_count": 11,
   "metadata": {},
   "outputs": [],
   "source": [
    "def get_product_price(product_id):\n",
    "    product = wc_api.get(f\"products/{product_id}\").json()\n",
    "    if 'variations' in product and len(product['variations']) > 0:\n",
    "        variation_id = product['variations'][0]\n",
    "        variation = wc_api.get(f\"products/{variation_id}\").json()\n",
    "    if variation['price'] == '':\n",
    "        print(product_id)\n",
    "    return float(variation['price']) if variation['price'] != '' else 0.0\n"
   ]
  },
  {
   "cell_type": "code",
   "execution_count": null,
   "metadata": {},
   "outputs": [],
   "source": [
    "def get_product_price(product_id):\n",
    "    for product in filtered_products:\n",
    "        if product.get('id') == product_id:\n",
    "          if 'variations' in product and len(product['variations']) > 0:\n",
    "              variation_id = product['variations'][0]\n",
    "              variation = wc_api.get(f\"products/{variation_id}\").json()\n",
    "          if variation['price'] == '':\n",
    "              print(product_id)\n",
    "          return float(variation['price']) if variation['price'] != '' else 0.0\n"
   ]
  },
  {
   "cell_type": "code",
   "execution_count": null,
   "metadata": {},
   "outputs": [],
   "source": [
    "for range_name, product_ids in percentage_ranges.items():\n",
    "    sorted_product_ids = sorted(product_ids, key=get_product_price, reverse=True)\n",
    "    percentage_ranges[range_name] = sorted_product_ids"
   ]
  },
  {
   "cell_type": "code",
   "execution_count": null,
   "metadata": {},
   "outputs": [],
   "source": [
    "sum(len(product_ids)for product_ids in percentage_ranges.values())"
   ]
  },
  {
   "cell_type": "code",
   "execution_count": null,
   "metadata": {},
   "outputs": [],
   "source": [
    "print(percentage_ranges)"
   ]
  },
  {
   "cell_type": "code",
   "execution_count": 12,
   "metadata": {},
   "outputs": [],
   "source": [
    "sorted_selected_ids = sorted(selected_ids, key=get_product_price, reverse=True)"
   ]
  },
  {
   "cell_type": "code",
   "execution_count": 2,
   "metadata": {},
   "outputs": [],
   "source": [
    "from datetime import datetime, timedelta"
   ]
  },
  {
   "cell_type": "code",
   "execution_count": 3,
   "metadata": {},
   "outputs": [],
   "source": [
    "product_ids = [19959,\n",
    "               19320,\n",
    "               19313,\n",
    "               19274,\n",
    "               19282,\n",
    "               19948,\n",
    "               19342,\n",
    "               19331,\n",
    "               19303,\n",
    "               19267,\n",
    "               19236,\n",
    "               19228,\n",
    "               19218,\n",
    "               19293,\n",
    "               19256,\n",
    "               19246]\n",
    "starting_time = datetime(2023, 9, 13, 4, 26, 2)"
   ]
  },
  {
   "cell_type": "code",
   "execution_count": 4,
   "metadata": {},
   "outputs": [
    {
     "name": "stdout",
     "output_type": "stream",
     "text": [
      "Updated date_created for product 19246\n",
      "Updated date_created for product 19256\n",
      "Updated date_created for product 19293\n",
      "Updated date_created for product 19218\n",
      "Updated date_created for product 19228\n",
      "Updated date_created for product 19236\n",
      "Updated date_created for product 19267\n",
      "Updated date_created for product 19303\n",
      "Updated date_created for product 19331\n",
      "Updated date_created for product 19342\n",
      "Updated date_created for product 19948\n",
      "Updated date_created for product 19282\n",
      "Updated date_created for product 19274\n",
      "Updated date_created for product 19313\n",
      "Updated date_created for product 19320\n",
      "Updated date_created for product 19959\n"
     ]
    }
   ],
   "source": [
    "for product_id in reversed(product_ids):\n",
    "    new_time_str = starting_time.strftime('%Y-%m-%dT%H:%M:%S')\n",
    "\n",
    "    updated_product = {'date_created': new_time_str}\n",
    "    response = wc_api.put(f\"products/{product_id}\", data=updated_product)\n",
    "\n",
    "    if response.status_code == 200:\n",
    "        print(f\"Updated date_created for product {product_id}\")\n",
    "    else:\n",
    "        print(f\"Failed to update date_created for product {product_id}\")\n",
    "    \n",
    "    starting_time += timedelta(minutes=10)\n"
   ]
  },
  {
   "cell_type": "code",
   "execution_count": null,
   "metadata": {},
   "outputs": [],
   "source": [
    "filtered_product_ids = [product['id'] for product in filtered_products]"
   ]
  },
  {
   "cell_type": "code",
   "execution_count": null,
   "metadata": {},
   "outputs": [],
   "source": [
    "temp = [id for sublist in percentage_ranges.values() for id in sublist]"
   ]
  },
  {
   "cell_type": "code",
   "execution_count": null,
   "metadata": {},
   "outputs": [],
   "source": [
    "len(filtered_product_ids)"
   ]
  },
  {
   "cell_type": "code",
   "execution_count": null,
   "metadata": {},
   "outputs": [],
   "source": [
    "len(temp)"
   ]
  },
  {
   "cell_type": "code",
   "execution_count": null,
   "metadata": {},
   "outputs": [],
   "source": [
    "set(filtered_product_ids) - set(temp)"
   ]
  },
  {
   "cell_type": "code",
   "execution_count": null,
   "metadata": {},
   "outputs": [],
   "source": [
    "arr = [7809, 7788, 14154, 14661, 7760, 18418, 7751, 14197, 14677, 14122, 14117, 14689, 14666, 14207, 14205, 14201, 14042, 14051,\n",
    "       14669, 14614, 14570, 14099, 14673, 14644, 14618, 14616, 14573, 14049, 14028, 14022, 14020, 14016, 14013, 14627, 14646, 14026]\n",
    "\n",
    "for i in arr[:2]:\n",
    "    product = wc_api.get(f'products/{i}').json()\n",
    "    print(type(product['price']))"
   ]
  },
  {
   "cell_type": "code",
   "execution_count": null,
   "metadata": {},
   "outputs": [],
   "source": [
    "product = wc_api.get(\"products/9936\").json()\n",
    "product"
   ]
  },
  {
   "cell_type": "code",
   "execution_count": null,
   "metadata": {},
   "outputs": [],
   "source": []
  }
 ],
 "metadata": {
  "kernelspec": {
   "display_name": "Python 3",
   "language": "python",
   "name": "python3"
  },
  "language_info": {
   "codemirror_mode": {
    "name": "ipython",
    "version": 3
   },
   "file_extension": ".py",
   "mimetype": "text/x-python",
   "name": "python",
   "nbconvert_exporter": "python",
   "pygments_lexer": "ipython3",
   "version": "3.9.6"
  },
  "orig_nbformat": 4
 },
 "nbformat": 4,
 "nbformat_minor": 2
}
