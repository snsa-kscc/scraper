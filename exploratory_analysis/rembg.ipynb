{
 "cells": [
  {
   "cell_type": "code",
   "execution_count": null,
   "metadata": {},
   "outputs": [],
   "source": [
    "import os\n",
    "from rembg import remove\n",
    "from PIL import Image"
   ]
  },
  {
   "cell_type": "code",
   "execution_count": null,
   "metadata": {},
   "outputs": [],
   "source": [
    "root_dir = '/Library/WebServer/Documents/public/j2s/resizing/2023_3/'\n",
    "\n",
    "output_dir = '/Library/WebServer/Documents/public/j2s/resizing/2023_3/output/'\n",
    "\n",
    "\n",
    "for dirpath, dirnames, filenames in os.walk(root_dir):\n",
    "    os.makedirs(output_dir, exist_ok=True)\n",
    "    for filename in filenames:\n",
    "        if not filename.startswith('.'):\n",
    "            file_path = os.path.join(dirpath, filename)\n",
    "            try:\n",
    "                image = Image.open(file_path)\n",
    "                rembg_image = remove(image)\n",
    "                relative_path = os.path.relpath(file_path, root_dir)\n",
    "\n",
    "                relative_path = os.path.splitext(relative_path)[0] + '.png'\n",
    "\n",
    "                output_path = os.path.join(output_dir, relative_path)\n",
    "                os.makedirs(os.path.dirname(output_path), exist_ok=True)\n",
    "                rembg_image.save(output_path, format='PNG')\n",
    "                print(f\"Processed: {file_path}\")\n",
    "            except Exception as e:\n",
    "                print(f\"Failed to process: {file_path} {e}\")\n",
    "print(\"Done.\")\n"
   ]
  },
  {
   "cell_type": "code",
   "execution_count": null,
   "metadata": {},
   "outputs": [],
   "source": [
    "root_dir = '/Library/WebServer/Documents/public/j2s/resizing/2023_3/'\n",
    "\n",
    "output_dir = '/Library/WebServer/Documents/public/j2s/resizing/2023_3/output/'\n",
    "\n",
    "\n",
    "for dirpath, dirnames, filenames in os.walk(root_dir):\n",
    "    os.makedirs(output_dir, exist_ok=True)\n",
    "    for filename in filenames:\n",
    "        if not filename.startswith('.'):\n",
    "            print(filename)\n",
    "            print(dirpath)\n",
    "            file_path = os.path.join(dirpath, filename)\n",
    "            print(file_path)\n",
    "\n",
    "            relative_path = os.path.relpath(file_path, root_dir)\n",
    "            print(relative_path)\n",
    "            relative_path = os.path.splitext(relative_path)[0] + '.png'\n",
    "            print(relative_path)\n",
    "\n",
    "            output_path = os.path.join(output_dir, relative_path)\n",
    "            print(output_path)\n",
    "            print(os.path.dirname(output_path))\n",
    "            os.makedirs(os.path.dirname(output_path), exist_ok=True)\n",
    "print(\"Done.\")\n"
   ]
  }
 ],
 "metadata": {
  "kernelspec": {
   "display_name": "Python 3",
   "language": "python",
   "name": "python3"
  },
  "language_info": {
   "codemirror_mode": {
    "name": "ipython",
    "version": 3
   },
   "file_extension": ".py",
   "mimetype": "text/x-python",
   "name": "python",
   "nbconvert_exporter": "python",
   "pygments_lexer": "ipython3",
   "version": "3.9.6"
  },
  "orig_nbformat": 4
 },
 "nbformat": 4,
 "nbformat_minor": 2
}
