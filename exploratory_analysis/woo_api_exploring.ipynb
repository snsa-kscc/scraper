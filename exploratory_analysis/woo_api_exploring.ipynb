{
 "cells": [
  {
   "cell_type": "code",
   "execution_count": 1,
   "metadata": {},
   "outputs": [],
   "source": [
    "from woocommerce import API\n",
    "import os\n",
    "from dotenv import load_dotenv\n",
    "\n",
    "import re\n",
    "\n",
    "load_dotenv()\n",
    "\n",
    "woocommerce_url = os.getenv('URL')\n",
    "woocommerce_key = os.getenv('KEY')\n",
    "woocommerce_secret = os.getenv('SECRET')\n",
    "\n",
    "wc_api = API(\n",
    "    url=woocommerce_url,\n",
    "    consumer_key=woocommerce_key,\n",
    "    consumer_secret=woocommerce_secret,\n",
    "    version='wc/v3'\n",
    ")"
   ]
  },
  {
   "cell_type": "code",
   "execution_count": 3,
   "metadata": {},
   "outputs": [],
   "source": [
    "params = {\n",
    "    'search': \"SAUCONY\",\n",
    "    'status': 'publish',\n",
    "    'password_protected': False,\n",
    "    'per_page': 95\n",
    "}"
   ]
  },
  {
   "cell_type": "code",
   "execution_count": 4,
   "metadata": {},
   "outputs": [],
   "source": [
    "all_products = []\n",
    "\n",
    "page = 1\n",
    "while True:\n",
    "    params['page'] = page\n",
    "    products = wc_api.get(\"products\", params=params).json()\n",
    "    if not products:\n",
    "        break\n",
    "    all_products.extend(products)\n",
    "    page += 1"
   ]
  },
  {
   "cell_type": "code",
   "execution_count": null,
   "metadata": {},
   "outputs": [],
   "source": [
    "skus = [product['sku'] for product in all_products]\n",
    "skus"
   ]
  },
  {
   "cell_type": "code",
   "execution_count": 4,
   "metadata": {},
   "outputs": [
    {
     "data": {
      "text/plain": [
       "['SAUCONY Endorphin Speed 3',\n",
       " 'SAUCONY Peregrine 13',\n",
       " 'SAUCONY Endorphin Speed 3',\n",
       " 'SAUCONY Endorphin Pro 3',\n",
       " 'SAUCONY Endorphin Pro 3',\n",
       " 'SAUCONY Endorphin Speed 3',\n",
       " 'Sprava za učvrščivanje mišiča - THIGH MASTER - BS3166',\n",
       " 'BENCH - Kettle Bell 10 Kg',\n",
       " 'BENCH - Kettle Bell 8 Kg',\n",
       " 'BENCH - Kettle Bell 6 Kg',\n",
       " 'BENCH - Kettle Bell 4 Kg',\n",
       " 'BENCH Hand Dumbells C 2 Kg',\n",
       " 'BENCH Balance Bord',\n",
       " 'Omni 21',\n",
       " 'SAUCONY Ra Endorphine Singlet',\n",
       " 'SAUCONY Excursion TR11',\n",
       " 'Trisuit St 2.0 Front Zip',\n",
       " 'ARENA Classic Silicone Cap']"
      ]
     },
     "execution_count": 4,
     "metadata": {},
     "output_type": "execute_result"
    }
   ],
   "source": [
    "sun = [products['name'] for products in all_products]\n",
    "sun"
   ]
  },
  {
   "cell_type": "code",
   "execution_count": null,
   "metadata": {},
   "outputs": [],
   "source": [
    "sun68 = [product['name']+'-'+product['short_description']+'-'+\n",
    "         product['sku'] for product in all_products]\n",
    "proper_sun68 = [product.replace('-', '_') for product in sun68] \n",
    "sun68"
   ]
  },
  {
   "cell_type": "code",
   "execution_count": null,
   "metadata": {},
   "outputs": [],
   "source": [
    "sun68_values = []\n",
    "for item in sun68:\n",
    "  text = item.replace(' ', '-').replace('Ž', 'z').replace('š', 's').replace('M', 'm')\n",
    "  pattern = r'<\\/?p>|\\n(?!\\s*$)'\n",
    "  cleaned_text = re.sub(pattern, '', text)\n",
    "  sun68_values.append(cleaned_text)\n",
    "\n",
    "sun68_keys = [product['sku'] for product in all_products]\n"
   ]
  },
  {
   "cell_type": "code",
   "execution_count": null,
   "metadata": {},
   "outputs": [],
   "source": [
    "sun68_dict = dict(zip(sun68_keys, sun68_values))\n",
    "sun68_dict"
   ]
  },
  {
   "cell_type": "code",
   "execution_count": null,
   "metadata": {},
   "outputs": [],
   "source": [
    "for product in all_products[:45]:\n",
    "    attributes = product.get('attributes', [])\n",
    "    for attribute in attributes:\n",
    "        print(attribute)\n",
    "    print('---', product['short_description'])"
   ]
  },
  {
   "cell_type": "code",
   "execution_count": 5,
   "metadata": {},
   "outputs": [],
   "source": [
    "saucony_products = []\n",
    "\n",
    "for product in all_products:\n",
    "    attributes = product.get('attributes', [])\n",
    "    for attribute in attributes:\n",
    "        if attribute.get('name') == 'Brend' and 'Saucony' in attribute.get('options', []):\n",
    "            saucony_products.append(product)"
   ]
  },
  {
   "cell_type": "code",
   "execution_count": 6,
   "metadata": {},
   "outputs": [],
   "source": [
    "saucony_products_w_stock = []\n",
    "\n",
    "for product in saucony_products:\n",
    "    total_stock = 0\n",
    "    product_id = product['id']\n",
    "    variations = wc_api.get(f\"products/{product_id}/variations\").json()\n",
    "\n",
    "    for variation in variations:\n",
    "        stock_quantity = variation['stock_quantity']\n",
    "        total_stock += stock_quantity if stock_quantity is not None else 0\n",
    "\n",
    "    if total_stock != 0:\n",
    "        saucony_products_w_stock.append(product)\n"
   ]
  },
  {
   "cell_type": "code",
   "execution_count": 9,
   "metadata": {},
   "outputs": [
    {
     "data": {
      "text/plain": [
       "[19959,\n",
       " 19320,\n",
       " 19313,\n",
       " 19274,\n",
       " 19282,\n",
       " 19948,\n",
       " 19342,\n",
       " 19331,\n",
       " 19303,\n",
       " 19267,\n",
       " 19236,\n",
       " 19228,\n",
       " 19218,\n",
       " 19293,\n",
       " 19256,\n",
       " 19246]"
      ]
     },
     "execution_count": 9,
     "metadata": {},
     "output_type": "execute_result"
    }
   ],
   "source": [
    "filtered = [product['id'] for product in saucony_products_w_stock[12:28]]\n",
    "filtered"
   ]
  },
  {
   "cell_type": "code",
   "execution_count": null,
   "metadata": {},
   "outputs": [],
   "source": [
    "missing_sku = []\n",
    "\n",
    "for product in arena_products_w_stock:\n",
    "  short_description = product['short_description']\n",
    "  pattern = r'^(?!.*mušk.{1})(?!.*žensk.{1})(?!.*dje.{1}).*$'\n",
    "  attributes = product.get('attributes', [])\n",
    "  for attribute in attributes:\n",
    "      gender = [attr for attr in attributes if attr.get('name') == 'Spol']\n",
    "  if not gender and re.search(pattern, short_description, re.IGNORECASE):\n",
    "     missing_sku.append(product['sku'])\n",
    "\n",
    "missing_sku"
   ]
  },
  {
   "cell_type": "code",
   "execution_count": null,
   "metadata": {},
   "outputs": [],
   "source": [
    "for product in arena_products_w_stock:\n",
    "  attributes = product.get('attributes', [])\n",
    "  kind = [attr for attr in attributes if attr.get('name') == 'Veličina' and attr['options'] == ['Onesize']]\n",
    "  if kind:\n",
    "    print(kind)\n",
    "    print('---', product['permalink'], product['short_description'])\n"
   ]
  },
  {
   "cell_type": "code",
   "execution_count": null,
   "metadata": {},
   "outputs": [],
   "source": []
  },
  {
   "cell_type": "code",
   "execution_count": null,
   "metadata": {},
   "outputs": [],
   "source": []
  },
  {
   "cell_type": "code",
   "execution_count": null,
   "metadata": {},
   "outputs": [],
   "source": []
  },
  {
   "cell_type": "code",
   "execution_count": null,
   "metadata": {},
   "outputs": [],
   "source": [
    "saucony_products = []\n",
    "\n",
    "for product in all_products:\n",
    "    attributes = product.get('attributes', [])\n",
    "    for attribute in attributes:\n",
    "        if attribute.get('name') == 'Brend' and 'Saucony' in attribute.get('options', []):\n",
    "            saucony_products.append(product)\n"
   ]
  },
  {
   "cell_type": "code",
   "execution_count": null,
   "metadata": {},
   "outputs": [],
   "source": [
    "saucony_originals_products = []\n",
    "\n",
    "for product in all_products:\n",
    "    attributes = product.get('attributes', [])\n",
    "    for attribute in attributes:\n",
    "        if attribute.get('name') == 'Brend' and 'Saucony Originals' in attribute.get('options', []):\n",
    "            saucony_originals_products.append(product)\n"
   ]
  },
  {
   "cell_type": "code",
   "execution_count": null,
   "metadata": {},
   "outputs": [],
   "source": [
    "saucony_with_stock = []\n",
    "\n",
    "for product in saucony_originals_products:\n",
    "    total_stock = 0\n",
    "    product_id = product['id']\n",
    "    variations = wc_api.get(f\"products/{product_id}/variations\").json()\n",
    "\n",
    "    for variation in variations:\n",
    "        stock_quantity = variation['stock_quantity']\n",
    "        total_stock += stock_quantity if stock_quantity is not None else 0\n",
    "\n",
    "    if total_stock != 0:\n",
    "        saucony_with_stock.append(product)\n"
   ]
  },
  {
   "cell_type": "code",
   "execution_count": null,
   "metadata": {},
   "outputs": [],
   "source": [
    "missing = []\n",
    "for product in saucony_with_stock:\n",
    "    attributes = product.get('attributes', [])\n",
    "    kind = [attr for attr in attributes if attr.get('name') == 'Podloga']\n",
    "    if not kind:\n",
    "        missing.append(product['sku'])\n",
    "\n",
    "missing"
   ]
  },
  {
   "cell_type": "code",
   "execution_count": null,
   "metadata": {},
   "outputs": [],
   "source": [
    "for product in saucony_with_stock:\n",
    "    attributes = product.get('attributes', [])\n",
    "    kind = [attr['options'] for attr in attributes if attr.get(\n",
    "        'name') == 'Veličina' and isinstance(attr.get('options', []), list) and len(attr.get('options', [])) == 1]\n",
    "    if kind == [['ONESIZE']]:\n",
    "        print(kind, product['permalink'])"
   ]
  },
  {
   "cell_type": "code",
   "execution_count": null,
   "metadata": {},
   "outputs": [],
   "source": [
    "for product in saucony_with_stock:\n",
    "  attributes = product.get('attributes', [])\n",
    "  if len(attributes) == 6:\n",
    "    for attribute in attributes:\n",
    "      print(attribute)\n",
    "    print('----', product['permalink'])"
   ]
  },
  {
   "cell_type": "code",
   "execution_count": null,
   "metadata": {},
   "outputs": [],
   "source": [
    "saucony_with_stock[79]"
   ]
  },
  {
   "cell_type": "code",
   "execution_count": null,
   "metadata": {},
   "outputs": [],
   "source": []
  },
  {
   "cell_type": "code",
   "execution_count": null,
   "metadata": {},
   "outputs": [],
   "source": []
  },
  {
   "cell_type": "code",
   "execution_count": null,
   "metadata": {},
   "outputs": [],
   "source": [
    "wc_api.get('products/14034').json()"
   ]
  },
  {
   "cell_type": "code",
   "execution_count": null,
   "metadata": {},
   "outputs": [],
   "source": []
  },
  {
   "cell_type": "code",
   "execution_count": null,
   "metadata": {},
   "outputs": [],
   "source": []
  },
  {
   "cell_type": "code",
   "execution_count": null,
   "metadata": {},
   "outputs": [],
   "source": []
  },
  {
   "cell_type": "code",
   "execution_count": null,
   "metadata": {},
   "outputs": [],
   "source": []
  },
  {
   "cell_type": "code",
   "execution_count": null,
   "metadata": {},
   "outputs": [],
   "source": [
    "saucony_out_of_stock_skus = []\n",
    "\n",
    "for product in saucony_products:\n",
    "    total_stock = 0\n",
    "    product_id = product['id']\n",
    "    variations = wc_api.get(f\"products/{product_id}/variations\").json()\n",
    "\n",
    "    for variation in variations:\n",
    "        stock_quantity = variation['stock_quantity']\n",
    "        total_stock += stock_quantity if stock_quantity is not None else 0\n",
    "\n",
    "    if total_stock == 0:\n",
    "        saucony_out_of_stock_skus.append(product['sku'])\n"
   ]
  },
  {
   "cell_type": "code",
   "execution_count": null,
   "metadata": {},
   "outputs": [],
   "source": [
    "saucony_product_skus = [product['sku'] for product in saucony_products]"
   ]
  },
  {
   "cell_type": "code",
   "execution_count": null,
   "metadata": {},
   "outputs": [],
   "source": [
    "len(saucony_product_skus), len(saucony_out_of_stock_skus)"
   ]
  },
  {
   "cell_type": "code",
   "execution_count": null,
   "metadata": {},
   "outputs": [],
   "source": [
    "len(set(saucony_product_skus)), len(set(saucony_out_of_stock_skus))"
   ]
  },
  {
   "cell_type": "code",
   "execution_count": null,
   "metadata": {},
   "outputs": [],
   "source": [
    "from collections import Counter\n",
    "\n",
    "counter = Counter(saucony_product_skus)\n",
    "\n",
    "duplicate = [item for item, count in counter.items() if count > 1]\n",
    "duplicate\n"
   ]
  },
  {
   "cell_type": "code",
   "execution_count": null,
   "metadata": {},
   "outputs": [],
   "source": [
    "active_saucony_skus = [sku for sku in saucony_product_skus if sku not in saucony_out_of_stock_skus]"
   ]
  },
  {
   "cell_type": "code",
   "execution_count": null,
   "metadata": {},
   "outputs": [],
   "source": [
    "active_saucony_products = [product for product in saucony_products if product['sku'] in active_saucony_skus]"
   ]
  },
  {
   "cell_type": "code",
   "execution_count": null,
   "metadata": {},
   "outputs": [],
   "source": [
    "active_saucony_products_wo_short_description = [product['sku'] for product in active_saucony_products if not product['short_description']]"
   ]
  },
  {
   "cell_type": "code",
   "execution_count": null,
   "metadata": {},
   "outputs": [],
   "source": [
    "active_saucony_products_wo_short_description"
   ]
  },
  {
   "cell_type": "code",
   "execution_count": null,
   "metadata": {},
   "outputs": [],
   "source": [
    "# pattern = r'^(?!.*tenisic.{1})(?=.*mušk.{1}).*$'\n",
    "# pattern = r'^(?!.*tenisic.{1})(?=.*žensk.{1}).*$'\n",
    "\n",
    "# pattern = r'mušk.{1,}tenisic.{1,}'\n",
    "# pattern = r'^(?=.*mušk.{1})(?=.*tenisic.{1}).*$'\n",
    "\n",
    "# pattern = r'žensk.{1,}tenisic.{1,}'\n",
    "pattern = r'^(?=.*žensk.{1})(?=.*tenisic.{1}).*$'\n",
    "\n",
    "missing_skus = []\n",
    "\n",
    "for product in active_saucony_products:\n",
    "    short_description = product['short_description']\n",
    "    if re.search(pattern, short_description, re.IGNORECASE):\n",
    "        attributes = product.get('attributes', [])\n",
    "        sizechart_attribute = next((attr for attr in attributes if attr.get('name') == 'sizechart'), None)\n",
    "        if sizechart_attribute is None or 'SAUWFTW' not in sizechart_attribute.get('options'):\n",
    "                    missing_skus.append(product['sku'])\n",
    "                    \n",
    "missing_skus"
   ]
  },
  {
   "cell_type": "code",
   "execution_count": null,
   "metadata": {},
   "outputs": [],
   "source": []
  },
  {
   "cell_type": "code",
   "execution_count": null,
   "metadata": {},
   "outputs": [],
   "source": []
  },
  {
   "cell_type": "code",
   "execution_count": null,
   "metadata": {},
   "outputs": [],
   "source": [
    "missing_skus = []\n",
    "for product in active_saucony_products:\n",
    "  attributes = product.get('attributes', [])\n",
    "  pattern = r'^(?=.*mušk|.*žensk).*$'\n",
    "  kind = [attr['options'] for attr in attributes if attr.get('name') == 'Vrsta proizvoda']\n",
    "  if not kind and re.search(pattern, product['short_description'], re.IGNORECASE):\n",
    "    print(product['short_description'], kind, product['permalink'])\n",
    "    print('*'*50)\n",
    "    missing_skus.append(product['sku'])\n",
    "\n",
    "missing_skus"
   ]
  },
  {
   "cell_type": "code",
   "execution_count": null,
   "metadata": {},
   "outputs": [],
   "source": []
  },
  {
   "cell_type": "code",
   "execution_count": null,
   "metadata": {},
   "outputs": [],
   "source": [
    "active_saucony_products[14]"
   ]
  },
  {
   "cell_type": "code",
   "execution_count": null,
   "metadata": {},
   "outputs": [],
   "source": []
  },
  {
   "cell_type": "code",
   "execution_count": null,
   "metadata": {},
   "outputs": [],
   "source": []
  },
  {
   "cell_type": "code",
   "execution_count": null,
   "metadata": {},
   "outputs": [],
   "source": []
  },
  {
   "cell_type": "code",
   "execution_count": null,
   "metadata": {},
   "outputs": [],
   "source": [
    "for product in saucony_originals_products:\n",
    "  attributes = product.get('attributes', [])\n",
    "  gender = [attr for attr in attributes if attr.get('name') == 'Spol']\n",
    "  if not gender:\n",
    "    print(product['sku'], product['short_description'], product['name'])"
   ]
  },
  {
   "cell_type": "code",
   "execution_count": null,
   "metadata": {},
   "outputs": [],
   "source": []
  },
  {
   "cell_type": "code",
   "execution_count": null,
   "metadata": {},
   "outputs": [],
   "source": []
  },
  {
   "cell_type": "code",
   "execution_count": null,
   "metadata": {},
   "outputs": [],
   "source": [
    "on_products = []\n",
    "\n",
    "for product in all_products:\n",
    "    attributes = product.get('attributes', [])\n",
    "    for attribute in attributes:\n",
    "        if attribute.get('name') == 'Brend' and 'On' in attribute.get('options', []):\n",
    "            on_products.append(product)\n"
   ]
  },
  {
   "cell_type": "code",
   "execution_count": null,
   "metadata": {},
   "outputs": [],
   "source": [
    "# pattern = r'^(?!.*tenisic.{1})(?=.*mušk.{1}).*$'\n",
    "# pattern = r'^(?!.*tenisic.{1})(?=.*žensk.{1}).*$'\n",
    "\n",
    "# pattern = r'mušk.{1,}tenisic.{1,}'\n",
    "pattern = r'^(?=.*mušk.{1})(?=.*tenisic.{1}).*$'\n",
    "\n",
    "# pattern = r'žensk.{1,}tenisic.{1,}'\n",
    "# pattern = r'^(?=.*žensk.{1})(?=.*tenisic.{1}).*$'\n",
    "\n",
    "missing_skus = []\n",
    "\n",
    "for product in on_products:\n",
    "    short_description = product['short_description']\n",
    "    if re.search(pattern, short_description, re.IGNORECASE):\n",
    "        attributes = product.get('attributes', [])\n",
    "        sizechart_attribute = next(\n",
    "            (attr for attr in attributes if attr.get('name') == 'sizechart'), None)\n",
    "        if sizechart_attribute is None or 'ONMFTW' not in sizechart_attribute.get('options'):\n",
    "            missing_skus.append(product['sku'])\n",
    "\n",
    "missing_skus\n"
   ]
  },
  {
   "cell_type": "code",
   "execution_count": null,
   "metadata": {},
   "outputs": [],
   "source": [
    "for product in all_products:\n",
    "  attributes = product.get('attributes', [])\n",
    "\n",
    "  attribute = [attr for attr in attributes if attr.get('name') == 'sizechart']\n",
    "  print(attribute, product['short_description'])"
   ]
  },
  {
   "cell_type": "code",
   "execution_count": null,
   "metadata": {},
   "outputs": [],
   "source": []
  },
  {
   "cell_type": "code",
   "execution_count": null,
   "metadata": {},
   "outputs": [],
   "source": []
  },
  {
   "cell_type": "code",
   "execution_count": null,
   "metadata": {},
   "outputs": [],
   "source": []
  },
  {
   "cell_type": "code",
   "execution_count": null,
   "metadata": {},
   "outputs": [],
   "source": []
  },
  {
   "cell_type": "markdown",
   "metadata": {},
   "source": [
    "missing_skus = []\n",
    "for product in saucony_originals_products:\n",
    "    attributes = product.get('attributes', [])\n",
    "    sex_found= False\n",
    "    sizechart_found = False\n",
    "    for attribute in attributes:\n",
    "        if attribute.get('name') == 'Spol' and attribute.get('options') == ['Muškarci']:\n",
    "            sex_found = True\n",
    "        if attribute.get('name') == 'sizechart' and 'SAUMFTW' not in attribute.get('options'):\n",
    "            sizechart_found = True\n",
    "    if sex_found and sizechart_found:\n",
    "        missing_skus.append(product['sku'])\n",
    "missing_skus\n"
   ]
  },
  {
   "cell_type": "markdown",
   "metadata": {},
   "source": [
    "missing_skus = []\n",
    "for product in saucony_originals_products:\n",
    "  attributes = product.get('attributes', [])\n",
    "  for attribute in attributes:\n",
    "    if attribute.get('name') == 'sizechart' and attribute.get('options') is None:\n",
    "      missing_skus.append(product['sku'])\n",
    "missing_skus"
   ]
  },
  {
   "cell_type": "code",
   "execution_count": null,
   "metadata": {},
   "outputs": [],
   "source": []
  },
  {
   "cell_type": "code",
   "execution_count": null,
   "metadata": {},
   "outputs": [],
   "source": []
  },
  {
   "cell_type": "code",
   "execution_count": null,
   "metadata": {},
   "outputs": [],
   "source": [
    "wrong_male_skus = []\n",
    "wrong_female_skus = []\n",
    "wrong_uni_skus = []\n",
    "\n",
    "no_gender = []\n",
    "empty_gender = []\n",
    "\n",
    "for product in saucony_originals_products:\n",
    "    attributes = product.get('attributes', [])\n",
    "\n",
    "    gender_attribute = next((attr for attr in attributes if attr.get('name') == 'Spol'), None)\n",
    "    sizechart_attribute = next((attr for attr in attributes if attr.get('name') == 'sizechart'), None)\n",
    "\n",
    "    if gender_attribute and sizechart_attribute:\n",
    "        if gender_attribute.get('options') == ['Muškarci'] and 'SAUMFTW' not in sizechart_attribute.get('options'):\n",
    "            wrong_male_skus.append(product['sku'])\n",
    "        elif gender_attribute.get('options') == ['Žene'] and 'SAUWFTW' not in sizechart_attribute.get('options'):\n",
    "            wrong_female_skus.append(product['sku'])\n",
    "        elif gender_attribute.get('options') == ['Muškarci', 'Žene'] and 'SAUUFTW' not in sizechart_attribute.get('options'):\n",
    "            wrong_uni_skus.append(product['sku'])\n",
    "    elif gender_attribute is None:\n",
    "        no_gender.append(product['sku'])\n",
    "    else:\n",
    "        if gender_attribute.get('options') == ['Muškarci']:\n",
    "            wrong_male_skus.append(product['sku'])\n",
    "        elif gender_attribute.get('options') == ['Žene']:\n",
    "            wrong_female_skus.append(product['sku'])\n",
    "        elif gender_attribute.get('options') == ['Muškarci', 'Žene']:\n",
    "            wrong_uni_skus.append(product['sku'])\n",
    "\n",
    "print(wrong_female_skus)\n",
    "print(wrong_uni_skus)\n",
    "print(wrong_male_skus)"
   ]
  },
  {
   "cell_type": "code",
   "execution_count": null,
   "metadata": {},
   "outputs": [],
   "source": []
  },
  {
   "cell_type": "code",
   "execution_count": null,
   "metadata": {},
   "outputs": [],
   "source": []
  },
  {
   "cell_type": "code",
   "execution_count": null,
   "metadata": {},
   "outputs": [],
   "source": []
  },
  {
   "cell_type": "code",
   "execution_count": null,
   "metadata": {},
   "outputs": [],
   "source": [
    "for product in saucony_originals_products:\n",
    "    attributes = product.get('attributes', [])\n",
    "\n",
    "    sizechart_attribute = next((attr for attr in attributes if attr.get('name') == 'sizechart'), None)\n",
    "\n",
    "    if sizechart_attribute is None:\n",
    "        print(product['name'], product['sku'], product['short_description'])\n"
   ]
  },
  {
   "cell_type": "code",
   "execution_count": null,
   "metadata": {},
   "outputs": [],
   "source": []
  },
  {
   "cell_type": "code",
   "execution_count": null,
   "metadata": {},
   "outputs": [],
   "source": []
  },
  {
   "cell_type": "code",
   "execution_count": null,
   "metadata": {},
   "outputs": [],
   "source": []
  },
  {
   "cell_type": "markdown",
   "metadata": {},
   "source": [
    "### Additional "
   ]
  },
  {
   "cell_type": "code",
   "execution_count": null,
   "metadata": {},
   "outputs": [],
   "source": [
    "products = wc_api.get('products/', params = params).json()"
   ]
  },
  {
   "cell_type": "code",
   "execution_count": null,
   "metadata": {},
   "outputs": [],
   "source": [
    "products = wc_api.get('products', params = params).json()"
   ]
  },
  {
   "cell_type": "code",
   "execution_count": null,
   "metadata": {},
   "outputs": [],
   "source": [
    "attributes = products[0].get('attributes')\n",
    "for attribute in attributes:\n",
    "  if attribute['name'] == 'sizechart':\n",
    "    print('yea')\n",
    "attributes\n"
   ]
  },
  {
   "cell_type": "code",
   "execution_count": null,
   "metadata": {},
   "outputs": [],
   "source": [
    "product_sku = 'S20768-30'\n",
    "product = wc_api.get('products', params={'sku': product_sku}).json()\n",
    "product"
   ]
  },
  {
   "cell_type": "code",
   "execution_count": null,
   "metadata": {},
   "outputs": [],
   "source": [
    "existing_attributes = product[\"attributes\"]"
   ]
  },
  {
   "cell_type": "code",
   "execution_count": null,
   "metadata": {},
   "outputs": [],
   "source": [
    "new_attribute = {\n",
    "    'id': 7,\n",
    "    'name': 'sizechart',\n",
    "    'position': 5,\n",
    "    'visible': True,\n",
    "    'variation': False,\n",
    "    'options': ['SAUMFTW']\n",
    "}\n",
    "modified_attribute = {'id': 2,\n",
    "    'options': ['Saucony Originals']\n",
    "}"
   ]
  },
  {
   "cell_type": "code",
   "execution_count": null,
   "metadata": {},
   "outputs": [],
   "source": [
    "for attribute in existing_attributes:\n",
    "    if attribute['id'] == modified_attribute['id']:\n",
    "        attribute.update(modified_attribute)"
   ]
  },
  {
   "cell_type": "code",
   "execution_count": null,
   "metadata": {},
   "outputs": [],
   "source": [
    "existing_attributes.append(new_attribute)\n"
   ]
  },
  {
   "cell_type": "code",
   "execution_count": null,
   "metadata": {},
   "outputs": [],
   "source": [
    "product_id = product['id']"
   ]
  },
  {
   "cell_type": "code",
   "execution_count": null,
   "metadata": {},
   "outputs": [],
   "source": [
    "payload = {\"attributes\": existing_attributes}"
   ]
  },
  {
   "cell_type": "code",
   "execution_count": null,
   "metadata": {},
   "outputs": [],
   "source": [
    "wc_api.put(f\"products/{product_id}\", payload).json()"
   ]
  },
  {
   "cell_type": "code",
   "execution_count": null,
   "metadata": {},
   "outputs": [],
   "source": [
    "existing_attributes"
   ]
  }
 ],
 "metadata": {
  "kernelspec": {
   "display_name": "Python 3",
   "language": "python",
   "name": "python3"
  },
  "language_info": {
   "codemirror_mode": {
    "name": "ipython",
    "version": 3
   },
   "file_extension": ".py",
   "mimetype": "text/x-python",
   "name": "python",
   "nbconvert_exporter": "python",
   "pygments_lexer": "ipython3",
   "version": "3.9.6"
  },
  "orig_nbformat": 4
 },
 "nbformat": 4,
 "nbformat_minor": 2
}
