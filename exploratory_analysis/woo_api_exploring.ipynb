{
 "cells": [
  {
   "cell_type": "code",
   "execution_count": 1,
   "metadata": {},
   "outputs": [],
   "source": [
    "from woocommerce import API\n",
    "import os\n",
    "from dotenv import load_dotenv\n",
    "\n",
    "import re\n",
    "\n",
    "load_dotenv()\n",
    "\n",
    "woocommerce_url = os.getenv('URL')\n",
    "woocommerce_key = os.getenv('KEY')\n",
    "woocommerce_secret = os.getenv('SECRET')\n",
    "\n",
    "wc_api = API(\n",
    "    url=woocommerce_url,\n",
    "    consumer_key=woocommerce_key,\n",
    "    consumer_secret=woocommerce_secret,\n",
    "    version='wc/v3'\n",
    ")"
   ]
  },
  {
   "cell_type": "code",
   "execution_count": 2,
   "metadata": {},
   "outputs": [],
   "source": [
    "params = {\n",
    "    'search': \"SAUCONY\",\n",
    "    'status': 'publish',\n",
    "    'password_protected': False,\n",
    "    'per_page': 95\n",
    "}"
   ]
  },
  {
   "cell_type": "code",
   "execution_count": 3,
   "metadata": {},
   "outputs": [],
   "source": [
    "all_products = []\n",
    "\n",
    "page = 1\n",
    "while True:\n",
    "    params['page'] = page\n",
    "    products = wc_api.get(\"products\", params=params).json()\n",
    "    if not products:\n",
    "        break\n",
    "    all_products.extend(products)\n",
    "    page += 1"
   ]
  },
  {
   "cell_type": "code",
   "execution_count": 4,
   "metadata": {},
   "outputs": [],
   "source": [
    "saucony_products = []\n",
    "\n",
    "for product in all_products:\n",
    "    attributes = product.get('attributes', [])\n",
    "    for attribute in attributes:\n",
    "        if attribute.get('name') == 'Brend' and 'Saucony' in attribute.get('options', []):\n",
    "            saucony_products.append(product)\n"
   ]
  },
  {
   "cell_type": "code",
   "execution_count": 5,
   "metadata": {},
   "outputs": [],
   "source": [
    "saucony_originals_products = []\n",
    "\n",
    "for product in all_products:\n",
    "    attributes = product.get('attributes', [])\n",
    "    for attribute in attributes:\n",
    "        if attribute.get('name') == 'Brend' and 'Saucony Originals' in attribute.get('options', []):\n",
    "            saucony_originals_products.append(product)\n"
   ]
  },
  {
   "cell_type": "code",
   "execution_count": 6,
   "metadata": {},
   "outputs": [],
   "source": [
    "saucony_out_of_stock_skus = []\n",
    "\n",
    "for product in saucony_products:\n",
    "    total_stock = 0\n",
    "    product_id = product['id']\n",
    "    variations = wc_api.get(f\"products/{product_id}/variations\").json()\n",
    "\n",
    "    for variation in variations:\n",
    "        stock_quantity = variation['stock_quantity']\n",
    "        total_stock += stock_quantity if stock_quantity is not None else 0\n",
    "\n",
    "    if total_stock == 0:\n",
    "        saucony_out_of_stock_skus.append(product['sku'])\n"
   ]
  },
  {
   "cell_type": "code",
   "execution_count": 7,
   "metadata": {},
   "outputs": [],
   "source": [
    "saucony_product_skus = [product['sku'] for product in saucony_products]"
   ]
  },
  {
   "cell_type": "code",
   "execution_count": 8,
   "metadata": {},
   "outputs": [
    {
     "data": {
      "text/plain": [
       "(434, 65)"
      ]
     },
     "execution_count": 8,
     "metadata": {},
     "output_type": "execute_result"
    }
   ],
   "source": [
    "len(saucony_product_skus), len(saucony_out_of_stock_skus)"
   ]
  },
  {
   "cell_type": "code",
   "execution_count": 9,
   "metadata": {},
   "outputs": [
    {
     "data": {
      "text/plain": [
       "(433, 65)"
      ]
     },
     "execution_count": 9,
     "metadata": {},
     "output_type": "execute_result"
    }
   ],
   "source": [
    "len(set(saucony_product_skus)), len(set(saucony_out_of_stock_skus))"
   ]
  },
  {
   "cell_type": "code",
   "execution_count": 10,
   "metadata": {},
   "outputs": [
    {
     "data": {
      "text/plain": [
       "['S20579-30']"
      ]
     },
     "execution_count": 10,
     "metadata": {},
     "output_type": "execute_result"
    }
   ],
   "source": [
    "from collections import Counter\n",
    "\n",
    "counter = Counter(saucony_product_skus)\n",
    "\n",
    "duplicate = [item for item, count in counter.items() if count > 1]\n",
    "duplicate\n"
   ]
  },
  {
   "cell_type": "code",
   "execution_count": 11,
   "metadata": {},
   "outputs": [],
   "source": [
    "active_saucony_skus = [sku for sku in saucony_product_skus if sku not in saucony_out_of_stock_skus]"
   ]
  },
  {
   "cell_type": "code",
   "execution_count": 12,
   "metadata": {},
   "outputs": [],
   "source": [
    "active_saucony_products = [product for product in saucony_products if product['sku'] in active_saucony_skus]"
   ]
  },
  {
   "cell_type": "code",
   "execution_count": 13,
   "metadata": {},
   "outputs": [],
   "source": [
    "active_saucony_products_wo_short_description = [product['sku'] for product in active_saucony_products if not product['short_description']]"
   ]
  },
  {
   "cell_type": "code",
   "execution_count": 14,
   "metadata": {},
   "outputs": [
    {
     "data": {
      "text/plain": [
       "['SA81171-VP', 'SA81171-VCT']"
      ]
     },
     "execution_count": 14,
     "metadata": {},
     "output_type": "execute_result"
    }
   ],
   "source": [
    "active_saucony_products_wo_short_description"
   ]
  },
  {
   "cell_type": "code",
   "execution_count": 23,
   "metadata": {},
   "outputs": [
    {
     "data": {
      "text/plain": [
       "[]"
      ]
     },
     "execution_count": 23,
     "metadata": {},
     "output_type": "execute_result"
    }
   ],
   "source": [
    "# pattern = r'^(?!.*tenisic.{1})(?=.*mušk.{1}).*$'\n",
    "# pattern = r'^(?!.*tenisic.{1})(?=.*žensk.{1}).*$'\n",
    "\n",
    "# pattern = r'mušk.{1,}tenisic.{1,}'\n",
    "# pattern = r'^(?=.*mušk.{1})(?=.*tenisic.{1}).*$'\n",
    "\n",
    "# pattern = r'žensk.{1,}tenisic.{1,}'\n",
    "pattern = r'^(?=.*žensk.{1})(?=.*tenisic.{1}).*$'\n",
    "\n",
    "missing_skus = []\n",
    "\n",
    "for product in active_saucony_products:\n",
    "    short_description = product['short_description']\n",
    "    if re.search(pattern, short_description, re.IGNORECASE):\n",
    "        attributes = product.get('attributes', [])\n",
    "        sizechart_attribute = next((attr for attr in attributes if attr.get('name') == 'sizechart'), None)\n",
    "        if sizechart_attribute is None or 'SAUWFTW' not in sizechart_attribute.get('options'):\n",
    "                    missing_skus.append(product['sku'])\n",
    "                    \n",
    "missing_skus"
   ]
  },
  {
   "cell_type": "code",
   "execution_count": null,
   "metadata": {},
   "outputs": [],
   "source": []
  },
  {
   "cell_type": "code",
   "execution_count": null,
   "metadata": {},
   "outputs": [],
   "source": []
  },
  {
   "cell_type": "code",
   "execution_count": null,
   "metadata": {},
   "outputs": [],
   "source": []
  },
  {
   "cell_type": "code",
   "execution_count": null,
   "metadata": {},
   "outputs": [],
   "source": []
  },
  {
   "cell_type": "code",
   "execution_count": null,
   "metadata": {},
   "outputs": [],
   "source": []
  },
  {
   "cell_type": "code",
   "execution_count": null,
   "metadata": {},
   "outputs": [],
   "source": []
  },
  {
   "cell_type": "code",
   "execution_count": null,
   "metadata": {},
   "outputs": [],
   "source": [
    "missing_skus = []\n",
    "for product in saucony_originals_products:\n",
    "    attributes = product.get('attributes', [])\n",
    "    sex_found= False\n",
    "    sizechart_found = False\n",
    "    for attribute in attributes:\n",
    "        if attribute.get('name') == 'Spol' and attribute.get('options') == ['Muškarci']:\n",
    "            sex_found = True\n",
    "        if attribute.get('name') == 'sizechart' and 'SAUMFTW' not in attribute.get('options'):\n",
    "            sizechart_found = True\n",
    "    if sex_found and sizechart_found:\n",
    "        missing_skus.append(product['sku'])\n",
    "missing_skus\n"
   ]
  },
  {
   "cell_type": "code",
   "execution_count": null,
   "metadata": {},
   "outputs": [],
   "source": [
    "missing_skus = []\n",
    "for product in saucony_originals_products:\n",
    "  attributes = product.get('attributes', [])\n",
    "  for attribute in attributes:\n",
    "    if attribute.get('name') == 'sizechart' and attribute.get('options') is None:\n",
    "      missing_skus.append(product['sku'])\n",
    "missing_skus"
   ]
  },
  {
   "cell_type": "code",
   "execution_count": null,
   "metadata": {},
   "outputs": [],
   "source": [
    "missing_skus = []\n",
    "\n",
    "for product in saucony_originals_products:\n",
    "    attributes = product.get('attributes', [])\n",
    "    sex_found = False\n",
    "    sizechart_found = False\n",
    "\n",
    "    spol_attribute = next((attr for attr in attributes if attr.get('name') == 'Spol'), None)\n",
    "    sizechart_attribute = next((attr for attr in attributes if attr.get('name') == 'sizechart'), None)\n",
    "\n",
    "    if spol_attribute and sizechart_attribute:\n",
    "        if spol_attribute.get('options') == ['Žene', 'Muškarci']:\n",
    "            sex_found = True\n",
    "        if 'SAUUFTW' not in sizechart_attribute.get('options'):\n",
    "            sizechart_found = True\n",
    "\n",
    "    if sex_found and sizechart_found:\n",
    "        missing_skus.append(product['sku'])\n",
    "missing_skus\n"
   ]
  },
  {
   "cell_type": "code",
   "execution_count": null,
   "metadata": {},
   "outputs": [],
   "source": []
  },
  {
   "cell_type": "code",
   "execution_count": null,
   "metadata": {},
   "outputs": [],
   "source": []
  },
  {
   "cell_type": "code",
   "execution_count": null,
   "metadata": {},
   "outputs": [],
   "source": []
  },
  {
   "cell_type": "code",
   "execution_count": null,
   "metadata": {},
   "outputs": [],
   "source": []
  },
  {
   "cell_type": "code",
   "execution_count": null,
   "metadata": {},
   "outputs": [],
   "source": [
    "products = wc_api.get('products/', params = params).json()"
   ]
  },
  {
   "cell_type": "code",
   "execution_count": null,
   "metadata": {},
   "outputs": [],
   "source": [
    "products = wc_api.get('products', params = params).json()"
   ]
  },
  {
   "cell_type": "code",
   "execution_count": null,
   "metadata": {},
   "outputs": [],
   "source": [
    "attributes = products[0].get('attributes')\n",
    "for attribute in attributes:\n",
    "  if attribute['name'] == 'sizechart':\n",
    "    print('yea')\n",
    "attributes\n"
   ]
  },
  {
   "cell_type": "code",
   "execution_count": null,
   "metadata": {},
   "outputs": [],
   "source": [
    "product_sku = 'S20768-30'\n",
    "product = wc_api.get('products', params={'sku': product_sku}).json()\n",
    "product"
   ]
  },
  {
   "cell_type": "code",
   "execution_count": null,
   "metadata": {},
   "outputs": [],
   "source": [
    "existing_attributes = product[\"attributes\"]"
   ]
  },
  {
   "cell_type": "code",
   "execution_count": null,
   "metadata": {},
   "outputs": [],
   "source": [
    "new_attribute = {\n",
    "    'id': 7,\n",
    "    'name': 'sizechart',\n",
    "    'position': 5,\n",
    "    'visible': True,\n",
    "    'variation': False,\n",
    "    'options': ['SAUMFTW']\n",
    "}\n",
    "modified_attribute = {'id': 2,\n",
    "    'options': ['Saucony Originals']\n",
    "}"
   ]
  },
  {
   "cell_type": "code",
   "execution_count": null,
   "metadata": {},
   "outputs": [],
   "source": [
    "for attribute in existing_attributes:\n",
    "    if attribute['id'] == modified_attribute['id']:\n",
    "        attribute.update(modified_attribute)"
   ]
  },
  {
   "cell_type": "code",
   "execution_count": null,
   "metadata": {},
   "outputs": [],
   "source": [
    "existing_attributes.append(new_attribute)\n"
   ]
  },
  {
   "cell_type": "code",
   "execution_count": null,
   "metadata": {},
   "outputs": [],
   "source": [
    "product_id = product['id']"
   ]
  },
  {
   "cell_type": "code",
   "execution_count": null,
   "metadata": {},
   "outputs": [],
   "source": [
    "payload = {\"attributes\": existing_attributes}"
   ]
  },
  {
   "cell_type": "code",
   "execution_count": null,
   "metadata": {},
   "outputs": [],
   "source": [
    "wc_api.put(f\"products/{product_id}\", payload).json()"
   ]
  },
  {
   "cell_type": "code",
   "execution_count": null,
   "metadata": {},
   "outputs": [],
   "source": [
    "existing_attributes"
   ]
  }
 ],
 "metadata": {
  "kernelspec": {
   "display_name": "Python 3",
   "language": "python",
   "name": "python3"
  },
  "language_info": {
   "codemirror_mode": {
    "name": "ipython",
    "version": 3
   },
   "file_extension": ".py",
   "mimetype": "text/x-python",
   "name": "python",
   "nbconvert_exporter": "python",
   "pygments_lexer": "ipython3",
   "version": "3.9.6"
  },
  "orig_nbformat": 4
 },
 "nbformat": 4,
 "nbformat_minor": 2
}
