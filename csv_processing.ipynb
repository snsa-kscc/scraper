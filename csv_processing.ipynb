{
 "cells": [
  {
   "cell_type": "code",
   "execution_count": 1,
   "metadata": {},
   "outputs": [],
   "source": [
    "import os\n",
    "import pandas as pd"
   ]
  },
  {
   "cell_type": "code",
   "execution_count": 3,
   "metadata": {},
   "outputs": [],
   "source": [
    "dir_path = '/Library/WebServer/Documents/public/j2s/resizing/2023_2/'\n",
    "url = \"http://snsa.ddns.net/public/j2s/resizing/2023_2/\""
   ]
  },
  {
   "cell_type": "code",
   "execution_count": 4,
   "metadata": {},
   "outputs": [],
   "source": [
    "folders = [f for f in os.listdir(dir_path) if os.path.isdir(os.path.join(dir_path, f))]"
   ]
  },
  {
   "cell_type": "code",
   "execution_count": 5,
   "metadata": {},
   "outputs": [],
   "source": [
    "df = pd.DataFrame(columns=['Folders', 'Images'])"
   ]
  },
  {
   "cell_type": "code",
   "execution_count": 6,
   "metadata": {},
   "outputs": [],
   "source": [
    "for folder in folders:\n",
    "    contents = [f'{url}{folder}/'+f for f in os.listdir(os.path.join(\n",
    "        dir_path, folder)) if not f.startswith('.')]\n",
    "    contents.sort()\n",
    "    folder_df = pd.DataFrame({'Folders': [folder], 'Images': [contents]})\n",
    "    df = pd.concat([df, folder_df], ignore_index=True)\n"
   ]
  },
  {
   "cell_type": "code",
   "execution_count": 7,
   "metadata": {},
   "outputs": [],
   "source": [
    "df['Images'] = df['Images'].astype(str)\n",
    "df['Images'] = df['Images'].str.replace(\n",
    "    '[', '').str.replace(']', '').str.replace(\"'\", '')\n"
   ]
  },
  {
   "cell_type": "markdown",
   "metadata": {},
   "source": [
    "df['SKU'] = df['Folders'].apply(\n",
    "    lambda x: x[x.rfind('-S') + 1:] if x.rfind('-S') != -1 else x)\n"
   ]
  },
  {
   "cell_type": "code",
   "execution_count": 8,
   "metadata": {},
   "outputs": [],
   "source": [
    "def extract_substring(folder):\n",
    "    index = folder.rfind('-S')\n",
    "\n",
    "    if index != -1 and len(folder) - index > 4:\n",
    "        return folder[index + 1:]\n",
    "\n",
    "    index = folder.rfind('-S', 0, index)\n",
    "    if index != -1:\n",
    "        return folder[index + 1:]\n",
    "\n",
    "    return None\n",
    "\n",
    "df['SKU'] = df['Folders'].apply(extract_substring)\n"
   ]
  },
  {
   "cell_type": "code",
   "execution_count": 9,
   "metadata": {},
   "outputs": [],
   "source": [
    "df['Published'] = 1"
   ]
  },
  {
   "cell_type": "code",
   "execution_count": 10,
   "metadata": {},
   "outputs": [],
   "source": [
    "df.to_csv('./data/import_2023.csv', index=False)"
   ]
  },
  {
   "cell_type": "code",
   "execution_count": null,
   "metadata": {},
   "outputs": [],
   "source": []
  }
 ],
 "metadata": {
  "kernelspec": {
   "display_name": "Python 3",
   "language": "python",
   "name": "python3"
  },
  "language_info": {
   "codemirror_mode": {
    "name": "ipython",
    "version": 3
   },
   "file_extension": ".py",
   "mimetype": "text/x-python",
   "name": "python",
   "nbconvert_exporter": "python",
   "pygments_lexer": "ipython3",
   "version": "3.9.6"
  },
  "orig_nbformat": 4
 },
 "nbformat": 4,
 "nbformat_minor": 2
}
