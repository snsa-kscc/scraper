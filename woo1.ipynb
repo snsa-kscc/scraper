{
 "cells": [
  {
   "cell_type": "code",
   "execution_count": 1,
   "metadata": {},
   "outputs": [],
   "source": [
    "import os\n",
    "from woocommerce import API\n",
    "from dotenv import load_dotenv\n",
    "\n",
    "load_dotenv()\n",
    "\n",
    "woocommerce_url = os.getenv('URL')\n",
    "woocommerce_key = os.getenv('KEY')\n",
    "woocommerce_secret = os.getenv('SECRET')\n",
    "\n",
    "wc_api = API(\n",
    "    url=woocommerce_url,\n",
    "    consumer_key=woocommerce_key,\n",
    "    consumer_secret=woocommerce_secret,\n",
    "    version='wc/v3'\n",
    ")\n"
   ]
  },
  {
   "cell_type": "code",
   "execution_count": 2,
   "metadata": {},
   "outputs": [],
   "source": [
    "params = {\n",
    "    'search': \"ARENA\",\n",
    "    'status': 'publish',\n",
    "    'password_protected': False,\n",
    "    'per_page': 95\n",
    "}\n"
   ]
  },
  {
   "cell_type": "code",
   "execution_count": 3,
   "metadata": {},
   "outputs": [],
   "source": [
    "all_products = []\n",
    "\n",
    "page = 1\n",
    "while True:\n",
    "    params['page'] = page\n",
    "    products = wc_api.get(\"products\", params=params).json()\n",
    "    if not products:\n",
    "        break\n",
    "    all_products.extend(products)\n",
    "    page += 1\n"
   ]
  },
  {
   "cell_type": "code",
   "execution_count": 4,
   "metadata": {},
   "outputs": [
    {
     "data": {
      "text/plain": [
       "156"
      ]
     },
     "execution_count": 4,
     "metadata": {},
     "output_type": "execute_result"
    }
   ],
   "source": [
    "len(all_products)"
   ]
  },
  {
   "cell_type": "code",
   "execution_count": 5,
   "metadata": {},
   "outputs": [],
   "source": [
    "filtered_products = []\n",
    "\n",
    "for product in all_products:\n",
    "    attributes = product.get('attributes', [])\n",
    "    for attribute in attributes:\n",
    "        if attribute.get('name') == 'Brend' and 'Arena' in attribute.get('options', []):\n",
    "            filtered_products.append(product['id'])"
   ]
  },
  {
   "cell_type": "code",
   "execution_count": 21,
   "metadata": {},
   "outputs": [
    {
     "data": {
      "text/plain": [
       "150"
      ]
     },
     "execution_count": 21,
     "metadata": {},
     "output_type": "execute_result"
    }
   ],
   "source": [
    "len(filtered_products)"
   ]
  },
  {
   "cell_type": "markdown",
   "metadata": {},
   "source": [
    "for i in originals_id_list:\n",
    "    product = wc_api.get(f'products/{i}').json()\n",
    "    print(product['date_created'])"
   ]
  },
  {
   "cell_type": "markdown",
   "metadata": {},
   "source": [
    "wc_api.get(\"products\", params={\"per_page\": 20}).json()"
   ]
  },
  {
   "cell_type": "markdown",
   "metadata": {},
   "source": [
    "product_sku = '006272-108'\n",
    "product = wc_api.get('products', params={\"sku\":product_sku}).json()"
   ]
  },
  {
   "cell_type": "code",
   "execution_count": 15,
   "metadata": {},
   "outputs": [],
   "source": [
    "low_products = []\n",
    "\n",
    "for product_id in filtered_products:\n",
    "    total_stock = 0 \n",
    "    variations = wc_api.get(f\"products/{product_id}/variations\").json()\n",
    "\n",
    "    for variation in variations:\n",
    "        stock_quantity = variation['stock_quantity']\n",
    "        total_stock += stock_quantity if stock_quantity is not None else 0\n",
    "    \n",
    "    if total_stock <= 3:\n",
    "        low_products.append(product_id)\n"
   ]
  },
  {
   "cell_type": "code",
   "execution_count": null,
   "metadata": {},
   "outputs": [],
   "source": [
    "len(low_products)"
   ]
  },
  {
   "cell_type": "code",
   "execution_count": 16,
   "metadata": {},
   "outputs": [
    {
     "name": "stdout",
     "output_type": "stream",
     "text": [
      "[18120, 18106, 18098, 18096, 18122, 9984, 9973, 9941, 9939, 9937, 9935, 9933, 1683, 1682, 1681, 1512, 4809, 4807, 4805, 4801, 4797, 4791, 4787, 1479, 1473, 1690, 1485, 4813, 4811, 4795, 1701, 4815, 4793, 4142, 4140, 4134, 4132, 1691, 1689, 1688, 1687, 1686, 1685, 1684, 1516, 1515, 1501, 1500, 1497, 1483, 1480, 1477, 4773]\n"
     ]
    }
   ],
   "source": [
    "print(low_products)"
   ]
  },
  {
   "cell_type": "code",
   "execution_count": 18,
   "metadata": {},
   "outputs": [],
   "source": [
    "def add_categories_to_product(product_id, new_category_ids):\n",
    "    product = wc_api.get(f\"products/{product_id}\").json()\n",
    "    existing_category_ids = [category['id'] for category in product['categories']]\n",
    "    \n",
    "    categories_to_update = list(set(existing_category_ids + new_category_ids))\n",
    "    \n",
    "    updated_categories = [{'id': cat_id} for cat_id in categories_to_update]\n",
    "\n",
    "    updated_product = {'categories': updated_categories}\n",
    "    print(wc_api.put(f\"products/{product_id}\", data=updated_product))"
   ]
  },
  {
   "cell_type": "code",
   "execution_count": 19,
   "metadata": {},
   "outputs": [],
   "source": [
    "category_ids_to_add = [151, 132, 152]"
   ]
  },
  {
   "cell_type": "code",
   "execution_count": 20,
   "metadata": {},
   "outputs": [
    {
     "name": "stdout",
     "output_type": "stream",
     "text": [
      "<Response [200]>\n",
      "<Response [200]>\n",
      "<Response [200]>\n",
      "<Response [200]>\n",
      "<Response [200]>\n",
      "<Response [200]>\n",
      "<Response [200]>\n",
      "<Response [200]>\n",
      "<Response [200]>\n",
      "<Response [200]>\n",
      "<Response [200]>\n",
      "<Response [200]>\n",
      "<Response [200]>\n",
      "<Response [200]>\n",
      "<Response [200]>\n",
      "<Response [200]>\n",
      "<Response [200]>\n",
      "<Response [200]>\n",
      "<Response [200]>\n",
      "<Response [200]>\n",
      "<Response [200]>\n",
      "<Response [200]>\n",
      "<Response [200]>\n",
      "<Response [200]>\n",
      "<Response [200]>\n",
      "<Response [200]>\n",
      "<Response [200]>\n",
      "<Response [200]>\n",
      "<Response [200]>\n",
      "<Response [200]>\n",
      "<Response [200]>\n",
      "<Response [200]>\n",
      "<Response [200]>\n",
      "<Response [200]>\n",
      "<Response [200]>\n",
      "<Response [200]>\n",
      "<Response [200]>\n",
      "<Response [200]>\n",
      "<Response [200]>\n",
      "<Response [200]>\n",
      "<Response [200]>\n",
      "<Response [200]>\n",
      "<Response [200]>\n",
      "<Response [200]>\n",
      "<Response [200]>\n",
      "<Response [200]>\n",
      "<Response [200]>\n",
      "<Response [200]>\n",
      "<Response [200]>\n",
      "<Response [200]>\n",
      "<Response [200]>\n",
      "<Response [200]>\n",
      "<Response [200]>\n"
     ]
    }
   ],
   "source": [
    "for single_product in low_products:\n",
    "  add_categories_to_product(single_product, category_ids_to_add)"
   ]
  },
  {
   "cell_type": "markdown",
   "metadata": {},
   "source": [
    "product_id = 14689\n",
    "\n",
    "product = wc_api.get(f\"products/{product_id}\").json()\n",
    "\n",
    "if 'variations' in product and len(product['variations']) > 0:\n",
    "    variation_id = product['variations'][0]\n",
    "    variation = wc_api.get(f\"products/{variation_id}\").json()\n",
    "\n",
    "    regular_price = float(\n",
    "        variation['regular_price']) if 'regular_price' in variation else 0.0\n",
    "    sale_price = float(variation['sale_price']\n",
    "                       ) if 'sale_price' in variation else 0.0\n",
    "\n",
    "    if regular_price != 0:\n",
    "        percentage_difference = (\n",
    "            (regular_price - sale_price) / regular_price) * 100\n",
    "        print(\n",
    "            f\"The percentage difference between regular price and sale price is: {percentage_difference:.2f}%\")\n",
    "    else:\n",
    "        print(\"Regular price is not available.\")\n",
    "else:\n",
    "    print(\"Product has no variations.\")\n"
   ]
  },
  {
   "cell_type": "code",
   "execution_count": 17,
   "metadata": {},
   "outputs": [],
   "source": [
    "percentage_ranges = {\n",
    "    '0-5': [],\n",
    "    '6-10': [],\n",
    "    '11-20': [],\n",
    "    '21-30': [],\n",
    "    '31-40': [],\n",
    "    '41-50': [],\n",
    "    '51-60': [],\n",
    "    '61-70': [],\n",
    "    '71-80': [],\n",
    "}\n",
    "\n",
    "\n",
    "\n",
    "def calculate_percentage_difference(regular_price, sale_price):\n",
    "    if regular_price != 0:\n",
    "        percentage_diff = ((regular_price - sale_price) / regular_price) * 100\n",
    "        rounded_percentage = round(percentage_diff, 1)\n",
    "        return rounded_percentage\n",
    "    return 0.0\n",
    "\n",
    "\n",
    "for product_id in filtered_products:\n",
    "    product = wc_api.get(f\"products/{product_id}\").json()\n",
    "    if 'variations' in product and len(product['variations']) > 0:\n",
    "        variation_id = product['variations'][0]\n",
    "        variation = wc_api.get(f\"products/{variation_id}\").json()\n",
    "\n",
    "        regular_price = float(\n",
    "            variation['regular_price']) if 'regular_price' in variation else 0.0\n",
    "        sale_price = float(variation['sale_price']\n",
    "                           ) if variation['sale_price'] != '' else regular_price\n",
    "        \n",
    "        percentage_difference = calculate_percentage_difference(\n",
    "            regular_price, sale_price)\n",
    "\n",
    "        for range_name, range_values in percentage_ranges.items():\n",
    "            start, end = map(int, range_name.split('-'))\n",
    "            if start <= percentage_difference <= end:\n",
    "                range_values.append(product_id)\n",
    "                break"
   ]
  },
  {
   "cell_type": "code",
   "execution_count": 18,
   "metadata": {},
   "outputs": [
    {
     "data": {
      "text/plain": [
       "150"
      ]
     },
     "execution_count": 18,
     "metadata": {},
     "output_type": "execute_result"
    }
   ],
   "source": [
    "total_products = sum(len(product_ids)for product_ids in percentage_ranges.values())\n",
    "total_products"
   ]
  },
  {
   "cell_type": "code",
   "execution_count": 22,
   "metadata": {},
   "outputs": [
    {
     "data": {
      "text/plain": [
       "True"
      ]
     },
     "execution_count": 22,
     "metadata": {},
     "output_type": "execute_result"
    }
   ],
   "source": [
    "total_products == len(filtered_products)"
   ]
  },
  {
   "cell_type": "code",
   "execution_count": 23,
   "metadata": {},
   "outputs": [
    {
     "name": "stdout",
     "output_type": "stream",
     "text": [
      "{'0-10': [9937, 9935, 1683, 1681, 1512, 4805, 4791, 4787, 4785, 4769, 4144, 4142, 4140, 4138, 4136, 4134, 4132, 4130, 4128, 4126, 4124, 4122, 1693, 1685, 1495], '11-20': [18120, 18115, 18110, 18108, 18106, 18104, 18102, 18100, 18098, 18096, 18122, 9989, 9984, 9980, 9976, 9973, 9968, 9963, 9956, 9950, 9943, 9941, 9939, 9933, 9931, 7889, 7884, 7880, 7875, 7870, 7867, 7861, 7855, 7853, 7851, 7849, 7841, 1682, 4809, 4807, 4803, 4797, 4789, 4781, 4779, 4777, 4775, 4771, 1479, 1478, 4815, 1700, 1699, 1698, 1697, 1696, 1695, 1694, 1691, 1686, 1684, 1499, 1498, 1492, 1491, 1490, 1489, 1488, 1487, 1486, 1483, 1482, 1481, 1480, 1477, 1476, 1475, 1474, 1472, 1471, 1470, 1469, 1468, 1467, 4773], '21-30': [4801, 1690, 1485, 4813, 4811, 4795, 1701, 4799, 4817, 4793, 1692, 1689, 1688, 1687, 1520, 1519, 1518, 1517, 1516, 1515, 1514, 1513, 1511, 1510, 1509, 1508, 1507, 1506, 1505, 1504, 1503, 1502, 1501, 1500, 1496, 1494, 1493, 1484], '31-40': [1473], '41-50': [1497], '51-60': [], '61-70': [], '71-80': []}\n"
     ]
    }
   ],
   "source": [
    "print(percentage_ranges)"
   ]
  },
  {
   "cell_type": "code",
   "execution_count": 31,
   "metadata": {},
   "outputs": [],
   "source": [
    "def get_product_price(product_id):\n",
    "    product = wc_api.get(f\"products/{product_id}\").json()\n",
    "    if 'variations' in product and len(product['variations']) > 0:\n",
    "        variation_id = product['variations'][0]\n",
    "        variation = wc_api.get(f\"products/{variation_id}\").json()\n",
    "    if variation['price'] == '':\n",
    "        print(product_id)\n",
    "    return float(variation['price']) if variation['price'] != '' else 0.0\n"
   ]
  },
  {
   "cell_type": "code",
   "execution_count": 32,
   "metadata": {},
   "outputs": [],
   "source": [
    "for range_name, product_ids in percentage_ranges.items():\n",
    "    sorted_product_ids = sorted(product_ids, key=get_product_price, reverse=True)\n",
    "    percentage_ranges[range_name] = sorted_product_ids"
   ]
  },
  {
   "cell_type": "code",
   "execution_count": 33,
   "metadata": {},
   "outputs": [
    {
     "data": {
      "text/plain": [
       "150"
      ]
     },
     "execution_count": 33,
     "metadata": {},
     "output_type": "execute_result"
    }
   ],
   "source": [
    "sum(len(product_ids)for product_ids in percentage_ranges.values())"
   ]
  },
  {
   "cell_type": "code",
   "execution_count": 44,
   "metadata": {},
   "outputs": [
    {
     "name": "stdout",
     "output_type": "stream",
     "text": [
      "{'0-10': [1683, 1681, 1512, 4805, 4791, 9937, 9935, 1685, 4769, 1495, 1693, 4144, 4142, 4140, 4138, 4787, 4785, 4136, 4134, 4132, 4130, 4128, 4126, 4124, 4122], '11-20': [7870, 7867, 18115, 18110, 1479, 1478, 18104, 18102, 18100, 9968, 7851, 7849, 18122, 18120, 4797, 1682, 9963, 9956, 9933, 18108, 18106, 9941, 4807, 9976, 9973, 1476, 1477, 9980, 7884, 1480, 1482, 1481, 1475, 1474, 1468, 1467, 7875, 7841, 7880, 18098, 18096, 4781, 9984, 1472, 1471, 1470, 1469, 4815, 9939, 1483, 4809, 7889, 4803, 9989, 1686, 1684, 4777, 4775, 9950, 9943, 1490, 1489, 1488, 1487, 1486, 4773, 1691, 9931, 1492, 1491, 7861, 7855, 4789, 4779, 4771, 7853, 1695, 1694, 1498, 1499, 1697, 1696, 1698, 1700, 1699], '21-30': [4801, 1503, 1502, 1500, 1501, 1687, 1688, 4811, 1689, 1504, 1690, 4793, 1505, 1506, 4795, 1701, 1507, 1508, 4817, 1514, 1513, 1511, 1510, 1509, 1484, 1485, 1516, 1515, 1517, 4813, 1520, 1519, 1518, 1692, 1494, 1493, 1496, 4799], '31-40': [1473], '41-50': [1497], '51-60': [], '61-70': [], '71-80': []}\n"
     ]
    }
   ],
   "source": [
    "print(percentage_ranges)"
   ]
  },
  {
   "cell_type": "code",
   "execution_count": 47,
   "metadata": {},
   "outputs": [],
   "source": [
    "from datetime import datetime, timedelta"
   ]
  },
  {
   "cell_type": "code",
   "execution_count": 57,
   "metadata": {},
   "outputs": [],
   "source": [
    "product_ids = [1683, 1681, 1512, 4805, 4791, 9937, 9935, 1685, 4769, 1495, 1693,\n",
    "               4144, 4142, 4140, 4138, 4787, 4785, 4136, 4134, 4132, 4130, 4128, 4126, 4124, 4122]\n",
    "starting_time = datetime(2023, 5, 3, 10, 6, 2)"
   ]
  },
  {
   "cell_type": "code",
   "execution_count": 58,
   "metadata": {},
   "outputs": [
    {
     "name": "stdout",
     "output_type": "stream",
     "text": [
      "Updated date_created for product 4122\n",
      "Updated date_created for product 4124\n",
      "Updated date_created for product 4126\n",
      "Updated date_created for product 4128\n",
      "Updated date_created for product 4130\n",
      "Updated date_created for product 4132\n",
      "Updated date_created for product 4134\n",
      "Updated date_created for product 4136\n",
      "Updated date_created for product 4785\n",
      "Updated date_created for product 4787\n",
      "Updated date_created for product 4138\n",
      "Updated date_created for product 4140\n",
      "Updated date_created for product 4142\n",
      "Updated date_created for product 4144\n",
      "Updated date_created for product 1693\n",
      "Updated date_created for product 1495\n",
      "Updated date_created for product 4769\n",
      "Updated date_created for product 1685\n",
      "Updated date_created for product 9935\n",
      "Updated date_created for product 9937\n",
      "Updated date_created for product 4791\n",
      "Updated date_created for product 4805\n",
      "Updated date_created for product 1512\n",
      "Updated date_created for product 1681\n",
      "Updated date_created for product 1683\n"
     ]
    }
   ],
   "source": [
    "for product_id in reversed(product_ids):\n",
    "    new_time_str = starting_time.strftime('%Y-%m-%dT%H:%M:%S')\n",
    "\n",
    "    updated_product = {'date_created': new_time_str}\n",
    "    response = wc_api.put(f\"products/{product_id}\", data=updated_product)\n",
    "\n",
    "    if response.status_code == 200:\n",
    "        print(f\"Updated date_created for product {product_id}\")\n",
    "    else:\n",
    "        print(f\"Failed to update date_created for product {product_id}\")\n",
    "    \n",
    "    starting_time += timedelta(minutes=10)\n"
   ]
  },
  {
   "cell_type": "code",
   "execution_count": null,
   "metadata": {},
   "outputs": [],
   "source": []
  },
  {
   "cell_type": "code",
   "execution_count": null,
   "metadata": {},
   "outputs": [],
   "source": []
  },
  {
   "cell_type": "code",
   "execution_count": null,
   "metadata": {},
   "outputs": [],
   "source": []
  },
  {
   "cell_type": "code",
   "execution_count": null,
   "metadata": {},
   "outputs": [],
   "source": []
  },
  {
   "cell_type": "code",
   "execution_count": null,
   "metadata": {},
   "outputs": [],
   "source": [
    "arr = [7809, 7788, 14154, 14661, 7760, 18418, 7751, 14197, 14677, 14122, 14117, 14689, 14666, 14207, 14205, 14201, 14042, 14051,\n",
    "       14669, 14614, 14570, 14099, 14673, 14644, 14618, 14616, 14573, 14049, 14028, 14022, 14020, 14016, 14013, 14627, 14646, 14026]\n",
    "\n",
    "for i in arr[:2]:\n",
    "    product = wc_api.get(f'products/{i}').json()\n",
    "    print(type(product['price']))"
   ]
  },
  {
   "cell_type": "code",
   "execution_count": 30,
   "metadata": {},
   "outputs": [
    {
     "data": {
      "text/plain": [
       "{'id': 9936,\n",
       " 'name': 'ARENA Air-Speed Mirror - One size',\n",
       " 'slug': 'variation-0-of-arena-air-speed-mirror',\n",
       " 'permalink': 'https://www.jump2sport.hr/p/arena-air-speed-mirror-4/?attribute_pa_velicina=one-size',\n",
       " 'date_created': '2023-02-16T19:22:30',\n",
       " 'date_created_gmt': '2023-02-16T18:22:30',\n",
       " 'date_modified': '2023-07-10T14:28:34',\n",
       " 'date_modified_gmt': '2023-07-10T12:28:34',\n",
       " 'type': 'variation',\n",
       " 'status': 'publish',\n",
       " 'featured': False,\n",
       " 'catalog_visibility': 'visible',\n",
       " 'description': '',\n",
       " 'short_description': '',\n",
       " 'sku': '3468336363614',\n",
       " 'price': '32.50',\n",
       " 'regular_price': '32.50',\n",
       " 'sale_price': '',\n",
       " 'date_on_sale_from': None,\n",
       " 'date_on_sale_from_gmt': None,\n",
       " 'date_on_sale_to': None,\n",
       " 'date_on_sale_to_gmt': None,\n",
       " 'on_sale': False,\n",
       " 'purchasable': True,\n",
       " 'total_sales': '0',\n",
       " 'virtual': False,\n",
       " 'downloadable': False,\n",
       " 'downloads': [],\n",
       " 'download_limit': -1,\n",
       " 'download_expiry': -1,\n",
       " 'external_url': '',\n",
       " 'button_text': '',\n",
       " 'tax_status': 'none',\n",
       " 'tax_class': '',\n",
       " 'manage_stock': True,\n",
       " 'stock_quantity': 0,\n",
       " 'backorders': 'no',\n",
       " 'backorders_allowed': False,\n",
       " 'backordered': False,\n",
       " 'low_stock_amount': None,\n",
       " 'sold_individually': False,\n",
       " 'weight': '',\n",
       " 'dimensions': {'length': '', 'width': '', 'height': ''},\n",
       " 'shipping_required': True,\n",
       " 'shipping_taxable': False,\n",
       " 'shipping_class': '',\n",
       " 'shipping_class_id': 0,\n",
       " 'reviews_allowed': False,\n",
       " 'average_rating': '0.00',\n",
       " 'rating_count': 0,\n",
       " 'upsell_ids': [],\n",
       " 'cross_sell_ids': [],\n",
       " 'parent_id': 9935,\n",
       " 'purchase_note': '',\n",
       " 'categories': [],\n",
       " 'tags': [],\n",
       " 'images': [{'id': 10070,\n",
       "   'date_created': '2023-02-17T12:32:32',\n",
       "   'date_created_gmt': '2023-02-17T10:32:32',\n",
       "   'date_modified': '2023-02-17T12:32:32',\n",
       "   'date_modified_gmt': '2023-02-17T10:32:32',\n",
       "   'src': 'https://www.jump2sport.hr/wp-content/uploads/2023/02/003151-102-AIRSPEED-MIRROR-001-FL-S.jpg.png',\n",
       "   'name': '003151-102-AIRSPEED MIRROR-001-FL-S.jpg',\n",
       "   'alt': ''}],\n",
       " 'attributes': [{'id': 4, 'name': 'Veličina', 'option': 'One size'}],\n",
       " 'default_attributes': [],\n",
       " 'variations': [],\n",
       " 'grouped_products': [],\n",
       " 'menu_order': 0,\n",
       " 'price_html': '<span class=\"woocommerce-Price-amount amount\"><bdi>32,50<span class=\"woocommerce-Price-currencySymbol\">&euro;</span></bdi></span><span class=\"woocommerce-Price-amount amount amount-eur\"> <small>(245,00 kn)</small> </span>',\n",
       " 'related_ids': [],\n",
       " 'meta_data': [{'id': 218186,\n",
       "   'key': '_lowest_price_30_days',\n",
       "   'value': '32.50'}],\n",
       " 'stock_status': 'outofstock',\n",
       " 'has_options': False,\n",
       " '_links': {'self': [{'href': 'https://www.jump2sport.hr/wp-json/wc/v3/products/9936'}],\n",
       "  'collection': [{'href': 'https://www.jump2sport.hr/wp-json/wc/v3/products'}],\n",
       "  'up': [{'href': 'https://www.jump2sport.hr/wp-json/wc/v3/products/9935'}]}}"
      ]
     },
     "execution_count": 30,
     "metadata": {},
     "output_type": "execute_result"
    }
   ],
   "source": [
    "product = wc_api.get(\"products/9936\").json()\n",
    "product"
   ]
  },
  {
   "cell_type": "code",
   "execution_count": null,
   "metadata": {},
   "outputs": [],
   "source": []
  }
 ],
 "metadata": {
  "kernelspec": {
   "display_name": "Python 3",
   "language": "python",
   "name": "python3"
  },
  "language_info": {
   "codemirror_mode": {
    "name": "ipython",
    "version": 3
   },
   "file_extension": ".py",
   "mimetype": "text/x-python",
   "name": "python",
   "nbconvert_exporter": "python",
   "pygments_lexer": "ipython3",
   "version": "3.9.6"
  },
  "orig_nbformat": 4
 },
 "nbformat": 4,
 "nbformat_minor": 2
}
