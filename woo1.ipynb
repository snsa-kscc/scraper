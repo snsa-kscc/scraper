{
 "cells": [
  {
   "cell_type": "code",
   "execution_count": 1,
   "metadata": {},
   "outputs": [],
   "source": [
    "import os\n",
    "from woocommerce import API\n",
    "from dotenv import load_dotenv\n",
    "\n",
    "load_dotenv()\n",
    "\n",
    "woocommerce_url = os.getenv('URL')\n",
    "woocommerce_key = os.getenv('KEY')\n",
    "woocommerce_secret = os.getenv('SECRET')\n",
    "\n",
    "wc_api = API(\n",
    "    url=woocommerce_url,\n",
    "    consumer_key=woocommerce_key,\n",
    "    consumer_secret=woocommerce_secret,\n",
    "    version='wc/v3'\n",
    ")\n"
   ]
  },
  {
   "cell_type": "code",
   "execution_count": 2,
   "metadata": {},
   "outputs": [],
   "source": [
    "params = {\n",
    "    'search': 'SAUCONY',\n",
    "    'status': 'publish',\n",
    "    'password_protected': False,\n",
    "    'on_sale': 'true',\n",
    "    'per_page': 95\n",
    "}\n"
   ]
  },
  {
   "cell_type": "code",
   "execution_count": 7,
   "metadata": {},
   "outputs": [],
   "source": [
    "all_saucony_products = []\n",
    "\n",
    "page = 1\n",
    "while True:\n",
    "    params['page'] = page\n",
    "    products = wc_api.get(\"products\", params=params).json()\n",
    "    if not products:\n",
    "        break\n",
    "    all_saucony_products.extend(products)\n",
    "    page += 1\n"
   ]
  },
  {
   "cell_type": "code",
   "execution_count": 12,
   "metadata": {},
   "outputs": [],
   "source": [
    "originals_sku_list = []\n",
    "originals_list = []\n",
    "originals_id_list = []\n",
    "\n",
    "for product in all_saucony_products:\n",
    "    attributes = product.get('attributes', [])\n",
    "    for attribute in attributes:\n",
    "        if attribute.get('name') == 'Brend' and 'Saucony Originals' in attribute.get('options', []):\n",
    "            originals_id_list.append(product['id'])"
   ]
  },
  {
   "cell_type": "code",
   "execution_count": 11,
   "metadata": {},
   "outputs": [
    {
     "name": "stdout",
     "output_type": "stream",
     "text": [
      "2023-03-01T22:42:14\n",
      "2023-03-01T22:42:12\n",
      "2023-03-01T22:42:12\n",
      "2023-03-01T22:42:10\n",
      "2023-03-01T22:42:10\n",
      "2023-03-01T22:42:07\n",
      "2023-03-01T22:42:07\n",
      "2023-03-01T22:42:05\n",
      "2023-03-01T22:42:05\n",
      "2023-03-01T22:42:03\n",
      "2023-03-01T22:42:03\n",
      "2023-03-01T22:41:53\n",
      "2023-03-01T14:56:30\n",
      "2023-03-01T14:56:27\n",
      "2023-03-01T14:56:27\n",
      "2023-03-01T14:56:25\n",
      "2023-03-01T14:56:25\n",
      "2023-03-01T14:56:25\n",
      "2023-03-01T14:56:24\n",
      "2023-02-28T14:56:30\n",
      "2023-02-28T14:56:20\n",
      "2023-02-28T14:56:20\n",
      "2023-02-28T14:56:18\n",
      "2023-02-28T14:56:18\n",
      "2023-02-28T14:56:16\n",
      "2023-02-28T14:56:16\n",
      "2023-02-28T14:56:14\n",
      "2023-02-28T14:56:14\n",
      "2023-02-08T15:54:08\n",
      "2023-02-08T15:54:08\n",
      "2023-02-08T15:53:54\n",
      "2023-02-08T15:53:54\n",
      "2023-02-08T15:53:54\n",
      "2023-02-06T00:00:00\n",
      "2023-02-06T00:00:00\n",
      "2023-02-06T00:00:00\n",
      "2023-02-06T00:00:00\n",
      "2023-02-06T00:00:00\n",
      "2023-02-06T00:00:00\n",
      "2023-02-06T00:00:00\n",
      "2023-02-06T00:00:00\n",
      "2023-02-06T00:00:00\n",
      "2023-02-06T00:00:00\n",
      "2023-02-06T00:00:00\n",
      "2023-02-06T00:00:00\n",
      "2023-02-06T00:00:00\n",
      "2023-02-06T00:00:00\n",
      "2023-02-06T00:00:00\n",
      "2023-02-06T00:00:00\n",
      "2023-02-06T00:00:00\n",
      "2023-02-06T00:00:00\n",
      "2023-02-06T00:00:00\n",
      "2023-02-06T00:00:00\n",
      "2023-02-06T00:00:00\n",
      "2023-02-06T00:00:00\n",
      "2023-02-06T00:00:00\n",
      "2023-02-06T00:00:00\n",
      "2023-02-06T00:00:00\n",
      "2023-02-06T00:00:00\n",
      "2023-02-06T00:00:00\n",
      "2023-02-06T00:00:00\n",
      "2023-02-06T00:00:00\n",
      "2023-02-06T00:00:00\n",
      "2023-02-06T00:00:00\n",
      "2023-02-06T00:00:00\n",
      "2023-02-06T00:00:00\n",
      "2023-02-06T00:00:00\n",
      "2023-02-06T00:00:00\n",
      "2023-02-06T00:00:00\n",
      "2023-02-06T00:00:00\n",
      "2023-02-06T00:00:00\n",
      "2023-02-06T00:00:00\n",
      "2023-02-06T00:00:00\n",
      "2023-02-06T00:00:00\n",
      "2023-02-06T00:00:00\n",
      "2023-02-06T00:00:00\n",
      "2023-02-03T15:54:30\n",
      "2023-02-03T15:54:30\n",
      "2023-02-03T15:54:30\n",
      "2023-02-03T15:54:30\n",
      "2022-12-09T10:03:02\n",
      "2022-12-09T10:03:00\n",
      "2022-12-09T10:03:00\n",
      "2022-12-09T10:02:58\n",
      "2022-12-09T10:02:58\n",
      "2022-12-09T10:02:58\n",
      "2022-12-09T10:02:56\n",
      "2022-12-09T10:02:56\n",
      "2022-12-09T10:02:54\n",
      "2022-12-09T10:02:54\n",
      "2022-12-09T10:02:54\n",
      "2022-11-07T12:55:12\n",
      "2022-11-07T12:55:12\n",
      "2022-11-07T12:55:10\n",
      "2022-11-07T12:55:10\n",
      "2022-11-07T12:55:09\n",
      "2022-11-07T12:55:09\n",
      "2022-11-07T12:55:09\n",
      "2022-11-07T12:55:07\n",
      "2022-11-07T12:55:07\n",
      "2022-11-07T12:55:07\n",
      "2022-11-07T12:55:07\n",
      "2022-10-30T14:52:35\n",
      "2022-10-30T14:52:33\n",
      "2021-03-01T22:42:14\n"
     ]
    }
   ],
   "source": [
    "for product in originals_list:\n",
    "    print(product['date_created'])"
   ]
  },
  {
   "cell_type": "code",
   "execution_count": null,
   "metadata": {},
   "outputs": [],
   "source": [
    "wc_api.get(\"products\", params={\"per_page\": 20}).json()"
   ]
  },
  {
   "cell_type": "code",
   "execution_count": 30,
   "metadata": {},
   "outputs": [],
   "source": [
    "product_sku = '006272-108'\n",
    "product = wc_api.get('products', params={\"sku\":product_sku}).json()"
   ]
  },
  {
   "cell_type": "code",
   "execution_count": 16,
   "metadata": {},
   "outputs": [],
   "source": [
    "low_originals = []\n",
    "\n",
    "for product_id in originals_id_list:\n",
    "    total_stock = 0 \n",
    "    variations = wc_api.get(f\"products/{product_id}/variations\").json()\n",
    "\n",
    "    for variation in variations:\n",
    "        stock_quantity = variation['stock_quantity']\n",
    "        total_stock += stock_quantity if stock_quantity is not None else 0\n",
    "    \n",
    "    if total_stock <= 3:\n",
    "        low_originals.append(product_id)\n"
   ]
  },
  {
   "cell_type": "code",
   "execution_count": 22,
   "metadata": {},
   "outputs": [
    {
     "name": "stdout",
     "output_type": "stream",
     "text": [
      "[10862, 10838, 10829, 10811, 10798, 10790, 10783, 10768, 10759, 10749, 10737, 10636, 18478, 18458, 18447, 18429, 18423, 18418, 18407, 18468, 18369, 18358, 18350, 18335, 18325, 18319, 18309, 18290, 9360, 9351, 9213, 9204, 9193, 14689, 14677, 14673, 14669, 14666, 14661, 14646, 14644, 14627, 14618, 14616, 14614, 14573, 14570, 14542, 14503, 14499, 14495, 14477, 14207, 14205, 14201, 14197, 14189, 14181, 14154, 14122, 14117, 14110, 14102, 14099, 14051, 14049, 14046, 14042, 14034, 14028, 14026, 14022, 14020, 14016, 14013, 14004, 11030, 11025, 11018, 11008, 7832, 7818, 7809, 7796, 7788, 7781, 7769, 7760, 7751, 7742, 7734, 6590, 6582, 6566, 6559, 6551, 6544, 6534, 6525, 6520, 6514, 6506, 10311, 10298, 10848]\n"
     ]
    }
   ],
   "source": [
    "print(originals_id_list)"
   ]
  },
  {
   "cell_type": "code",
   "execution_count": 59,
   "metadata": {},
   "outputs": [
    {
     "name": "stdout",
     "output_type": "stream",
     "text": [
      "[14689, 14677, 14673, 14669, 14666, 14646, 14644, 14618, 14616, 14614, 14573, 14570, 14503, 14477, 14207, 14205, 14117, 14051, 14049, 14046, 14042, 14028, 14026, 14016, 14013, 6590, 6566, 6559, 6551, 6520, 10298]\n"
     ]
    }
   ],
   "source": [
    "print(low_originals)"
   ]
  },
  {
   "cell_type": "code",
   "execution_count": 52,
   "metadata": {},
   "outputs": [],
   "source": [
    "def add_categories_to_product(product_id, new_category_ids):\n",
    "    product = wc_api.get(f\"products/{product_id}\").json()\n",
    "    existing_category_ids = [category['id'] for category in product['categories']]\n",
    "    \n",
    "    categories_to_update = list(set(existing_category_ids + new_category_ids))\n",
    "    \n",
    "    updated_categories = [{'id': cat_id} for cat_id in categories_to_update]\n",
    "\n",
    "    updated_product = {'categories': updated_categories}\n",
    "    print(wc_api.put(f\"products/{product_id}\", data=updated_product))"
   ]
  },
  {
   "cell_type": "code",
   "execution_count": null,
   "metadata": {},
   "outputs": [],
   "source": [
    "category_ids_to_add = [151, 132, 152]"
   ]
  },
  {
   "cell_type": "code",
   "execution_count": null,
   "metadata": {},
   "outputs": [],
   "source": [
    "for single_original in low_originals:\n",
    "  add_categories_to_product(single_original, category_ids_to_add)"
   ]
  },
  {
   "cell_type": "code",
   "execution_count": 60,
   "metadata": {},
   "outputs": [
    {
     "name": "stdout",
     "output_type": "stream",
     "text": [
      "<Response [200]>\n"
     ]
    }
   ],
   "source": [
    "data = {\n",
    "    \"date_created\": \"2017-03-23T17:01:14\"\n",
    "}\n",
    "print(wc_api.put(\"products/14689\", data))"
   ]
  },
  {
   "cell_type": "code",
   "execution_count": 71,
   "metadata": {},
   "outputs": [],
   "source": [
    "def get_product_price(product_id):\n",
    "    product = wc_api.get(f\"products/{product_id}\").json()\n",
    "    return float(product['price']) if 'price' in product else 0.0"
   ]
  },
  {
   "cell_type": "code",
   "execution_count": 72,
   "metadata": {},
   "outputs": [],
   "source": [
    "sorted_product_ids = sorted(low_originals[:5], key=get_product_price, reverse=True)"
   ]
  },
  {
   "cell_type": "code",
   "execution_count": null,
   "metadata": {},
   "outputs": [],
   "source": [
    "wc_api.get(\"products/14690\").json()"
   ]
  },
  {
   "cell_type": "code",
   "execution_count": 84,
   "metadata": {},
   "outputs": [
    {
     "name": "stdout",
     "output_type": "stream",
     "text": [
      "The percentage difference between regular price and sale price is: 50.00%\n"
     ]
    }
   ],
   "source": [
    "product_id = 14689\n",
    "\n",
    "product = wc_api.get(f\"products/{product_id}\").json()\n",
    "\n",
    "if 'variations' in product and len(product['variations']) > 0:\n",
    "    variation_id = product['variations'][0]\n",
    "    variation = wc_api.get(f\"products/{variation_id}\").json()\n",
    "\n",
    "    regular_price = float(\n",
    "        variation['regular_price']) if 'regular_price' in variation else 0.0\n",
    "    sale_price = float(variation['sale_price']\n",
    "                       ) if 'sale_price' in variation else 0.0\n",
    "\n",
    "    if regular_price != 0:\n",
    "        percentage_difference = (\n",
    "            (regular_price - sale_price) / regular_price) * 100\n",
    "        print(\n",
    "            f\"The percentage difference between regular price and sale price is: {percentage_difference:.2f}%\")\n",
    "    else:\n",
    "        print(\"Regular price is not available.\")\n",
    "else:\n",
    "    print(\"Product has no variations.\")\n"
   ]
  },
  {
   "cell_type": "code",
   "execution_count": 93,
   "metadata": {},
   "outputs": [
    {
     "name": "stdout",
     "output_type": "stream",
     "text": [
      "done with 10862\n",
      "done with 10838\n",
      "done with 10829\n",
      "done with 10811\n",
      "done with 10798\n",
      "done with 10790\n",
      "done with 10783\n",
      "done with 10768\n",
      "done with 10759\n",
      "done with 10749\n",
      "done with 10737\n",
      "done with 10636\n",
      "done with 18478\n",
      "done with 18458\n",
      "done with 18447\n",
      "done with 18429\n",
      "done with 18423\n",
      "done with 18418\n",
      "done with 18407\n",
      "done with 18468\n",
      "done with 18369\n",
      "done with 18358\n",
      "done with 18350\n",
      "done with 18335\n",
      "done with 18325\n",
      "done with 18319\n",
      "done with 18309\n",
      "done with 18290\n",
      "done with 9360\n",
      "done with 9351\n",
      "done with 9213\n",
      "done with 9204\n",
      "done with 9193\n",
      "done with 14689\n",
      "done with 14677\n",
      "done with 14673\n",
      "done with 14669\n",
      "done with 14666\n",
      "done with 14661\n",
      "done with 14646\n",
      "done with 14644\n",
      "done with 14627\n",
      "done with 14618\n",
      "done with 14616\n",
      "done with 14614\n",
      "done with 14573\n",
      "done with 14570\n",
      "done with 14542\n",
      "done with 14503\n",
      "done with 14499\n",
      "done with 14495\n",
      "done with 14477\n",
      "done with 14207\n",
      "done with 14205\n",
      "done with 14201\n",
      "done with 14197\n",
      "done with 14189\n",
      "done with 14181\n",
      "done with 14154\n",
      "done with 14122\n",
      "done with 14117\n",
      "done with 14110\n",
      "done with 14102\n",
      "done with 14099\n",
      "done with 14051\n",
      "done with 14049\n",
      "done with 14046\n",
      "done with 14042\n",
      "done with 14034\n",
      "done with 14028\n",
      "done with 14026\n",
      "done with 14022\n",
      "done with 14020\n",
      "done with 14016\n",
      "done with 14013\n",
      "done with 14004\n",
      "done with 11030\n",
      "done with 11025\n",
      "done with 11018\n",
      "done with 11008\n",
      "done with 7832\n",
      "done with 7818\n",
      "done with 7809\n",
      "done with 7796\n",
      "done with 7788\n",
      "done with 7781\n",
      "done with 7769\n",
      "done with 7760\n",
      "done with 7751\n",
      "done with 7742\n",
      "done with 7734\n",
      "done with 6590\n",
      "done with 6582\n",
      "done with 6566\n",
      "done with 6559\n",
      "done with 6551\n",
      "done with 6544\n",
      "done with 6534\n",
      "done with 6525\n",
      "done with 6520\n",
      "done with 6514\n",
      "done with 6506\n",
      "done with 10311\n",
      "done with 10298\n",
      "done with 10848\n"
     ]
    }
   ],
   "source": [
    "percentage_ranges = {\n",
    "    '0-10': [],\n",
    "    '11-20': [],\n",
    "    '21-30': [],\n",
    "    '31-40': [],\n",
    "    '41-50': [],\n",
    "    '51-60': [],\n",
    "    '61-70': [],\n",
    "    '71-80': [],\n",
    "}\n",
    "\n",
    "# Function to calculate the percentage difference\n",
    "\n",
    "\n",
    "def calculate_percentage_difference(regular_price, sale_price):\n",
    "    if regular_price != 0:\n",
    "        return ((regular_price - sale_price) / regular_price) * 100\n",
    "    return 0.0\n",
    "\n",
    "\n",
    "# Categorize products into percentage difference ranges\n",
    "for product_id in originals_id_list:\n",
    "    product = wc_api.get(f\"products/{product_id}\").json()\n",
    "    if 'variations' in product and len(product['variations']) > 0:\n",
    "        variation_id = product['variations'][0]\n",
    "        variation = wc_api.get(f\"products/{variation_id}\").json()\n",
    "\n",
    "        regular_price = float(\n",
    "            variation['regular_price']) if 'regular_price' in variation else 0.0\n",
    "        sale_price = float(variation['sale_price']\n",
    "                           ) if 'sale_price' in variation else 0.0\n",
    "\n",
    "        percentage_difference = calculate_percentage_difference(\n",
    "            regular_price, sale_price)\n",
    "\n",
    "        for range_name, range_values in percentage_ranges.items():\n",
    "            start, end = map(int, range_name.split('-'))\n",
    "            if start <= percentage_difference <= end:\n",
    "                range_values.append(product_id)\n",
    "                break\n",
    "    print(f'done with {product_id}')\n"
   ]
  },
  {
   "cell_type": "code",
   "execution_count": 95,
   "metadata": {},
   "outputs": [
    {
     "name": "stdout",
     "output_type": "stream",
     "text": [
      "{'0-10': [], '11-20': [10862], '21-30': [10838, 10811, 10783, 10768, 10759, 10749, 10737, 10636, 18468, 18369, 18358, 18350, 18335, 18290, 9360, 9351, 9213, 9204, 9193, 14034, 14004, 11030, 11008, 10848], '31-40': [10829, 10798, 10790, 18478, 18407, 18325, 18319, 14189, 14181, 14046, 6582, 6566, 6551, 6544, 6534, 6525, 6520, 6514, 6506, 10311, 10298], '41-50': [18418, 14677, 14661, 14627, 14197, 14122, 14117, 14051, 7809, 7788, 7751], '51-60': [14499, 14495, 14477], '61-70': [], '71-80': []}\n"
     ]
    }
   ],
   "source": [
    "print(percentage_ranges)"
   ]
  },
  {
   "cell_type": "code",
   "execution_count": null,
   "metadata": {},
   "outputs": [],
   "source": []
  }
 ],
 "metadata": {
  "kernelspec": {
   "display_name": "Python 3",
   "language": "python",
   "name": "python3"
  },
  "language_info": {
   "codemirror_mode": {
    "name": "ipython",
    "version": 3
   },
   "file_extension": ".py",
   "mimetype": "text/x-python",
   "name": "python",
   "nbconvert_exporter": "python",
   "pygments_lexer": "ipython3",
   "version": "3.9.6"
  },
  "orig_nbformat": 4
 },
 "nbformat": 4,
 "nbformat_minor": 2
}
