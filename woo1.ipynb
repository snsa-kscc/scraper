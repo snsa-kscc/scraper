{
 "cells": [
  {
   "cell_type": "code",
   "execution_count": 1,
   "metadata": {},
   "outputs": [],
   "source": [
    "import os\n",
    "from woocommerce import API\n",
    "from dotenv import load_dotenv\n",
    "\n",
    "load_dotenv()\n",
    "\n",
    "woocommerce_url = os.getenv('URL')\n",
    "woocommerce_key = os.getenv('KEY')\n",
    "woocommerce_secret = os.getenv('SECRET')\n",
    "\n",
    "wc_api = API(\n",
    "    url=woocommerce_url,\n",
    "    consumer_key=woocommerce_key,\n",
    "    consumer_secret=woocommerce_secret,\n",
    "    version='wc/v3'\n",
    ")\n"
   ]
  },
  {
   "cell_type": "code",
   "execution_count": 2,
   "metadata": {},
   "outputs": [],
   "source": [
    "params = {\n",
    "    'search': 'SAUCONY',\n",
    "    'status': 'publish',\n",
    "    'password_protected': False,\n",
    "    'on_sale': 'true',\n",
    "    'per_page': 95\n",
    "}\n"
   ]
  },
  {
   "cell_type": "code",
   "execution_count": 7,
   "metadata": {},
   "outputs": [],
   "source": [
    "all_saucony_products = []\n",
    "\n",
    "page = 1\n",
    "while True:\n",
    "    params['page'] = page\n",
    "    products = wc_api.get(\"products\", params=params).json()\n",
    "    if not products:\n",
    "        break\n",
    "    all_saucony_products.extend(products)\n",
    "    page += 1\n"
   ]
  },
  {
   "cell_type": "code",
   "execution_count": 12,
   "metadata": {},
   "outputs": [],
   "source": [
    "originals_sku_list = []\n",
    "originals_list = []\n",
    "originals_id_list = []\n",
    "\n",
    "for product in all_saucony_products:\n",
    "    attributes = product.get('attributes', [])\n",
    "    for attribute in attributes:\n",
    "        if attribute.get('name') == 'Brend' and 'Saucony Originals' in attribute.get('options', []):\n",
    "            originals_id_list.append(product['id'])"
   ]
  },
  {
   "cell_type": "code",
   "execution_count": 187,
   "metadata": {},
   "outputs": [
    {
     "data": {
      "text/plain": [
       "105"
      ]
     },
     "execution_count": 187,
     "metadata": {},
     "output_type": "execute_result"
    }
   ],
   "source": [
    "len(originals_id_list)"
   ]
  },
  {
   "cell_type": "code",
   "execution_count": 188,
   "metadata": {},
   "outputs": [
    {
     "name": "stdout",
     "output_type": "stream",
     "text": [
      "2023-08-01T22:42:14\n",
      "2023-07-01T22:42:12\n",
      "2023-03-01T22:42:12\n",
      "2023-07-01T22:42:10\n",
      "2023-03-01T22:42:10\n",
      "2023-03-01T22:42:07\n",
      "2023-07-01T22:42:07\n",
      "2023-07-01T22:42:05\n",
      "2023-07-01T22:42:05\n",
      "2023-07-01T22:42:03\n",
      "2023-07-01T22:42:03\n",
      "2023-07-01T22:41:53\n",
      "2023-03-01T14:56:30\n",
      "2023-03-01T14:56:27\n",
      "2023-03-01T14:56:27\n",
      "2023-03-01T14:56:25\n",
      "2023-03-01T14:56:25\n",
      "2023-03-01T14:56:25\n",
      "2023-03-01T14:56:24\n",
      "2023-07-28T14:56:30\n",
      "2023-07-28T14:56:20\n",
      "2023-07-28T14:56:20\n",
      "2023-07-28T14:56:18\n",
      "2023-07-28T14:56:18\n",
      "2023-02-28T14:56:16\n",
      "2023-02-28T14:56:16\n",
      "2023-02-28T14:56:14\n",
      "2023-07-28T14:56:14\n",
      "2023-07-08T15:54:08\n",
      "2023-07-08T15:54:08\n",
      "2023-07-08T15:53:54\n",
      "2023-07-08T15:53:54\n",
      "2023-07-08T15:53:54\n",
      "2023-03-23T18:01:14\n",
      "2023-02-06T00:00:00\n",
      "2023-02-06T00:00:00\n",
      "2023-02-06T00:00:00\n",
      "2023-02-06T00:00:00\n",
      "2023-02-06T00:00:00\n",
      "2023-02-06T00:00:00\n",
      "2023-02-06T00:00:00\n",
      "2023-02-06T00:00:00\n",
      "2023-02-06T00:00:00\n",
      "2023-02-06T00:00:00\n",
      "2023-02-06T00:00:00\n",
      "2023-02-06T00:00:00\n",
      "2023-02-06T00:00:00\n",
      "2023-02-06T00:00:00\n",
      "2023-02-06T00:00:00\n",
      "2023-02-06T00:00:00\n",
      "2023-02-06T00:00:00\n",
      "2023-02-06T00:00:00\n",
      "2023-02-06T00:00:00\n",
      "2023-02-06T00:00:00\n",
      "2023-02-06T00:00:00\n",
      "2023-02-06T00:00:00\n",
      "2023-02-06T00:00:00\n",
      "2023-02-06T00:00:00\n",
      "2023-02-06T00:00:00\n",
      "2023-02-06T00:00:00\n",
      "2023-02-06T00:00:00\n",
      "2023-07-06T00:00:00\n",
      "2023-07-06T00:00:00\n",
      "2023-02-06T00:00:00\n",
      "2023-02-06T00:00:00\n",
      "2023-02-06T00:00:00\n",
      "2023-02-06T00:00:00\n",
      "2023-02-06T00:00:00\n",
      "2023-07-06T00:00:00\n",
      "2023-02-06T00:00:00\n",
      "2023-02-06T00:00:00\n",
      "2023-02-06T00:00:00\n",
      "2023-02-06T00:00:00\n",
      "2023-02-06T00:00:00\n",
      "2023-02-06T00:00:00\n",
      "2023-07-06T00:00:00\n",
      "2023-07-03T15:54:30\n",
      "2023-07-03T15:54:30\n",
      "2023-07-03T15:54:30\n",
      "2023-07-03T15:54:30\n",
      "2023-07-09T10:03:02\n",
      "2022-12-09T10:03:00\n",
      "2022-12-09T10:03:00\n",
      "2022-12-09T10:02:58\n",
      "2022-12-09T10:02:58\n",
      "2022-12-09T10:02:58\n",
      "2022-12-09T10:02:56\n",
      "2022-12-09T10:02:56\n",
      "2022-12-09T10:02:54\n",
      "2022-12-09T10:02:54\n",
      "2022-12-09T10:02:54\n",
      "2022-11-07T12:55:12\n",
      "2022-11-07T12:55:12\n",
      "2022-11-07T12:55:10\n",
      "2022-11-07T12:55:10\n",
      "2022-11-07T12:55:09\n",
      "2022-11-07T12:55:09\n",
      "2022-11-07T12:55:09\n",
      "2022-11-07T12:55:07\n",
      "2022-11-07T12:55:07\n",
      "2022-11-07T12:55:07\n",
      "2022-11-07T12:55:07\n",
      "2022-10-30T14:52:35\n",
      "2022-10-30T14:52:33\n",
      "2023-07-01T22:42:14\n"
     ]
    }
   ],
   "source": [
    "for i in originals_id_list:\n",
    "    product = wc_api.get(f'products/{i}').json()\n",
    "    print(product['date_created'])"
   ]
  },
  {
   "cell_type": "code",
   "execution_count": null,
   "metadata": {},
   "outputs": [],
   "source": [
    "wc_api.get(\"products\", params={\"per_page\": 20}).json()"
   ]
  },
  {
   "cell_type": "code",
   "execution_count": 30,
   "metadata": {},
   "outputs": [],
   "source": [
    "product_sku = '006272-108'\n",
    "product = wc_api.get('products', params={\"sku\":product_sku}).json()"
   ]
  },
  {
   "cell_type": "code",
   "execution_count": 16,
   "metadata": {},
   "outputs": [],
   "source": [
    "low_originals = []\n",
    "\n",
    "for product_id in originals_id_list:\n",
    "    total_stock = 0 \n",
    "    variations = wc_api.get(f\"products/{product_id}/variations\").json()\n",
    "\n",
    "    for variation in variations:\n",
    "        stock_quantity = variation['stock_quantity']\n",
    "        total_stock += stock_quantity if stock_quantity is not None else 0\n",
    "    \n",
    "    if total_stock <= 3:\n",
    "        low_originals.append(product_id)\n"
   ]
  },
  {
   "cell_type": "code",
   "execution_count": 22,
   "metadata": {},
   "outputs": [
    {
     "name": "stdout",
     "output_type": "stream",
     "text": [
      "[10862, 10838, 10829, 10811, 10798, 10790, 10783, 10768, 10759, 10749, 10737, 10636, 18478, 18458, 18447, 18429, 18423, 18418, 18407, 18468, 18369, 18358, 18350, 18335, 18325, 18319, 18309, 18290, 9360, 9351, 9213, 9204, 9193, 14689, 14677, 14673, 14669, 14666, 14661, 14646, 14644, 14627, 14618, 14616, 14614, 14573, 14570, 14542, 14503, 14499, 14495, 14477, 14207, 14205, 14201, 14197, 14189, 14181, 14154, 14122, 14117, 14110, 14102, 14099, 14051, 14049, 14046, 14042, 14034, 14028, 14026, 14022, 14020, 14016, 14013, 14004, 11030, 11025, 11018, 11008, 7832, 7818, 7809, 7796, 7788, 7781, 7769, 7760, 7751, 7742, 7734, 6590, 6582, 6566, 6559, 6551, 6544, 6534, 6525, 6520, 6514, 6506, 10311, 10298, 10848]\n"
     ]
    }
   ],
   "source": [
    "print(originals_id_list)"
   ]
  },
  {
   "cell_type": "code",
   "execution_count": 59,
   "metadata": {},
   "outputs": [
    {
     "name": "stdout",
     "output_type": "stream",
     "text": [
      "[14689, 14677, 14673, 14669, 14666, 14646, 14644, 14618, 14616, 14614, 14573, 14570, 14503, 14477, 14207, 14205, 14117, 14051, 14049, 14046, 14042, 14028, 14026, 14016, 14013, 6590, 6566, 6559, 6551, 6520, 10298]\n"
     ]
    }
   ],
   "source": [
    "print(low_originals)"
   ]
  },
  {
   "cell_type": "code",
   "execution_count": 52,
   "metadata": {},
   "outputs": [],
   "source": [
    "def add_categories_to_product(product_id, new_category_ids):\n",
    "    product = wc_api.get(f\"products/{product_id}\").json()\n",
    "    existing_category_ids = [category['id'] for category in product['categories']]\n",
    "    \n",
    "    categories_to_update = list(set(existing_category_ids + new_category_ids))\n",
    "    \n",
    "    updated_categories = [{'id': cat_id} for cat_id in categories_to_update]\n",
    "\n",
    "    updated_product = {'categories': updated_categories}\n",
    "    print(wc_api.put(f\"products/{product_id}\", data=updated_product))"
   ]
  },
  {
   "cell_type": "code",
   "execution_count": null,
   "metadata": {},
   "outputs": [],
   "source": [
    "category_ids_to_add = [151, 132, 152]"
   ]
  },
  {
   "cell_type": "code",
   "execution_count": null,
   "metadata": {},
   "outputs": [],
   "source": [
    "for single_original in low_originals:\n",
    "  add_categories_to_product(single_original, category_ids_to_add)"
   ]
  },
  {
   "cell_type": "code",
   "execution_count": 60,
   "metadata": {},
   "outputs": [
    {
     "name": "stdout",
     "output_type": "stream",
     "text": [
      "<Response [200]>\n"
     ]
    }
   ],
   "source": [
    "data = {\n",
    "    \"date_created\": \"2017-03-23T17:01:14\"\n",
    "}\n",
    "print(wc_api.put(\"products/14689\", data))"
   ]
  },
  {
   "cell_type": "code",
   "execution_count": 72,
   "metadata": {},
   "outputs": [],
   "source": [
    "sorted_product_ids = sorted(low_originals[:5], key=get_product_price, reverse=True)"
   ]
  },
  {
   "cell_type": "code",
   "execution_count": null,
   "metadata": {},
   "outputs": [],
   "source": [
    "wc_api.get(\"products/14690\").json()"
   ]
  },
  {
   "cell_type": "code",
   "execution_count": 84,
   "metadata": {},
   "outputs": [
    {
     "name": "stdout",
     "output_type": "stream",
     "text": [
      "The percentage difference between regular price and sale price is: 50.00%\n"
     ]
    }
   ],
   "source": [
    "product_id = 14689\n",
    "\n",
    "product = wc_api.get(f\"products/{product_id}\").json()\n",
    "\n",
    "if 'variations' in product and len(product['variations']) > 0:\n",
    "    variation_id = product['variations'][0]\n",
    "    variation = wc_api.get(f\"products/{variation_id}\").json()\n",
    "\n",
    "    regular_price = float(\n",
    "        variation['regular_price']) if 'regular_price' in variation else 0.0\n",
    "    sale_price = float(variation['sale_price']\n",
    "                       ) if 'sale_price' in variation else 0.0\n",
    "\n",
    "    if regular_price != 0:\n",
    "        percentage_difference = (\n",
    "            (regular_price - sale_price) / regular_price) * 100\n",
    "        print(\n",
    "            f\"The percentage difference between regular price and sale price is: {percentage_difference:.2f}%\")\n",
    "    else:\n",
    "        print(\"Regular price is not available.\")\n",
    "else:\n",
    "    print(\"Product has no variations.\")\n"
   ]
  },
  {
   "cell_type": "code",
   "execution_count": 120,
   "metadata": {},
   "outputs": [
    {
     "name": "stdout",
     "output_type": "stream",
     "text": [
      "20.0\n",
      "30.0\n",
      "40.0\n",
      "30.0\n",
      "40.0\n",
      "40.0\n",
      "30.0\n",
      "30.0\n",
      "30.0\n",
      "30.0\n",
      "30.0\n",
      "30.0\n",
      "40.0\n",
      "40.0\n",
      "40.0\n",
      "40.0\n",
      "40.0\n",
      "50.0\n",
      "40.0\n",
      "30.0\n",
      "30.0\n",
      "30.0\n",
      "30.0\n",
      "30.0\n",
      "40.0\n",
      "40.0\n",
      "40.0\n",
      "30.0\n",
      "30.0\n",
      "30.0\n",
      "30.0\n",
      "30.0\n",
      "30.0\n",
      "50.0\n",
      "50.0\n",
      "50.0\n",
      "50.0\n",
      "50.0\n",
      "50.0\n",
      "50.0\n",
      "50.0\n",
      "50.0\n",
      "50.0\n",
      "50.0\n",
      "50.0\n",
      "50.0\n",
      "50.0\n",
      "60.0\n",
      "60.0\n",
      "60.0\n",
      "60.0\n",
      "60.0\n",
      "50.0\n",
      "50.0\n",
      "50.0\n",
      "50.0\n",
      "40.0\n",
      "40.0\n",
      "50.0\n",
      "50.0\n",
      "50.0\n",
      "30.0\n",
      "30.0\n",
      "50.0\n",
      "50.0\n",
      "50.0\n",
      "40.0\n",
      "50.0\n",
      "30.0\n",
      "50.0\n",
      "50.0\n",
      "50.0\n",
      "50.0\n",
      "50.0\n",
      "50.0\n",
      "30.0\n",
      "30.0\n",
      "30.0\n",
      "30.0\n",
      "30.0\n",
      "30.0\n",
      "40.0\n",
      "50.0\n",
      "40.0\n",
      "50.0\n",
      "40.0\n",
      "40.0\n",
      "50.0\n",
      "50.0\n",
      "40.0\n",
      "40.0\n",
      "40.0\n",
      "40.0\n",
      "40.0\n",
      "40.0\n",
      "40.0\n",
      "40.0\n",
      "40.0\n",
      "40.0\n",
      "40.0\n",
      "40.0\n",
      "40.0\n",
      "40.0\n",
      "40.0\n",
      "30.0\n"
     ]
    }
   ],
   "source": [
    "percentage_ranges = {\n",
    "    '0-10': [],\n",
    "    '11-20': [],\n",
    "    '21-30': [],\n",
    "    '31-40': [],\n",
    "    '41-50': [],\n",
    "    '51-60': [],\n",
    "    '61-70': [],\n",
    "    '71-80': [],\n",
    "}\n",
    "\n",
    "# Function to calculate the percentage difference\n",
    "\n",
    "\n",
    "def calculate_percentage_difference(regular_price, sale_price):\n",
    "    if regular_price != 0:\n",
    "        percentage_diff = ((regular_price - sale_price) / regular_price) * 100\n",
    "        rounded_percentage = round(percentage_diff, 1)\n",
    "        return rounded_percentage\n",
    "    return 0.0\n",
    "\n",
    "\n",
    "# Categorize products into percentage difference ranges\n",
    "for product_id in originals_id_list:\n",
    "    product = wc_api.get(f\"products/{product_id}\").json()\n",
    "    if 'variations' in product and len(product['variations']) > 0:\n",
    "        variation_id = product['variations'][0]\n",
    "        variation = wc_api.get(f\"products/{variation_id}\").json()\n",
    "\n",
    "        regular_price = float(\n",
    "            variation['regular_price']) if 'regular_price' in variation else 0.0\n",
    "        sale_price = float(variation['sale_price']\n",
    "                           ) if 'sale_price' in variation else 0.0\n",
    "        \n",
    "        percentage_difference = calculate_percentage_difference(\n",
    "            regular_price, sale_price)\n",
    "        print(percentage_difference)\n",
    "\n",
    "        for range_name, range_values in percentage_ranges.items():\n",
    "            start, end = map(int, range_name.split('-'))\n",
    "            if start <= percentage_difference <= end:\n",
    "                range_values.append(product_id)\n",
    "                break"
   ]
  },
  {
   "cell_type": "code",
   "execution_count": 184,
   "metadata": {},
   "outputs": [
    {
     "data": {
      "text/plain": [
       "105"
      ]
     },
     "execution_count": 184,
     "metadata": {},
     "output_type": "execute_result"
    }
   ],
   "source": [
    "total_products = sum(len(product_ids)for product_ids in percentage_ranges.values())\n",
    "total_products"
   ]
  },
  {
   "cell_type": "code",
   "execution_count": 131,
   "metadata": {},
   "outputs": [
    {
     "name": "stdout",
     "output_type": "stream",
     "text": [
      "{'0-10': [], '11-20': [10862], '21-30': [9360, 10768, 10759, 10848, 11025, 11018, 10783, 9351, 18468, 18369, 18358, 10838, 10811, 7832, 18335, 18290, 14034, 14110, 10749, 10737, 10636, 18350, 9213, 9204, 9193, 11030, 11008, 14102, 14004], '31-40': [10311, 10829, 10798, 10790, 14046, 18478, 7769, 18447, 18429, 18423, 18309, 7796, 7742, 7734, 18458, 7818, 7781, 6590, 6559, 18325, 6566, 6544, 6534, 6520, 6514, 10298, 18407, 18319, 14189, 14181, 6582, 6551, 6525, 6506], '41-50': [18418, 14689, 14677, 14673, 14669, 14666, 14661, 14646, 14644, 14627, 14618, 14616, 14614, 14573, 14570, 14207, 14205, 14201, 14197, 14154, 14122, 14117, 14099, 14051, 14049, 14042, 14028, 14026, 14022, 14020, 14016, 14013, 7809, 7788, 7760, 7751], '51-60': [14542, 14503, 14499, 14495, 14477], '61-70': [], '71-80': []}\n"
     ]
    }
   ],
   "source": [
    "print(percentage_ranges)"
   ]
  },
  {
   "cell_type": "code",
   "execution_count": 161,
   "metadata": {},
   "outputs": [],
   "source": [
    "def get_product_price(product_id):\n",
    "    product = wc_api.get(f\"products/{product_id}\").json()\n",
    "    if product['price'] == '':\n",
    "        print(product_id)\n",
    "    return float(product['price']) if product['price'] != '' else 0.0\n"
   ]
  },
  {
   "cell_type": "code",
   "execution_count": 162,
   "metadata": {},
   "outputs": [
    {
     "name": "stdout",
     "output_type": "stream",
     "text": [
      "14646\n",
      "14026\n"
     ]
    }
   ],
   "source": [
    "for range_name, product_ids in percentage_ranges.items():\n",
    "    sorted_product_ids = sorted(product_ids, key=get_product_price, reverse=True)\n",
    "    percentage_ranges[range_name] = sorted_product_ids"
   ]
  },
  {
   "cell_type": "code",
   "execution_count": 172,
   "metadata": {},
   "outputs": [
    {
     "name": "stdout",
     "output_type": "stream",
     "text": [
      "{'0-10': [], '11-20': [10862], '21-30': [9360, 10768, 10759, 10848, 11025, 11018, 10783, 9351, 18468, 18369, 18358, 10838, 10811, 7832, 18335, 18290, 14034, 14110, 10749, 10737, 10636, 18350, 9213, 9204, 9193, 11030, 11008, 14102, 14004], '31-40': [10311, 10829, 10798, 10790, 14046, 18478, 7769, 18447, 18429, 18423, 18309, 7796, 7742, 7734, 18458, 7818, 7781, 6590, 6559, 18325, 6566, 6544, 6534, 6520, 6514, 10298, 18407, 18319, 14189, 14181, 6582, 6551, 6525, 6506], '41-50': [7809, 7788, 14154, 14661, 7760, 18418, 7751, 14197, 14677, 14122, 14117, 14689, 14666, 14207, 14205, 14201, 14042, 14051, 14669, 14614, 14570, 14099, 14673, 14644, 14618, 14616, 14573, 14049, 14028, 14022, 14020, 14016, 14013, 14627, 14646, 14026], '51-60': [14499, 14495, 14503, 14542, 14477], '61-70': [], '71-80': []}\n"
     ]
    }
   ],
   "source": [
    "print(percentage_ranges)"
   ]
  },
  {
   "cell_type": "code",
   "execution_count": 189,
   "metadata": {},
   "outputs": [],
   "source": [
    "from datetime import datetime, timedelta"
   ]
  },
  {
   "cell_type": "code",
   "execution_count": 201,
   "metadata": {},
   "outputs": [],
   "source": [
    "product_ids = [9360, 10768, 10759, 10848, 11025, 11018, 10783, 9351, 18468, 18369, 18358, 10838, 10811,\n",
    "               7832, 18335, 18290, 14034, 14110, 10749, 10737, 10636, 18350, 9213, 9204, 9193, 11030, 11008, 14102, 14004]\n",
    "starting_time = datetime(2023, 4, 2, 10, 3, 2)"
   ]
  },
  {
   "cell_type": "code",
   "execution_count": 202,
   "metadata": {},
   "outputs": [
    {
     "name": "stdout",
     "output_type": "stream",
     "text": [
      "Updated date_created for product 14004\n",
      "Updated date_created for product 14102\n",
      "Updated date_created for product 11008\n",
      "Updated date_created for product 11030\n",
      "Updated date_created for product 9193\n",
      "Updated date_created for product 9204\n",
      "Updated date_created for product 9213\n",
      "Updated date_created for product 18350\n",
      "Updated date_created for product 10636\n",
      "Updated date_created for product 10737\n",
      "Updated date_created for product 10749\n",
      "Updated date_created for product 14110\n",
      "Updated date_created for product 14034\n",
      "Updated date_created for product 18290\n",
      "Updated date_created for product 18335\n",
      "Updated date_created for product 7832\n",
      "Updated date_created for product 10811\n",
      "Updated date_created for product 10838\n",
      "Updated date_created for product 18358\n",
      "Updated date_created for product 18369\n",
      "Updated date_created for product 18468\n",
      "Updated date_created for product 9351\n",
      "Updated date_created for product 10783\n",
      "Updated date_created for product 11018\n",
      "Updated date_created for product 11025\n",
      "Updated date_created for product 10848\n",
      "Updated date_created for product 10759\n",
      "Updated date_created for product 10768\n",
      "Updated date_created for product 9360\n"
     ]
    }
   ],
   "source": [
    "for product_id in reversed(product_ids):\n",
    "    new_time_str = starting_time.strftime('%Y-%m-%dT%H:%M:%S')\n",
    "\n",
    "    updated_product = {'date_created': new_time_str}\n",
    "    response = wc_api.put(f\"products/{product_id}\", data=updated_product)\n",
    "\n",
    "    if response.status_code == 200:\n",
    "        print(f\"Updated date_created for product {product_id}\")\n",
    "    else:\n",
    "        print(f\"Failed to update date_created for product {product_id}\")\n",
    "    \n",
    "    starting_time += timedelta(minutes=10)\n"
   ]
  },
  {
   "cell_type": "code",
   "execution_count": null,
   "metadata": {},
   "outputs": [],
   "source": []
  },
  {
   "cell_type": "code",
   "execution_count": null,
   "metadata": {},
   "outputs": [],
   "source": []
  },
  {
   "cell_type": "code",
   "execution_count": null,
   "metadata": {},
   "outputs": [],
   "source": []
  },
  {
   "cell_type": "code",
   "execution_count": 183,
   "metadata": {},
   "outputs": [
    {
     "name": "stdout",
     "output_type": "stream",
     "text": [
      "<class 'str'>\n",
      "<class 'str'>\n"
     ]
    }
   ],
   "source": [
    "arr = [7809, 7788, 14154, 14661, 7760, 18418, 7751, 14197, 14677, 14122, 14117, 14689, 14666, 14207, 14205, 14201, 14042, 14051,\n",
    "       14669, 14614, 14570, 14099, 14673, 14644, 14618, 14616, 14573, 14049, 14028, 14022, 14020, 14016, 14013, 14627, 14646, 14026]\n",
    "\n",
    "for i in arr[:2]:\n",
    "    product = wc_api.get(f'products/{i}').json()\n",
    "    print(type(product['price']))"
   ]
  },
  {
   "cell_type": "code",
   "execution_count": null,
   "metadata": {},
   "outputs": [],
   "source": []
  },
  {
   "cell_type": "code",
   "execution_count": null,
   "metadata": {},
   "outputs": [],
   "source": []
  },
  {
   "cell_type": "code",
   "execution_count": 177,
   "metadata": {},
   "outputs": [
    {
     "data": {
      "text/plain": [
       "{'id': 14026,\n",
       " 'name': 'SAUCONY Shadow 5000 Vintage',\n",
       " 'slug': 'saucony-shadow-5000-vintage-2',\n",
       " 'permalink': 'https://www.jump2sport.hr/p/saucony-shadow-5000-vintage-2/',\n",
       " 'date_created': '2023-02-06T00:00:00',\n",
       " 'date_created_gmt': '2023-02-05T23:00:00',\n",
       " 'date_modified': '2023-08-30T18:17:27',\n",
       " 'date_modified_gmt': '2023-08-30T16:17:27',\n",
       " 'type': 'variable',\n",
       " 'status': 'publish',\n",
       " 'featured': False,\n",
       " 'catalog_visibility': 'visible',\n",
       " 'description': '',\n",
       " 'short_description': '<p>Ženske tenisice</p>\\n',\n",
       " 'sku': 'S60405-17',\n",
       " 'price': '',\n",
       " 'regular_price': '',\n",
       " 'sale_price': '',\n",
       " 'date_on_sale_from': None,\n",
       " 'date_on_sale_from_gmt': None,\n",
       " 'date_on_sale_to': None,\n",
       " 'date_on_sale_to_gmt': None,\n",
       " 'on_sale': True,\n",
       " 'purchasable': False,\n",
       " 'total_sales': 1,\n",
       " 'virtual': False,\n",
       " 'downloadable': False,\n",
       " 'downloads': [],\n",
       " 'download_limit': -1,\n",
       " 'download_expiry': -1,\n",
       " 'external_url': '',\n",
       " 'button_text': '',\n",
       " 'tax_status': 'none',\n",
       " 'tax_class': '',\n",
       " 'manage_stock': True,\n",
       " 'stock_quantity': 1,\n",
       " 'backorders': 'no',\n",
       " 'backorders_allowed': False,\n",
       " 'backordered': False,\n",
       " 'low_stock_amount': None,\n",
       " 'sold_individually': False,\n",
       " 'weight': '',\n",
       " 'dimensions': {'length': '', 'width': '', 'height': ''},\n",
       " 'shipping_required': True,\n",
       " 'shipping_taxable': False,\n",
       " 'shipping_class': '',\n",
       " 'shipping_class_id': 0,\n",
       " 'reviews_allowed': False,\n",
       " 'average_rating': '0.00',\n",
       " 'rating_count': 0,\n",
       " 'upsell_ids': [],\n",
       " 'cross_sell_ids': [],\n",
       " 'parent_id': 0,\n",
       " 'purchase_note': '',\n",
       " 'categories': [{'id': 151, 'name': 'Outlet', 'slug': 'outlet-outlet'},\n",
       "  {'id': 149, 'name': 'Sport lifestyle', 'slug': 'sport-lifestyle'},\n",
       "  {'id': 152, 'name': 'Zadnje veličine', 'slug': 'zadnje-velicine'},\n",
       "  {'id': 132, 'name': 'OUTLET', 'slug': 'outlet'}],\n",
       " 'tags': [],\n",
       " 'images': [{'id': 15215,\n",
       "   'date_created': '2023-04-14T12:56:32',\n",
       "   'date_created_gmt': '2023-04-14T08:56:32',\n",
       "   'date_modified': '2023-04-14T12:56:32',\n",
       "   'date_modified_gmt': '2023-04-14T08:56:32',\n",
       "   'src': 'https://www.jump2sport.hr/wp-content/uploads/2023/04/SAUCONY-Shadow-5000-Vintage-zenska-tenisica-S60405-17-1.jpg',\n",
       "   'name': 'SAUCONY-Shadow-5000-Vintage-zenska-tenisica-S60405-17-1.jpg',\n",
       "   'alt': ''},\n",
       "  {'id': 15216,\n",
       "   'date_created': '2023-04-14T12:56:32',\n",
       "   'date_created_gmt': '2023-04-14T08:56:32',\n",
       "   'date_modified': '2023-04-14T12:56:32',\n",
       "   'date_modified_gmt': '2023-04-14T08:56:32',\n",
       "   'src': 'https://www.jump2sport.hr/wp-content/uploads/2023/04/SAUCONY-Shadow-5000-Vintage-zenska-tenisica-S60405-17-2.jpg',\n",
       "   'name': 'SAUCONY-Shadow-5000-Vintage-zenska-tenisica-S60405-17-2.jpg',\n",
       "   'alt': ''},\n",
       "  {'id': 15217,\n",
       "   'date_created': '2023-04-14T12:56:33',\n",
       "   'date_created_gmt': '2023-04-14T08:56:33',\n",
       "   'date_modified': '2023-04-14T12:56:33',\n",
       "   'date_modified_gmt': '2023-04-14T08:56:33',\n",
       "   'src': 'https://www.jump2sport.hr/wp-content/uploads/2023/04/SAUCONY-Shadow-5000-Vintage-zenska-tenisica-S60405-17-3.jpg',\n",
       "   'name': 'SAUCONY-Shadow-5000-Vintage-zenska-tenisica-S60405-17-3.jpg',\n",
       "   'alt': ''},\n",
       "  {'id': 15218,\n",
       "   'date_created': '2023-04-14T12:56:33',\n",
       "   'date_created_gmt': '2023-04-14T08:56:33',\n",
       "   'date_modified': '2023-04-14T12:56:33',\n",
       "   'date_modified_gmt': '2023-04-14T08:56:33',\n",
       "   'src': 'https://www.jump2sport.hr/wp-content/uploads/2023/04/SAUCONY-Shadow-5000-Vintage-zenska-tenisica-S60405-17-4.jpg',\n",
       "   'name': 'SAUCONY-Shadow-5000-Vintage-zenska-tenisica-S60405-17-4.jpg',\n",
       "   'alt': ''},\n",
       "  {'id': 15219,\n",
       "   'date_created': '2023-04-14T12:56:34',\n",
       "   'date_created_gmt': '2023-04-14T08:56:34',\n",
       "   'date_modified': '2023-04-14T12:56:34',\n",
       "   'date_modified_gmt': '2023-04-14T08:56:34',\n",
       "   'src': 'https://www.jump2sport.hr/wp-content/uploads/2023/04/SAUCONY-Shadow-5000-Vintage-zenska-tenisica-S60405-17-5.jpg',\n",
       "   'name': 'SAUCONY-Shadow-5000-Vintage-zenska-tenisica-S60405-17-5.jpg',\n",
       "   'alt': ''}],\n",
       " 'attributes': [{'id': 2,\n",
       "   'name': 'Brend',\n",
       "   'position': 0,\n",
       "   'visible': True,\n",
       "   'variation': False,\n",
       "   'options': ['Saucony Originals']},\n",
       "  {'id': 5,\n",
       "   'name': 'Vrsta proizvoda',\n",
       "   'position': 1,\n",
       "   'visible': True,\n",
       "   'variation': False,\n",
       "   'options': ['Tenisice']},\n",
       "  {'id': 1,\n",
       "   'name': 'Spol',\n",
       "   'position': 2,\n",
       "   'visible': True,\n",
       "   'variation': False,\n",
       "   'options': ['Žene']},\n",
       "  {'id': 3,\n",
       "   'name': 'Podloga',\n",
       "   'position': 3,\n",
       "   'visible': True,\n",
       "   'variation': False,\n",
       "   'options': ['Cesta']},\n",
       "  {'id': 4,\n",
       "   'name': 'Veličina',\n",
       "   'position': 4,\n",
       "   'visible': True,\n",
       "   'variation': True,\n",
       "   'options': ['39']},\n",
       "  {'id': 7,\n",
       "   'name': 'sizechart',\n",
       "   'position': 5,\n",
       "   'visible': True,\n",
       "   'variation': False,\n",
       "   'options': ['SAUWFTW']}],\n",
       " 'default_attributes': [],\n",
       " 'variations': [14027],\n",
       " 'grouped_products': [],\n",
       " 'menu_order': 0,\n",
       " 'price_html': '<del aria-hidden=\"true\"><span class=\"woocommerce-Price-amount amount\"><bdi>106,05<span class=\"woocommerce-Price-currencySymbol\">&euro;</span></bdi></span><span class=\"woocommerce-Price-amount amount amount-eur\"> <small>(799,00 kn)</small> </span></del> <ins><span class=\"woocommerce-Price-amount amount\"><bdi>53,02<span class=\"woocommerce-Price-currencySymbol\">&euro;</span></bdi></span><span class=\"woocommerce-Price-amount amount amount-eur\"> <small>(399,00 kn)</small> </span></ins>',\n",
       " 'related_ids': [14137, 14004, 14542, 14088, 14189],\n",
       " 'meta_data': [{'id': 367362, 'key': '_parent_sku', 'value': 'S60405-17'},\n",
       "  {'id': 367363, 'key': 'rank_math_internal_links_processed', 'value': '1'},\n",
       "  {'id': 367380, 'key': '__is_newly_created_product', 'value': ''},\n",
       "  {'id': 367381, 'key': '__first_variation_id', 'value': '14027'},\n",
       "  {'id': 367384, 'key': 'feed_google_category', 'value': ''},\n",
       "  {'id': 367385, 'key': 'wpfoof-mpn-name', 'value': ''},\n",
       "  {'id': 367386, 'key': 'wpfoof-gtin-name', 'value': ''},\n",
       "  {'id': 367387, 'key': 'wpfoof-condition', 'value': ''},\n",
       "  {'id': 367388, 'key': 'wpfoof-custom-title', 'value': ''},\n",
       "  {'id': 367389, 'key': 'wpfoof-custom-descr', 'value': ''},\n",
       "  {'id': 367390, 'key': 'wpfoof-custom-url', 'value': ''},\n",
       "  {'id': 367391,\n",
       "   'key': 'wpwoofgoogle',\n",
       "   'value': {'identifier_exists': {'value': 'select'},\n",
       "    'adult': {'value': 'No'},\n",
       "    'age_group': {'value': 'select'},\n",
       "    'multipack': {'value': ''},\n",
       "    'color': {'value': ''},\n",
       "    'gender': {'value': 'select'},\n",
       "    'size': {'value': ''},\n",
       "    'size_type': {'value': 'select'},\n",
       "    'size_system': {'value': ''},\n",
       "    'pattern': {'value': ''}}},\n",
       "  {'id': 367392, 'key': '_wp_page_template', 'value': 'default'},\n",
       "  {'id': 367419, 'key': '_lowest_price_30_days', 'value': '106.05'},\n",
       "  {'id': 389305,\n",
       "   'key': '_rightpress_prices',\n",
       "   'value': '{\"991ebcea\":{\"p\":{\"14027\":{\"7e8e864e\":{\"p\":\"53.02\",\"t\":1694017038}}},\"r\":{\"14027\":{\"8cedd493\":{\"p\":\"106.05\",\"t\":1694017038}}},\"s\":{\"14027\":{\"2c193e81\":{\"p\":\"53.02\",\"t\":1694017038}}}}}'},\n",
       "  {'id': 410225,\n",
       "   'key': '_pys_conversion_label_settings',\n",
       "   'value': {'enable': False, 'label': '', 'id': ''}},\n",
       "  {'id': 410226,\n",
       "   'key': '_pys_super_pack_remove_pixel',\n",
       "   'value': 'Select Pixel'},\n",
       "  {'id': 410227,\n",
       "   'key': '_pys_super_pack_remove_ga_pixel',\n",
       "   'value': 'Select Pixel'},\n",
       "  {'id': 410228,\n",
       "   'key': '_pys_super_pack_remove_ads_pixel',\n",
       "   'value': 'Select Pixel'},\n",
       "  {'id': 410229, 'key': '_pys_super_pack_cpt_url', 'value': ''},\n",
       "  {'id': 410230, 'key': '_pys_super_pack_cpt_condition', 'value': 'only'},\n",
       "  {'id': 410231, 'key': '_pys_super_pack_cpt_cart', 'value': 'hidden'},\n",
       "  {'id': 410232, 'key': 'wpfoof-exclude-product', 'value': '0'},\n",
       "  {'id': 410233, 'key': 'wpfoof-identifier_exists', 'value': 'true'},\n",
       "  {'id': 410234, 'key': '_rank_math_gtin_code', 'value': ''},\n",
       "  {'id': 410235, 'key': 'product_image_on_hover', 'value': 'yes'},\n",
       "  {'id': 410236, 'key': 'custom_tab_priority1', 'value': '40'},\n",
       "  {'id': 410237, 'key': 'custom_tab_priority2', 'value': '41'},\n",
       "  {'id': 410238, 'key': 'header_view', 'value': 'default'},\n",
       "  {'id': 410239, 'key': 'layout', 'value': 'right-sidebar'},\n",
       "  {'id': 410240, 'key': 'rank_math_primary_product_cat', 'value': '0'},\n",
       "  {'id': 436374, 'key': 'rank_math_analytic_object_id', 'value': '239'}],\n",
       " 'stock_status': 'instock',\n",
       " 'has_options': True,\n",
       " '_links': {'self': [{'href': 'https://www.jump2sport.hr/wp-json/wc/v3/products/14026'}],\n",
       "  'collection': [{'href': 'https://www.jump2sport.hr/wp-json/wc/v3/products'}]}}"
      ]
     },
     "execution_count": 177,
     "metadata": {},
     "output_type": "execute_result"
    }
   ],
   "source": [
    "product = wc_api.get(\"products/14026\").json()\n",
    "product"
   ]
  },
  {
   "cell_type": "code",
   "execution_count": null,
   "metadata": {},
   "outputs": [],
   "source": []
  }
 ],
 "metadata": {
  "kernelspec": {
   "display_name": "Python 3",
   "language": "python",
   "name": "python3"
  },
  "language_info": {
   "codemirror_mode": {
    "name": "ipython",
    "version": 3
   },
   "file_extension": ".py",
   "mimetype": "text/x-python",
   "name": "python",
   "nbconvert_exporter": "python",
   "pygments_lexer": "ipython3",
   "version": "3.9.6"
  },
  "orig_nbformat": 4
 },
 "nbformat": 4,
 "nbformat_minor": 2
}
