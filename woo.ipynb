{
 "cells": [
  {
   "cell_type": "code",
   "execution_count": 1,
   "metadata": {},
   "outputs": [],
   "source": [
    "from woocommerce import API\n",
    "import os\n",
    "from dotenv import load_dotenv\n",
    "\n",
    "load_dotenv()\n",
    "\n",
    "woocommerce_url = os.getenv('URL')\n",
    "woocommerce_key = os.getenv('KEY')\n",
    "woocommerce_secret = os.getenv('SECRET')\n",
    "\n",
    "wc_api = API(\n",
    "    url=woocommerce_url,\n",
    "    consumer_key=woocommerce_key,\n",
    "    consumer_secret=woocommerce_secret,\n",
    "    version='wc/v3'\n",
    ")"
   ]
  },
  {
   "cell_type": "code",
   "execution_count": 2,
   "metadata": {},
   "outputs": [],
   "source": [
    "product_sku = 'S2044-449-1'\n",
    "product = wc_api.get('products', params={'sku': product_sku}).json()[0]"
   ]
  },
  {
   "cell_type": "code",
   "execution_count": 79,
   "metadata": {},
   "outputs": [],
   "source": [
    "existing_attributes = product[\"attributes\"]"
   ]
  },
  {
   "cell_type": "code",
   "execution_count": 81,
   "metadata": {},
   "outputs": [],
   "source": [
    "new_attribute = {\n",
    "    'id': 7,\n",
    "    'name': 'sizechart',\n",
    "    'position': 5,\n",
    "    'visible': True,\n",
    "    'variation': False,\n",
    "    'options': ['SAUMFTW']\n",
    "}\n",
    "modified_attribute = {'id': 2,\n",
    "    'options': ['Saucony Originals']\n",
    "}"
   ]
  },
  {
   "cell_type": "code",
   "execution_count": 82,
   "metadata": {},
   "outputs": [],
   "source": [
    "for attribute in existing_attributes:\n",
    "    if attribute['id'] == modified_attribute['id']:\n",
    "        attribute.update(modified_attribute)"
   ]
  },
  {
   "cell_type": "code",
   "execution_count": 83,
   "metadata": {},
   "outputs": [],
   "source": [
    "existing_attributes.append(new_attribute)\n"
   ]
  },
  {
   "cell_type": "code",
   "execution_count": 85,
   "metadata": {},
   "outputs": [],
   "source": [
    "product_id = product['id']"
   ]
  },
  {
   "cell_type": "code",
   "execution_count": 86,
   "metadata": {},
   "outputs": [],
   "source": [
    "payload = {\"attributes\": existing_attributes}"
   ]
  },
  {
   "cell_type": "code",
   "execution_count": null,
   "metadata": {},
   "outputs": [],
   "source": [
    "wc_api.put(f\"products/{product_id}\", payload).json()"
   ]
  },
  {
   "cell_type": "code",
   "execution_count": null,
   "metadata": {},
   "outputs": [],
   "source": [
    "existing_attributes"
   ]
  }
 ],
 "metadata": {
  "kernelspec": {
   "display_name": "Python 3",
   "language": "python",
   "name": "python3"
  },
  "language_info": {
   "codemirror_mode": {
    "name": "ipython",
    "version": 3
   },
   "file_extension": ".py",
   "mimetype": "text/x-python",
   "name": "python",
   "nbconvert_exporter": "python",
   "pygments_lexer": "ipython3",
   "version": "3.9.6"
  },
  "orig_nbformat": 4
 },
 "nbformat": 4,
 "nbformat_minor": 2
}
