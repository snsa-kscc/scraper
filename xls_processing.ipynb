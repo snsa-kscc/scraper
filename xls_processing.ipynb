{
 "cells": [
  {
   "cell_type": "code",
   "execution_count": 91,
   "metadata": {},
   "outputs": [],
   "source": [
    "import openpyxl\n",
    "from openpyxl.styles import PatternFill"
   ]
  },
  {
   "cell_type": "code",
   "execution_count": 1,
   "metadata": {},
   "outputs": [],
   "source": [
    "strings_to_find = [\n",
    "    \"SKU S10729-125\",\n",
    "    \"SKU SAW800417-SD\",\n",
    "    \"SKU S10723-16\",\n",
    "    \"SKU SA81181-BKBK\",\n",
    "    \"SKU S10813-65\",\n",
    "    \"SKU S10838-25\",\n",
    "    \"SKU SAW800408-SD\",\n",
    "    \"SKU SAW800412-SD\",\n",
    "    \"SKU SAW800412-SD\",\n",
    "    \"SKU SA81538-VS\",\n",
    "    \"SKU SA81538-VR\",\n",
    "    \"SKU S10813-10\",\n",
    "    \"SKU S20775-25\",\n",
    "    \"SKU SAW800105-HTG\",\n",
    "    \"SKU S10654-66\",\n",
    "    \"SKU S10729-30\",\n",
    "    \"SKU S70424-8\",\n",
    "    \"SKU S20755-75\",\n",
    "    \"SKU S20775-25\",\n",
    "    \"SKU SAW800105-HTG\",\n",
    "    \"SKU S10654-66\",\n",
    "    \"SKU S10729-30\",\n",
    "    \"SKU S70424-8\",\n",
    "    \"SKU S20755-75\",\n",
    "    \"SKU S70781-1\",\n",
    "    \"SKU S10720-86\",\n",
    "    \"SKU SAU900016-IDA3\",\n",
    "    \"SKU SA81153-ZST\",\n",
    "    \"SKU SAU800034-BK\"\n",
    "]"
   ]
  },
  {
   "cell_type": "code",
   "execution_count": 2,
   "metadata": {},
   "outputs": [],
   "source": [
    "strings_to_find_cleaned = [string.replace(\n",
    "    \"SKU\", \"\").strip() for string in strings_to_find]"
   ]
  },
  {
   "cell_type": "code",
   "execution_count": 94,
   "metadata": {},
   "outputs": [],
   "source": [
    "fill = PatternFill(start_color=\"FF0000\", end_color=\"FF0000\", fill_type=\"solid\")"
   ]
  },
  {
   "cell_type": "code",
   "execution_count": 100,
   "metadata": {},
   "outputs": [],
   "source": [
    "workbook = openpyxl.load_workbook('./data/otvaranje_nivuh_atikala_3108_src.xlsx')"
   ]
  },
  {
   "cell_type": "code",
   "execution_count": 101,
   "metadata": {},
   "outputs": [],
   "source": [
    "worksheet = workbook['List2']"
   ]
  },
  {
   "cell_type": "code",
   "execution_count": 102,
   "metadata": {},
   "outputs": [],
   "source": [
    "name_column_index = None\n",
    "for cell in worksheet.iter_rows(min_row=1, max_row=1, values_only=True):\n",
    "    for idx, value in enumerate(cell, 1):\n",
    "        if value == 'Treći naziv robe':\n",
    "            name_column_index = idx\n",
    "            break"
   ]
  },
  {
   "cell_type": "code",
   "execution_count": 103,
   "metadata": {},
   "outputs": [],
   "source": [
    "row_index = 0\n",
    "for row in worksheet.iter_rows(values_only=True):\n",
    "    row_index += 1"
   ]
  },
  {
   "cell_type": "code",
   "execution_count": 104,
   "metadata": {},
   "outputs": [],
   "source": [
    "for row_num in range(1, row_index + 1):\n",
    "    row = worksheet[row_num]\n",
    "    cell = row[name_column_index - 1]\n",
    "    cell_value = cell.value\n",
    "    if cell_value is not None:\n",
    "        for string in strings_to_find_cleaned:\n",
    "            if string in cell_value:\n",
    "                for item in row:\n",
    "                    item.fill = fill"
   ]
  },
  {
   "cell_type": "code",
   "execution_count": 105,
   "metadata": {},
   "outputs": [],
   "source": [
    "workbook.save('./data/colored_excel_file.xlsx')"
   ]
  },
  {
   "cell_type": "code",
   "execution_count": null,
   "metadata": {},
   "outputs": [],
   "source": []
  }
 ],
 "metadata": {
  "kernelspec": {
   "display_name": "Python 3",
   "language": "python",
   "name": "python3"
  },
  "language_info": {
   "codemirror_mode": {
    "name": "ipython",
    "version": 3
   },
   "file_extension": ".py",
   "mimetype": "text/x-python",
   "name": "python",
   "nbconvert_exporter": "python",
   "pygments_lexer": "ipython3",
   "version": "3.9.6"
  },
  "orig_nbformat": 4
 },
 "nbformat": 4,
 "nbformat_minor": 2
}
