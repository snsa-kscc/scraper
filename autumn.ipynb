{
 "cells": [
  {
   "cell_type": "code",
   "execution_count": 1,
   "metadata": {},
   "outputs": [],
   "source": [
    "import pandas as pd"
   ]
  },
  {
   "cell_type": "code",
   "execution_count": 9,
   "metadata": {},
   "outputs": [],
   "source": [
    "df = pd.read_csv('data.csv')"
   ]
  },
  {
   "cell_type": "code",
   "execution_count": 11,
   "metadata": {},
   "outputs": [],
   "source": [
    "filtered_df = df.drop_duplicates(subset='Naziv robe', keep='first')"
   ]
  },
  {
   "cell_type": "code",
   "execution_count": 16,
   "metadata": {},
   "outputs": [
    {
     "data": {
      "text/plain": [
       "0          S70424-8\n",
       "1        S70368-203\n",
       "2      SAU800034-BK\n",
       "3         S10654-66\n",
       "10         S20672-1\n",
       "           ...     \n",
       "358         UA5690e\n",
       "359             NaN\n",
       "360             NaN\n",
       "361             NaN\n",
       "362             NaN\n",
       "Name: Unique Treći naziv robe, Length: 81, dtype: object"
      ]
     },
     "execution_count": 16,
     "metadata": {},
     "output_type": "execute_result"
    }
   ],
   "source": [
    "filtered_df['Unique Treći naziv robe'] = filtered_df['Treći naziv robe'].drop_duplicates()"
   ]
  },
  {
   "cell_type": "code",
   "execution_count": 17,
   "metadata": {},
   "outputs": [],
   "source": [
    "unique_values_list = filtered_df['Unique Treći naziv robe'].dropna().tolist()"
   ]
  },
  {
   "cell_type": "code",
   "execution_count": 18,
   "metadata": {},
   "outputs": [
    {
     "data": {
      "text/plain": [
       "['S70424-8',\n",
       " 'S70368-203',\n",
       " 'SAU800034-BK',\n",
       " 'S10654-66',\n",
       " 'S20672-1',\n",
       " 'S10723-16',\n",
       " 'S70613-13',\n",
       " 'S10729-125',\n",
       " 'S20687-84',\n",
       " 'SAW800408-SD',\n",
       " 'SAW800412-SD',\n",
       " 'SAW800417-SD',\n",
       " 'S10729-30',\n",
       " 'S10813-10',\n",
       " 'S10813-65',\n",
       " 'S10838-25',\n",
       " 'S20775-25',\n",
       " 'S10720-86',\n",
       " 'SAM800313-UB',\n",
       " 'SAM800315-UB',\n",
       " 'SAM800316-UB',\n",
       " 'SAM800317-UB',\n",
       " 'SAM800320-UB',\n",
       " 'SAW800407-UB',\n",
       " 'SAW800408-UB',\n",
       " 'SAW800409-UB',\n",
       " 'SAW800410-UB',\n",
       " 'SAW800412-UB',\n",
       " 'SAW800413-UB',\n",
       " 'SAW800417-UB',\n",
       " 'S10838-30',\n",
       " 'S10838-75',\n",
       " 'S20838-30',\n",
       " 'S10823-36',\n",
       " 'S10823-60',\n",
       " 'S10830-30',\n",
       " 'S10881-32',\n",
       " 'S20755-75',\n",
       " 'S20813-22',\n",
       " 'S20823-33',\n",
       " 'S20830-32',\n",
       " 'S20881-21',\n",
       " 'S20881-60',\n",
       " 'S20810-34',\n",
       " 'S20810-35',\n",
       " 'S70665-28',\n",
       " 'S70773-1',\n",
       " 'S70773-2',\n",
       " 'S70773-3',\n",
       " 'S70775-2',\n",
       " 'S70781-1',\n",
       " 'S70782-1',\n",
       " 'S70786-3',\n",
       " 'S70790-1',\n",
       " 'S70790-3',\n",
       " 'SAU900016-IDA3',\n",
       " 'SA81153-ZST',\n",
       " 'SA81181-BKBK',\n",
       " 'SA81538-VR',\n",
       " 'SAM800058-DGH',\n",
       " 'SAW800105-HTG',\n",
       " 'JAZZ DOUBLE HL',\n",
       " 'SK261010',\n",
       " 'SA81538-VS',\n",
       " '368322002',\n",
       " '368322001',\n",
       " '6498273',\n",
       " '3MD30111504',\n",
       " '6198084',\n",
       " 'UQ3800g',\n",
       " 'UA5041e',\n",
       " 'UA5052e',\n",
       " 'UQ5360g',\n",
       " 'UA5690e']"
      ]
     },
     "execution_count": 18,
     "metadata": {},
     "output_type": "execute_result"
    }
   ],
   "source": [
    "unique_values_list"
   ]
  },
  {
   "cell_type": "code",
   "execution_count": null,
   "metadata": {},
   "outputs": [],
   "source": []
  }
 ],
 "metadata": {
  "kernelspec": {
   "display_name": "Python 3",
   "language": "python",
   "name": "python3"
  },
  "language_info": {
   "codemirror_mode": {
    "name": "ipython",
    "version": 3
   },
   "file_extension": ".py",
   "mimetype": "text/x-python",
   "name": "python",
   "nbconvert_exporter": "python",
   "pygments_lexer": "ipython3",
   "version": "3.9.6"
  },
  "orig_nbformat": 4
 },
 "nbformat": 4,
 "nbformat_minor": 2
}
