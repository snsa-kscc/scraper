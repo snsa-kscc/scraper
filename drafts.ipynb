{
 "cells": [
  {
   "cell_type": "code",
   "execution_count": 1,
   "metadata": {},
   "outputs": [],
   "source": [
    "import os\n",
    "from woocommerce import API\n",
    "from dotenv import load_dotenv\n",
    "\n",
    "load_dotenv()\n",
    "\n",
    "woocommerce_url = os.getenv('URL')\n",
    "woocommerce_key = os.getenv('KEY')\n",
    "woocommerce_secret = os.getenv('SECRET')\n",
    "\n",
    "wc_api = API(\n",
    "    url=woocommerce_url,\n",
    "    consumer_key=woocommerce_key,\n",
    "    consumer_secret=woocommerce_secret,\n",
    "    version='wc/v3'\n",
    ")"
   ]
  },
  {
   "cell_type": "code",
   "execution_count": 17,
   "metadata": {},
   "outputs": [],
   "source": [
    "response = wc_api.get(\"products\", params={\n",
    "                     \"status\": \"draft\", \"per_page\": 1, \"page\": 1})\n",
    "total_pages = response.headers[\"X-WP-TotalPages\"]\n",
    "total_products = int(response.headers[\"X-WP-Total\"])\n"
   ]
  },
  {
   "cell_type": "code",
   "execution_count": 18,
   "metadata": {},
   "outputs": [],
   "source": [
    "products = []\n",
    "for page in range(1, int(total_pages) + 1):\n",
    "    response = wc_api.get(\"products\", params={\n",
    "                         \"status\": \"draft\", \"per_page\": total_products, \"page\": page})\n",
    "    products += response.json()\n"
   ]
  },
  {
   "cell_type": "code",
   "execution_count": 30,
   "metadata": {},
   "outputs": [
    {
     "name": "stdout",
     "output_type": "stream",
     "text": [
      "S20756-35\n",
      "S20838-85\n",
      "S20756-25\n",
      "S20755-35\n",
      "S20755-25\n",
      "S10756-16\n",
      "S20762-30\n",
      "SAW800253-LPRA\n",
      "SAM800019-BKH\n",
      "SA81750-MLT\n",
      "SA81538-VCT\n",
      "SA81165-VPS\n",
      "S10392-4\n",
      "SA81750-RWP\n",
      "SA81538-BAR\n",
      "S10293-4\n",
      "SA81211-CRBH\n",
      "SA81165-BK\n",
      "SAW800283-RED\n",
      "S10737-30\n",
      "S20813-65\n",
      "S20759-31\n",
      "S20688-45\n",
      "S20688-16\n",
      "S20687-45\n",
      "S20681-16\n",
      "S20678-16\n",
      "S20723-45\n",
      "S10684-26\n",
      "S2108-790\n",
      "S10650-35\n",
      "S70555-5\n",
      "S70555-4\n",
      "S70532-1\n",
      "S20654-55\n",
      "S20654-45\n",
      "S10654-45\n",
      "SA81484-BK\n"
     ]
    }
   ],
   "source": [
    "for product in products:\n",
    "    if product['sku'].startswith('S'):\n",
    "        print(product['sku'])"
   ]
  },
  {
   "cell_type": "code",
   "execution_count": 28,
   "metadata": {},
   "outputs": [],
   "source": [
    "out = [product['sku'] for product in products if product['sku'].startswith('S')]"
   ]
  },
  {
   "cell_type": "code",
   "execution_count": 29,
   "metadata": {},
   "outputs": [
    {
     "data": {
      "text/plain": [
       "['S20756-35',\n",
       " 'S20838-85',\n",
       " 'S20756-25',\n",
       " 'S20755-35',\n",
       " 'S20755-25',\n",
       " 'S10756-16',\n",
       " 'S20762-30',\n",
       " 'SAW800253-LPRA',\n",
       " 'SAM800019-BKH',\n",
       " 'SA81750-MLT',\n",
       " 'SA81538-VCT',\n",
       " 'SA81165-VPS',\n",
       " 'S10392-4',\n",
       " 'SA81750-RWP',\n",
       " 'SA81538-BAR',\n",
       " 'S10293-4',\n",
       " 'SA81211-CRBH',\n",
       " 'SA81165-BK',\n",
       " 'SAW800283-RED',\n",
       " 'S10737-30',\n",
       " 'S20813-65',\n",
       " 'S20759-31',\n",
       " 'S20688-45',\n",
       " 'S20688-16',\n",
       " 'S20687-45',\n",
       " 'S20681-16',\n",
       " 'S20678-16',\n",
       " 'S20723-45',\n",
       " 'S10684-26',\n",
       " 'S2108-790',\n",
       " 'S10650-35',\n",
       " 'S70555-5',\n",
       " 'S70555-4',\n",
       " 'S70532-1',\n",
       " 'S20654-55',\n",
       " 'S20654-45',\n",
       " 'S10654-45',\n",
       " 'SA81484-BK']"
      ]
     },
     "execution_count": 29,
     "metadata": {},
     "output_type": "execute_result"
    }
   ],
   "source": [
    "out"
   ]
  },
  {
   "cell_type": "code",
   "execution_count": 34,
   "metadata": {},
   "outputs": [],
   "source": [
    "filtered_out = ['S20756-35',\n",
    "                'S20838-85',\n",
    "                'S20756-25',\n",
    "                'S20755-35',\n",
    "                'S20755-25',\n",
    "                'S10756-16',\n",
    "                'S20762-30',\n",
    "                'SAM800019-BKH',\n",
    "                'SA81750-MLT',\n",
    "                'SA81538-VCT',\n",
    "                'SA81165-VPS',\n",
    "                'SA81750-RWP',\n",
    "                'SA81538-BAR',\n",
    "                'S10293-4',\n",
    "                'SA81211-CRBH',\n",
    "                'SA81165-BK',\n",
    "                'SAW800283-RED',\n",
    "                'S10737-30',\n",
    "                'S20813-65',\n",
    "                'S20759-31',\n",
    "                'S20688-45',\n",
    "                'S20688-16',\n",
    "                'S20687-45',\n",
    "                'S20681-16',\n",
    "                'S20678-16',\n",
    "                'S20723-45',\n",
    "                'S10684-26',\n",
    "                'S2108-790',\n",
    "                'S10650-35',\n",
    "                'S70555-5',\n",
    "                'S70555-4',\n",
    "                'S70532-1',\n",
    "                'S20654-55',\n",
    "                'S20654-45',\n",
    "                'S10654-45',\n",
    "                'SA81484-BK']\n"
   ]
  },
  {
   "cell_type": "code",
   "execution_count": 31,
   "metadata": {},
   "outputs": [],
   "source": [
    "import pandas as pd"
   ]
  },
  {
   "cell_type": "code",
   "execution_count": 32,
   "metadata": {},
   "outputs": [],
   "source": [
    "df = pd.read_csv('input.csv')"
   ]
  },
  {
   "cell_type": "code",
   "execution_count": 35,
   "metadata": {},
   "outputs": [],
   "source": [
    "df_filtered = df[df['PARENT SKU'].str.contains('|'.join(filtered_out))]"
   ]
  },
  {
   "cell_type": "code",
   "execution_count": 39,
   "metadata": {},
   "outputs": [],
   "source": [
    "column_skus = set(df['PARENT SKU'].dropna().astype(str))\n",
    "missing_skus = set(filtered_out) - column_skus"
   ]
  },
  {
   "cell_type": "code",
   "execution_count": 40,
   "metadata": {},
   "outputs": [
    {
     "data": {
      "text/plain": [
       "{'S10756-16',\n",
       " 'S20755-25',\n",
       " 'S20755-35',\n",
       " 'S20756-25',\n",
       " 'S20756-35',\n",
       " 'S20762-30',\n",
       " 'S20838-85'}"
      ]
     },
     "execution_count": 40,
     "metadata": {},
     "output_type": "execute_result"
    }
   ],
   "source": [
    "missing_skus"
   ]
  },
  {
   "cell_type": "code",
   "execution_count": 45,
   "metadata": {},
   "outputs": [
    {
     "name": "stdout",
     "output_type": "stream",
     "text": [
      "<class 'pandas.core.frame.DataFrame'>\n",
      "Index: 29 entries, 28 to 159\n",
      "Data columns (total 16 columns):\n",
      " #   Column             Non-Null Count  Dtype  \n",
      "---  ------             --------------  -----  \n",
      " 0   BREND              29 non-null     object \n",
      " 1   PARENT SKU         29 non-null     object \n",
      " 2   Bar kod            29 non-null     int64  \n",
      " 3   Unnamed: 3         29 non-null     object \n",
      " 4   Kratki opis        29 non-null     object \n",
      " 5   Veličina           29 non-null     float64\n",
      " 6   Redovna cijena     29 non-null     float64\n",
      " 7   Snižena            29 non-null     float64\n",
      " 8   Količina           29 non-null     int64  \n",
      " 9   Kategorija         29 non-null     object \n",
      " 10  Podkategorija      29 non-null     object \n",
      " 11  Spol               29 non-null     object \n",
      " 12  Podloga            19 non-null     object \n",
      " 13  Vrsta proizvoda    29 non-null     object \n",
      " 14  Kat.broj za Wand   29 non-null     object \n",
      " 15  Vrsta proizvoda.1  18 non-null     object \n",
      "dtypes: float64(3), int64(2), object(11)\n",
      "memory usage: 3.9+ KB\n"
     ]
    }
   ],
   "source": [
    "df_filtered.info()"
   ]
  },
  {
   "cell_type": "code",
   "execution_count": 44,
   "metadata": {},
   "outputs": [],
   "source": [
    "df_filtered.to_csv('filtered.csv', index=False)"
   ]
  },
  {
   "cell_type": "code",
   "execution_count": 50,
   "metadata": {},
   "outputs": [],
   "source": [
    "df_filtered = df_filtered.drop(\n",
    "    columns=['Redovna cijena', 'Podloga', 'Veličina', 'Količina'])\n"
   ]
  },
  {
   "cell_type": "code",
   "execution_count": 55,
   "metadata": {},
   "outputs": [],
   "source": [
    "df_filtered['Kratki opis'] = df_filtered['Kratki opis'].str.lower()\n",
    "df_filtered['Kratki opis'] = df_filtered['Kratki opis'].str.replace(\n",
    "    '[čćžšđ]', lambda x: {'č': 'c', 'ć': 'c', 'ž': 'z', 'š': 's', 'đ': 'd'}[x.group()], regex=True)\n"
   ]
  },
  {
   "cell_type": "code",
   "execution_count": 58,
   "metadata": {},
   "outputs": [],
   "source": [
    "df_filtered['Kratki opis'] = df_filtered['Kratki opis'].str.replace('zenske', 'zenska')\n",
    "df_filtered['Kratki opis'] = df_filtered['Kratki opis'].str.replace('muske', 'muska')\n",
    "df_filtered['Kratki opis'] = df_filtered['Kratki opis'].str.replace('tenisice', 'tenisica')\n"
   ]
  },
  {
   "cell_type": "code",
   "execution_count": 62,
   "metadata": {},
   "outputs": [],
   "source": [
    "df_filtered['Kratki opis'] = df_filtered['Kratki opis'].str.replace(' ', '-')\n",
    "df_filtered['Unnamed: 3'] = df_filtered['Unnamed: 3'].str.replace(' ', '-')"
   ]
  },
  {
   "cell_type": "code",
   "execution_count": 65,
   "metadata": {},
   "outputs": [],
   "source": [
    "df_filtered['out'] = pd.concat(\n",
    "    [df_filtered['Unnamed: 3'], df_filtered['Kratki opis'], df_filtered['PARENT SKU']], axis=1, join='inner').apply('-'.join, axis=1)"
   ]
  },
  {
   "cell_type": "code",
   "execution_count": 67,
   "metadata": {},
   "outputs": [],
   "source": [
    "sku_dict = df_filtered.set_index('PARENT SKU')['out'].to_dict()"
   ]
  },
  {
   "cell_type": "code",
   "execution_count": 70,
   "metadata": {},
   "outputs": [
    {
     "data": {
      "text/plain": [
       "{'SA81484-BK': 'SAUCONY-Scoot-Capri-zenska-kratke-tajice-SA81484-BK',\n",
       " 'S10654-45': 'SAUCONY-Guide-14-zenska-tenisica-za-trcanje-S10654-45',\n",
       " 'S20654-45': 'SAUCONY-Guide-14-muska-tenisica-za-trcanje-S20654-45',\n",
       " 'S20654-55': 'SAUCONY-Guide-14-muska-tenisica-za-trcanje-S20654-55',\n",
       " 'S70532-1': 'SAUCONY-Grid-Web-unisex-tenisica-S70532-1',\n",
       " 'S70555-4': 'SAUCONY-Jazz-Court-unisex-tenisica-S70555-4',\n",
       " 'S70555-5': 'SAUCONY-Jazz-Court-unisex-tenisica-S70555-5',\n",
       " 'S10650-35': 'SAUCONY-Ride-14-zenska-tenisica-za-trcanje-S10650-35',\n",
       " 'S2108-790': 'SAUCONY-Shadow-Original-muska-tenisica-S2108-790',\n",
       " 'S10684-26': 'SAUCONY-Guide-15-zenska-tenisica-za-trcanje-S10684-26',\n",
       " 'S20723-45': 'SAUCONY-Kinvara-13-muska-tenisica-za-trcanje-S20723-45',\n",
       " 'S20678-16': 'SAUCONY-Triumph-19-muska-tenisica-za-trcanje-S20678-16',\n",
       " 'S20681-16': 'SAUCONY-Omni-20-muska-tenisica-za-trcanje-S20681-16',\n",
       " 'S20687-45': 'SAUCONY-Endorphin-Pro-2-muska-tenisica-za-trcanje-S20687-45',\n",
       " 'S20688-16': 'SAUCONY-Endorphin-Speed-2-muska-tenisica-za-trcanje-S20688-16',\n",
       " 'S20688-45': 'SAUCONY-Endorphin-Speed-2-muska-tenisica-za-trcanje-S20688-45',\n",
       " 'S20759-31': 'SAUCONY-Triumph-20-muska-tenisica-za-trcanje-S20759-31',\n",
       " 'S20813-65': 'SAUCONY-Endorphin-Shift-3-muska-tenisica-za-trcanje-S20813-65',\n",
       " 'S10737-30': 'SAUCONY-Peregrine-12-zenska-tenisica-za-trail-trcanje-S10737-30',\n",
       " 'SAW800283-RED': 'SAUCONY-Stopwatch-Short-Sleeve-zenska-majica--SAW800283-RED',\n",
       " 'SA81165-BK': 'SAUCONY-Hydralite-Short-Sleeve-muska-majica-kratki-rukav-SA81165-BK',\n",
       " 'SA81211-CRBH': 'SAUCONY-Dash-Seamless-Sportop-muska-majica-dugi-rukav-SA81211-CRBH',\n",
       " 'S10293-4': 'SAUCONY-Hurricane-ISO-2-zenska-tenisica-za-trcanje-S10293-4',\n",
       " 'SA81538-BAR': 'SAUCONY-Hydralite-Short-Sleeve-muska-majica-kratki-rukav-SA81538-BAR',\n",
       " 'SA81750-RWP': 'SAUCONY-Scoot-Crop-zenska-tajice-SA81750-RWP',\n",
       " 'SA81165-VPS': 'SAUCONY-Hydralite-Short-Sleeve-muska-majica-kratki-rukav-SA81165-VPS',\n",
       " 'SA81538-VCT': 'SAUCONY-Hydralite-Short-Sleeve-zenska-majica--SA81538-VCT',\n",
       " 'SA81750-MLT': 'SAUCONY-Scoot-Crop-zenska-tajice-SA81750-MLT',\n",
       " 'SAM800019-BKH': 'SAUCONY-Seamless-Sportop-muska-majica-dugi-rukav-SAM800019-BKH'}"
      ]
     },
     "execution_count": 70,
     "metadata": {},
     "output_type": "execute_result"
    }
   ],
   "source": [
    "sku_dict"
   ]
  },
  {
   "cell_type": "code",
   "execution_count": null,
   "metadata": {},
   "outputs": [],
   "source": []
  }
 ],
 "metadata": {
  "kernelspec": {
   "display_name": "Python 3",
   "language": "python",
   "name": "python3"
  },
  "language_info": {
   "codemirror_mode": {
    "name": "ipython",
    "version": 3
   },
   "file_extension": ".py",
   "mimetype": "text/x-python",
   "name": "python",
   "nbconvert_exporter": "python",
   "pygments_lexer": "ipython3",
   "version": "3.9.6"
  },
  "orig_nbformat": 4
 },
 "nbformat": 4,
 "nbformat_minor": 2
}
