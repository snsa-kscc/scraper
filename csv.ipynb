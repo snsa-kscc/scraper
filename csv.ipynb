{
 "cells": [
  {
   "cell_type": "code",
   "execution_count": 3,
   "metadata": {},
   "outputs": [],
   "source": [
    "import os\n",
    "import pandas as pd"
   ]
  },
  {
   "cell_type": "code",
   "execution_count": 20,
   "metadata": {},
   "outputs": [],
   "source": [
    "dir_path = '/Library/WebServer/Documents/public/j2s/resizing/2019/'\n",
    "url = \"http://snsa.ddns.net/public/j2s/resizing/2019/\""
   ]
  },
  {
   "cell_type": "code",
   "execution_count": 5,
   "metadata": {},
   "outputs": [],
   "source": [
    "folders = [f for f in os.listdir(dir_path) if os.path.isdir(os.path.join(dir_path, f))]"
   ]
  },
  {
   "cell_type": "code",
   "execution_count": 112,
   "metadata": {},
   "outputs": [],
   "source": [
    "df = pd.DataFrame(columns=['Folders', 'Images'])"
   ]
  },
  {
   "cell_type": "code",
   "execution_count": 113,
   "metadata": {},
   "outputs": [],
   "source": [
    "for folder in folders:\n",
    "    contents = [f'{url}{folder}/'+f for f in os.listdir(os.path.join(\n",
    "        dir_path, folder)) if not f.startswith('.')]\n",
    "    contents.sort()\n",
    "    folder_df = pd.DataFrame({'Folders': [folder], 'Images': [contents]})\n",
    "    df = pd.concat([df, folder_df], ignore_index=True)\n"
   ]
  },
  {
   "cell_type": "code",
   "execution_count": 114,
   "metadata": {},
   "outputs": [],
   "source": [
    "df['Images'] = df['Images'].astype(str)\n",
    "df['Images'] = df['Images'].str.replace(\n",
    "    '[', '').str.replace(']', '').str.replace(\"'\", '')\n"
   ]
  },
  {
   "cell_type": "code",
   "execution_count": 115,
   "metadata": {},
   "outputs": [],
   "source": [
    "df['SKU'] = df['Folders'].apply(\n",
    "    lambda x: x[x.rfind('-S') + 1:] if x.rfind('-S') != -1 else x)\n"
   ]
  },
  {
   "cell_type": "code",
   "execution_count": 116,
   "metadata": {},
   "outputs": [],
   "source": [
    "df.to_csv('2019.csv', index=False)"
   ]
  },
  {
   "cell_type": "code",
   "execution_count": null,
   "metadata": {},
   "outputs": [],
   "source": []
  }
 ],
 "metadata": {
  "kernelspec": {
   "display_name": "Python 3",
   "language": "python",
   "name": "python3"
  },
  "language_info": {
   "codemirror_mode": {
    "name": "ipython",
    "version": 3
   },
   "file_extension": ".py",
   "mimetype": "text/x-python",
   "name": "python",
   "nbconvert_exporter": "python",
   "pygments_lexer": "ipython3",
   "version": "3.9.6"
  },
  "orig_nbformat": 4
 },
 "nbformat": 4,
 "nbformat_minor": 2
}
