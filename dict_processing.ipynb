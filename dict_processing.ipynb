{
 "cells": [
  {
   "cell_type": "code",
   "execution_count": 5,
   "metadata": {},
   "outputs": [],
   "source": [
    "import pandas as pd"
   ]
  },
  {
   "cell_type": "code",
   "execution_count": 6,
   "metadata": {},
   "outputs": [],
   "source": [
    "df = pd.read_csv('./data/otvaranje_novih_artikala_src.csv')"
   ]
  },
  {
   "cell_type": "code",
   "execution_count": 7,
   "metadata": {},
   "outputs": [],
   "source": [
    "df = df.drop_duplicates(subset=['Naziv robe'], keep='first')"
   ]
  },
  {
   "cell_type": "code",
   "execution_count": 20,
   "metadata": {},
   "outputs": [],
   "source": [
    "string_list = ['3MD30111504', '6198084', '6498273',\n",
    "               '71.98251', '31200065', '30200058']\n"
   ]
  },
  {
   "cell_type": "code",
   "execution_count": 21,
   "metadata": {},
   "outputs": [],
   "source": [
    "filtered_df = df[df['Treći naziv robe'].notna(\n",
    ") & df['Treći naziv robe'].str.contains('|'.join(string_list))]\n"
   ]
  },
  {
   "cell_type": "code",
   "execution_count": 22,
   "metadata": {},
   "outputs": [
    {
     "data": {
      "text/html": [
       "<div>\n",
       "<style scoped>\n",
       "    .dataframe tbody tr th:only-of-type {\n",
       "        vertical-align: middle;\n",
       "    }\n",
       "\n",
       "    .dataframe tbody tr th {\n",
       "        vertical-align: top;\n",
       "    }\n",
       "\n",
       "    .dataframe thead th {\n",
       "        text-align: right;\n",
       "    }\n",
       "</style>\n",
       "<table border=\"1\" class=\"dataframe\">\n",
       "  <thead>\n",
       "    <tr style=\"text-align: right;\">\n",
       "      <th></th>\n",
       "      <th>Bar kod</th>\n",
       "      <th>Naziv robe</th>\n",
       "      <th>Kat.broj</th>\n",
       "      <th>Atribut 3</th>\n",
       "      <th>J.mj.</th>\n",
       "      <th>T.b.</th>\n",
       "      <th>Prod.cijena</th>\n",
       "      <th>VPC-PDV</th>\n",
       "      <th>Zalihe</th>\n",
       "      <th>Kol.vlast.</th>\n",
       "      <th>...</th>\n",
       "      <th>gr.p.pot.</th>\n",
       "      <th>nor.amb.</th>\n",
       "      <th>www</th>\n",
       "      <th>težina pak.</th>\n",
       "      <th>j.m.težine</th>\n",
       "      <th>Z/V</th>\n",
       "      <th>Najm.ek.kol.</th>\n",
       "      <th>Traj.isporuke</th>\n",
       "      <th>Traj.proizvod.</th>\n",
       "      <th>Unnamed: 88</th>\n",
       "    </tr>\n",
       "  </thead>\n",
       "  <tbody>\n",
       "    <tr>\n",
       "      <th>3541</th>\n",
       "      <td>7630040525954</td>\n",
       "      <td>Muške čarape - Low Sock - 30200058 - S</td>\n",
       "      <td>30200058 - S</td>\n",
       "      <td>S</td>\n",
       "      <td>NaN</td>\n",
       "      <td>6</td>\n",
       "      <td>18.45</td>\n",
       "      <td>9.22</td>\n",
       "      <td>4</td>\n",
       "      <td>4</td>\n",
       "      <td>...</td>\n",
       "      <td>NaN</td>\n",
       "      <td>NaN</td>\n",
       "      <td>NaN</td>\n",
       "      <td>NaN</td>\n",
       "      <td>kg</td>\n",
       "      <td>NaN</td>\n",
       "      <td>NaN</td>\n",
       "      <td>NaN</td>\n",
       "      <td>NaN</td>\n",
       "      <td>NaN</td>\n",
       "    </tr>\n",
       "    <tr>\n",
       "      <th>3542</th>\n",
       "      <td>7630040525961</td>\n",
       "      <td>Muške čarape - Low Sock - 30200058 - M</td>\n",
       "      <td>30200058 - M</td>\n",
       "      <td>M</td>\n",
       "      <td>NaN</td>\n",
       "      <td>6</td>\n",
       "      <td>18.45</td>\n",
       "      <td>9.22</td>\n",
       "      <td>10</td>\n",
       "      <td>10</td>\n",
       "      <td>...</td>\n",
       "      <td>NaN</td>\n",
       "      <td>NaN</td>\n",
       "      <td>NaN</td>\n",
       "      <td>NaN</td>\n",
       "      <td>kg</td>\n",
       "      <td>NaN</td>\n",
       "      <td>NaN</td>\n",
       "      <td>NaN</td>\n",
       "      <td>NaN</td>\n",
       "      <td>NaN</td>\n",
       "    </tr>\n",
       "    <tr>\n",
       "      <th>3543</th>\n",
       "      <td>7630040525978</td>\n",
       "      <td>Muške čarape - Low Sock - 30200058 - L</td>\n",
       "      <td>30200058 - L</td>\n",
       "      <td>L</td>\n",
       "      <td>NaN</td>\n",
       "      <td>6</td>\n",
       "      <td>18.45</td>\n",
       "      <td>9.22</td>\n",
       "      <td>8</td>\n",
       "      <td>8</td>\n",
       "      <td>...</td>\n",
       "      <td>NaN</td>\n",
       "      <td>NaN</td>\n",
       "      <td>NaN</td>\n",
       "      <td>NaN</td>\n",
       "      <td>kg</td>\n",
       "      <td>NaN</td>\n",
       "      <td>NaN</td>\n",
       "      <td>NaN</td>\n",
       "      <td>NaN</td>\n",
       "      <td>NaN</td>\n",
       "    </tr>\n",
       "    <tr>\n",
       "      <th>3554</th>\n",
       "      <td>7630040526197</td>\n",
       "      <td>Muške čarape - Mid Sock - 31200065 - S</td>\n",
       "      <td>31200065 - S</td>\n",
       "      <td>S</td>\n",
       "      <td>NaN</td>\n",
       "      <td>6</td>\n",
       "      <td>19.78</td>\n",
       "      <td>9.89</td>\n",
       "      <td>3</td>\n",
       "      <td>3</td>\n",
       "      <td>...</td>\n",
       "      <td>NaN</td>\n",
       "      <td>NaN</td>\n",
       "      <td>NaN</td>\n",
       "      <td>NaN</td>\n",
       "      <td>kg</td>\n",
       "      <td>NaN</td>\n",
       "      <td>NaN</td>\n",
       "      <td>NaN</td>\n",
       "      <td>NaN</td>\n",
       "      <td>NaN</td>\n",
       "    </tr>\n",
       "    <tr>\n",
       "      <th>3555</th>\n",
       "      <td>7630040526203</td>\n",
       "      <td>Muške čarape - Mid Sock - 31200065 - M</td>\n",
       "      <td>31200065 - M</td>\n",
       "      <td>M</td>\n",
       "      <td>NaN</td>\n",
       "      <td>6</td>\n",
       "      <td>19.78</td>\n",
       "      <td>9.89</td>\n",
       "      <td>4</td>\n",
       "      <td>4</td>\n",
       "      <td>...</td>\n",
       "      <td>NaN</td>\n",
       "      <td>NaN</td>\n",
       "      <td>NaN</td>\n",
       "      <td>NaN</td>\n",
       "      <td>kg</td>\n",
       "      <td>NaN</td>\n",
       "      <td>NaN</td>\n",
       "      <td>NaN</td>\n",
       "      <td>NaN</td>\n",
       "      <td>NaN</td>\n",
       "    </tr>\n",
       "    <tr>\n",
       "      <th>3556</th>\n",
       "      <td>7630040526210</td>\n",
       "      <td>Muške čarape - Mid Sock - 31200065 - L</td>\n",
       "      <td>31200065 - L</td>\n",
       "      <td>L</td>\n",
       "      <td>NaN</td>\n",
       "      <td>6</td>\n",
       "      <td>19.78</td>\n",
       "      <td>9.89</td>\n",
       "      <td>2</td>\n",
       "      <td>2</td>\n",
       "      <td>...</td>\n",
       "      <td>NaN</td>\n",
       "      <td>NaN</td>\n",
       "      <td>NaN</td>\n",
       "      <td>NaN</td>\n",
       "      <td>kg</td>\n",
       "      <td>NaN</td>\n",
       "      <td>NaN</td>\n",
       "      <td>NaN</td>\n",
       "      <td>NaN</td>\n",
       "      <td>NaN</td>\n",
       "    </tr>\n",
       "    <tr>\n",
       "      <th>3605</th>\n",
       "      <td>7630419177302</td>\n",
       "      <td>Muške tenisice za trčanje - Cloudvista - 6498273</td>\n",
       "      <td>6498273 - 430</td>\n",
       "      <td>9,5</td>\n",
       "      <td>par</td>\n",
       "      <td>6</td>\n",
       "      <td>159.95</td>\n",
       "      <td>79.98</td>\n",
       "      <td>1</td>\n",
       "      <td>1</td>\n",
       "      <td>...</td>\n",
       "      <td>NaN</td>\n",
       "      <td>NaN</td>\n",
       "      <td>suho četkanje</td>\n",
       "      <td>NaN</td>\n",
       "      <td>kg</td>\n",
       "      <td>NaN</td>\n",
       "      <td>NaN</td>\n",
       "      <td>NaN</td>\n",
       "      <td>NaN</td>\n",
       "      <td>NaN</td>\n",
       "    </tr>\n",
       "    <tr>\n",
       "      <th>3655</th>\n",
       "      <td>7630867814811</td>\n",
       "      <td>Muške tenisice za trčanje - Cloudstratus 3 - 3...</td>\n",
       "      <td>3MD30111504 - 430</td>\n",
       "      <td>9,5</td>\n",
       "      <td>par</td>\n",
       "      <td>6</td>\n",
       "      <td>189.95</td>\n",
       "      <td>94.98</td>\n",
       "      <td>2</td>\n",
       "      <td>2</td>\n",
       "      <td>...</td>\n",
       "      <td>NaN</td>\n",
       "      <td>NaN</td>\n",
       "      <td>suho četkanje</td>\n",
       "      <td>NaN</td>\n",
       "      <td>kg</td>\n",
       "      <td>NaN</td>\n",
       "      <td>NaN</td>\n",
       "      <td>NaN</td>\n",
       "      <td>NaN</td>\n",
       "      <td>NaN</td>\n",
       "    </tr>\n",
       "    <tr>\n",
       "      <th>3661</th>\n",
       "      <td>7630867822571</td>\n",
       "      <td>Muške tenisice za trčanje - Cloudmonster - 619...</td>\n",
       "      <td>6198084 - 430</td>\n",
       "      <td>9,5</td>\n",
       "      <td>par</td>\n",
       "      <td>6</td>\n",
       "      <td>179.95</td>\n",
       "      <td>89.98</td>\n",
       "      <td>2</td>\n",
       "      <td>2</td>\n",
       "      <td>...</td>\n",
       "      <td>NaN</td>\n",
       "      <td>NaN</td>\n",
       "      <td>suho četkanje</td>\n",
       "      <td>NaN</td>\n",
       "      <td>kg</td>\n",
       "      <td>NaN</td>\n",
       "      <td>NaN</td>\n",
       "      <td>NaN</td>\n",
       "      <td>NaN</td>\n",
       "      <td>NaN</td>\n",
       "    </tr>\n",
       "  </tbody>\n",
       "</table>\n",
       "<p>9 rows × 89 columns</p>\n",
       "</div>"
      ],
      "text/plain": [
       "            Bar kod                                         Naziv robe   \n",
       "3541  7630040525954             Muške čarape - Low Sock - 30200058 - S  \\\n",
       "3542  7630040525961             Muške čarape - Low Sock - 30200058 - M   \n",
       "3543  7630040525978             Muške čarape - Low Sock - 30200058 - L   \n",
       "3554  7630040526197             Muške čarape - Mid Sock - 31200065 - S   \n",
       "3555  7630040526203             Muške čarape - Mid Sock - 31200065 - M   \n",
       "3556  7630040526210             Muške čarape - Mid Sock - 31200065 - L   \n",
       "3605  7630419177302   Muške tenisice za trčanje - Cloudvista - 6498273   \n",
       "3655  7630867814811  Muške tenisice za trčanje - Cloudstratus 3 - 3...   \n",
       "3661  7630867822571  Muške tenisice za trčanje - Cloudmonster - 619...   \n",
       "\n",
       "               Kat.broj Atribut 3 J.mj.  T.b.  Prod.cijena  VPC-PDV  Zalihe   \n",
       "3541       30200058 - S         S   NaN     6        18.45     9.22       4  \\\n",
       "3542       30200058 - M         M   NaN     6        18.45     9.22      10   \n",
       "3543       30200058 - L         L   NaN     6        18.45     9.22       8   \n",
       "3554       31200065 - S         S   NaN     6        19.78     9.89       3   \n",
       "3555       31200065 - M         M   NaN     6        19.78     9.89       4   \n",
       "3556       31200065 - L         L   NaN     6        19.78     9.89       2   \n",
       "3605      6498273 - 430       9,5   par     6       159.95    79.98       1   \n",
       "3655  3MD30111504 - 430       9,5   par     6       189.95    94.98       2   \n",
       "3661      6198084 - 430       9,5   par     6       179.95    89.98       2   \n",
       "\n",
       "      Kol.vlast.  ...  gr.p.pot.  nor.amb.            www  težina pak.   \n",
       "3541           4  ...        NaN       NaN            NaN          NaN  \\\n",
       "3542          10  ...        NaN       NaN            NaN          NaN   \n",
       "3543           8  ...        NaN       NaN            NaN          NaN   \n",
       "3554           3  ...        NaN       NaN            NaN          NaN   \n",
       "3555           4  ...        NaN       NaN            NaN          NaN   \n",
       "3556           2  ...        NaN       NaN            NaN          NaN   \n",
       "3605           1  ...        NaN       NaN  suho četkanje          NaN   \n",
       "3655           2  ...        NaN       NaN  suho četkanje          NaN   \n",
       "3661           2  ...        NaN       NaN  suho četkanje          NaN   \n",
       "\n",
       "      j.m.težine  Z/V  Najm.ek.kol.  Traj.isporuke Traj.proizvod. Unnamed: 88  \n",
       "3541          kg  NaN           NaN            NaN            NaN         NaN  \n",
       "3542          kg  NaN           NaN            NaN            NaN         NaN  \n",
       "3543          kg  NaN           NaN            NaN            NaN         NaN  \n",
       "3554          kg  NaN           NaN            NaN            NaN         NaN  \n",
       "3555          kg  NaN           NaN            NaN            NaN         NaN  \n",
       "3556          kg  NaN           NaN            NaN            NaN         NaN  \n",
       "3605          kg  NaN           NaN            NaN            NaN         NaN  \n",
       "3655          kg  NaN           NaN            NaN            NaN         NaN  \n",
       "3661          kg  NaN           NaN            NaN            NaN         NaN  \n",
       "\n",
       "[9 rows x 89 columns]"
      ]
     },
     "execution_count": 22,
     "metadata": {},
     "output_type": "execute_result"
    }
   ],
   "source": [
    "filtered_df"
   ]
  },
  {
   "cell_type": "code",
   "execution_count": 12,
   "metadata": {},
   "outputs": [],
   "source": [
    "modeli = filtered_df['Naziv robe'].str.split(' - ').str[1].str.title()"
   ]
  },
  {
   "cell_type": "code",
   "execution_count": 13,
   "metadata": {},
   "outputs": [
    {
     "data": {
      "text/plain": [
       "967       Shadow-5000\n",
       "1582    Jazz-Original\n",
       "1629      Jazz-Triple\n",
       "1665      Shadow-5000\n",
       "1683      Shadow-6000\n",
       "1735      Jazz-Triple\n",
       "1744      Jazz-Triple\n",
       "Name: Naziv robe, dtype: object"
      ]
     },
     "execution_count": 13,
     "metadata": {},
     "output_type": "execute_result"
    }
   ],
   "source": [
    "hyphenated_modeli = modeli.apply(lambda x: '-'.join(x.split()))\n",
    "\n",
    "hyphenated_modeli = hyphenated_modeli.str.replace('.', '')\n",
    "hyphenated_modeli"
   ]
  },
  {
   "cell_type": "code",
   "execution_count": 14,
   "metadata": {},
   "outputs": [],
   "source": [
    "nazivi = filtered_df['Naziv robe'].str.split(' - ').str[0].str.lower()\n",
    "\n",
    "international_nazivi = nazivi.str.replace('[čćžšđ]', lambda x: {'č': 'c', 'ć': 'c', 'ž': 'z', 'š': 's', 'đ': 'd'}[x.group()], regex=True)\n",
    "\n",
    "proper_nazivi = international_nazivi.str.split().apply(lambda x: x[-1] + ' ' + ' '.join(x[:-1]))\n",
    "\n",
    "hyphenated_nazivi = proper_nazivi.apply(lambda x: '-'.join(x.split()))\n",
    "\n",
    "nice_nazivi = hyphenated_nazivi.str.replace('.', '')"
   ]
  },
  {
   "cell_type": "code",
   "execution_count": 15,
   "metadata": {},
   "outputs": [
    {
     "data": {
      "text/plain": [
       "967        Shadow-5000-muska-tenisica\n",
       "1582    Jazz-Original-zenska-tenisica\n",
       "1629      Jazz-Triple-zenska-tenisica\n",
       "1665       Shadow-5000-muska-tenisica\n",
       "1683      Shadow-6000-unisex-tenisica\n",
       "1735      Jazz-Triple-zenska-tenisica\n",
       "1744      Jazz-Triple-zenska-tenisica\n",
       "Name: Naziv robe, dtype: object"
      ]
     },
     "execution_count": 15,
     "metadata": {},
     "output_type": "execute_result"
    }
   ],
   "source": [
    "modeli_i_nazivi = hyphenated_modeli.str.cat(nice_nazivi, sep='-')\n",
    "modeli_i_nazivi"
   ]
  },
  {
   "cell_type": "code",
   "execution_count": 16,
   "metadata": {},
   "outputs": [],
   "source": [
    "modeli_i_nazivi = 'SAUCONY-ORIGINALS-' + modeli_i_nazivi\n"
   ]
  },
  {
   "cell_type": "code",
   "execution_count": 17,
   "metadata": {},
   "outputs": [
    {
     "name": "stderr",
     "output_type": "stream",
     "text": [
      "/var/folders/gy/zcznmp2j6zl5wp4llmj9c6sc0000gn/T/ipykernel_61113/4045018949.py:1: SettingWithCopyWarning: \n",
      "A value is trying to be set on a copy of a slice from a DataFrame.\n",
      "Try using .loc[row_indexer,col_indexer] = value instead\n",
      "\n",
      "See the caveats in the documentation: https://pandas.pydata.org/pandas-docs/stable/user_guide/indexing.html#returning-a-view-versus-a-copy\n",
      "  filtered_df['the-string'] = modeli_i_nazivi.str.cat(df['Treći naziv robe'], sep='-')\n"
     ]
    }
   ],
   "source": [
    "filtered_df['the-string'] = modeli_i_nazivi.str.cat(df['Treći naziv robe'], sep='-')\n"
   ]
  },
  {
   "cell_type": "code",
   "execution_count": 18,
   "metadata": {},
   "outputs": [],
   "source": [
    "sku_model_dict = filtered_df.set_index('Treći naziv robe')['the-string'].to_dict()\n"
   ]
  },
  {
   "cell_type": "code",
   "execution_count": 19,
   "metadata": {},
   "outputs": [
    {
     "data": {
      "text/plain": [
       "{'S70665-3': 'SAUCONY-ORIGINALS-Shadow-5000-muska-tenisica-S70665-3',\n",
       " 'S1044-668': 'SAUCONY-ORIGINALS-Jazz-Original-zenska-tenisica-S1044-668',\n",
       " 'S60530-21': 'SAUCONY-ORIGINALS-Jazz-Triple-zenska-tenisica-S60530-21',\n",
       " 'S70665-14': 'SAUCONY-ORIGINALS-Shadow-5000-muska-tenisica-S70665-14',\n",
       " 'S70700-1': 'SAUCONY-ORIGINALS-Shadow-6000-unisex-tenisica-S70700-1',\n",
       " 'S60690-1': 'SAUCONY-ORIGINALS-Jazz-Triple-zenska-tenisica-S60690-1',\n",
       " 'S60690-2': 'SAUCONY-ORIGINALS-Jazz-Triple-zenska-tenisica-S60690-2'}"
      ]
     },
     "execution_count": 19,
     "metadata": {},
     "output_type": "execute_result"
    }
   ],
   "source": [
    "sku_model_dict"
   ]
  },
  {
   "cell_type": "code",
   "execution_count": null,
   "metadata": {},
   "outputs": [],
   "source": []
  },
  {
   "cell_type": "code",
   "execution_count": null,
   "metadata": {},
   "outputs": [],
   "source": []
  },
  {
   "cell_type": "code",
   "execution_count": null,
   "metadata": {},
   "outputs": [],
   "source": []
  },
  {
   "cell_type": "code",
   "execution_count": 50,
   "metadata": {},
   "outputs": [],
   "source": [
    "df_filtered = df_filtered.drop(\n",
    "    columns=['Redovna cijena', 'Podloga', 'Veličina', 'Količina'])\n"
   ]
  },
  {
   "cell_type": "code",
   "execution_count": 55,
   "metadata": {},
   "outputs": [],
   "source": [
    "df_filtered['Kratki opis'] = df_filtered['Kratki opis'].str.lower()\n",
    "df_filtered['Kratki opis'] = df_filtered['Kratki opis'].str.replace(\n",
    "    '[čćžšđ]', lambda x: {'č': 'c', 'ć': 'c', 'ž': 'z', 'š': 's', 'đ': 'd'}[x.group()], regex=True)\n"
   ]
  },
  {
   "cell_type": "code",
   "execution_count": 58,
   "metadata": {},
   "outputs": [],
   "source": [
    "df_filtered['Kratki opis'] = df_filtered['Kratki opis'].str.replace('zenske', 'zenska')\n",
    "df_filtered['Kratki opis'] = df_filtered['Kratki opis'].str.replace('muske', 'muska')\n",
    "df_filtered['Kratki opis'] = df_filtered['Kratki opis'].str.replace('tenisice', 'tenisica')\n"
   ]
  },
  {
   "cell_type": "code",
   "execution_count": 62,
   "metadata": {},
   "outputs": [],
   "source": [
    "df_filtered['Kratki opis'] = df_filtered['Kratki opis'].str.replace(' ', '-')\n",
    "df_filtered['Unnamed: 3'] = df_filtered['Unnamed: 3'].str.replace(' ', '-')"
   ]
  },
  {
   "cell_type": "code",
   "execution_count": 65,
   "metadata": {},
   "outputs": [],
   "source": [
    "df_filtered['out'] = pd.concat(\n",
    "    [df_filtered['Unnamed: 3'], df_filtered['Kratki opis'], df_filtered['PARENT SKU']], axis=1, join='inner').apply('-'.join, axis=1)"
   ]
  },
  {
   "cell_type": "code",
   "execution_count": 67,
   "metadata": {},
   "outputs": [],
   "source": [
    "sku_dict = df_filtered.set_index('PARENT SKU')['out'].to_dict()"
   ]
  },
  {
   "cell_type": "code",
   "execution_count": 70,
   "metadata": {},
   "outputs": [
    {
     "data": {
      "text/plain": [
       "{'SA81484-BK': 'SAUCONY-Scoot-Capri-zenska-kratke-tajice-SA81484-BK',\n",
       " 'S10654-45': 'SAUCONY-Guide-14-zenska-tenisica-za-trcanje-S10654-45',\n",
       " 'S20654-45': 'SAUCONY-Guide-14-muska-tenisica-za-trcanje-S20654-45',\n",
       " 'S20654-55': 'SAUCONY-Guide-14-muska-tenisica-za-trcanje-S20654-55',\n",
       " 'S70532-1': 'SAUCONY-Grid-Web-unisex-tenisica-S70532-1',\n",
       " 'S70555-4': 'SAUCONY-Jazz-Court-unisex-tenisica-S70555-4',\n",
       " 'S70555-5': 'SAUCONY-Jazz-Court-unisex-tenisica-S70555-5',\n",
       " 'S10650-35': 'SAUCONY-Ride-14-zenska-tenisica-za-trcanje-S10650-35',\n",
       " 'S2108-790': 'SAUCONY-Shadow-Original-muska-tenisica-S2108-790',\n",
       " 'S10684-26': 'SAUCONY-Guide-15-zenska-tenisica-za-trcanje-S10684-26',\n",
       " 'S20723-45': 'SAUCONY-Kinvara-13-muska-tenisica-za-trcanje-S20723-45',\n",
       " 'S20678-16': 'SAUCONY-Triumph-19-muska-tenisica-za-trcanje-S20678-16',\n",
       " 'S20681-16': 'SAUCONY-Omni-20-muska-tenisica-za-trcanje-S20681-16',\n",
       " 'S20687-45': 'SAUCONY-Endorphin-Pro-2-muska-tenisica-za-trcanje-S20687-45',\n",
       " 'S20688-16': 'SAUCONY-Endorphin-Speed-2-muska-tenisica-za-trcanje-S20688-16',\n",
       " 'S20688-45': 'SAUCONY-Endorphin-Speed-2-muska-tenisica-za-trcanje-S20688-45',\n",
       " 'S20759-31': 'SAUCONY-Triumph-20-muska-tenisica-za-trcanje-S20759-31',\n",
       " 'S20813-65': 'SAUCONY-Endorphin-Shift-3-muska-tenisica-za-trcanje-S20813-65',\n",
       " 'S10737-30': 'SAUCONY-Peregrine-12-zenska-tenisica-za-trail-trcanje-S10737-30',\n",
       " 'SAW800283-RED': 'SAUCONY-Stopwatch-Short-Sleeve-zenska-majica--SAW800283-RED',\n",
       " 'SA81165-BK': 'SAUCONY-Hydralite-Short-Sleeve-muska-majica-kratki-rukav-SA81165-BK',\n",
       " 'SA81211-CRBH': 'SAUCONY-Dash-Seamless-Sportop-muska-majica-dugi-rukav-SA81211-CRBH',\n",
       " 'S10293-4': 'SAUCONY-Hurricane-ISO-2-zenska-tenisica-za-trcanje-S10293-4',\n",
       " 'SA81538-BAR': 'SAUCONY-Hydralite-Short-Sleeve-muska-majica-kratki-rukav-SA81538-BAR',\n",
       " 'SA81750-RWP': 'SAUCONY-Scoot-Crop-zenska-tajice-SA81750-RWP',\n",
       " 'SA81165-VPS': 'SAUCONY-Hydralite-Short-Sleeve-muska-majica-kratki-rukav-SA81165-VPS',\n",
       " 'SA81538-VCT': 'SAUCONY-Hydralite-Short-Sleeve-zenska-majica--SA81538-VCT',\n",
       " 'SA81750-MLT': 'SAUCONY-Scoot-Crop-zenska-tajice-SA81750-MLT',\n",
       " 'SAM800019-BKH': 'SAUCONY-Seamless-Sportop-muska-majica-dugi-rukav-SAM800019-BKH'}"
      ]
     },
     "execution_count": 70,
     "metadata": {},
     "output_type": "execute_result"
    }
   ],
   "source": [
    "sku_dict"
   ]
  },
  {
   "cell_type": "code",
   "execution_count": null,
   "metadata": {},
   "outputs": [],
   "source": []
  }
 ],
 "metadata": {
  "kernelspec": {
   "display_name": "Python 3",
   "language": "python",
   "name": "python3"
  },
  "language_info": {
   "codemirror_mode": {
    "name": "ipython",
    "version": 3
   },
   "file_extension": ".py",
   "mimetype": "text/x-python",
   "name": "python",
   "nbconvert_exporter": "python",
   "pygments_lexer": "ipython3",
   "version": "3.9.6"
  },
  "orig_nbformat": 4
 },
 "nbformat": 4,
 "nbformat_minor": 2
}
